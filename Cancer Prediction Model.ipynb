{
 "cells": [
  {
   "cell_type": "markdown",
   "id": "719178d0",
   "metadata": {},
   "source": [
    "# Cancer Preiction Model"
   ]
  },
  {
   "cell_type": "markdown",
   "id": "8d0abbe5",
   "metadata": {},
   "source": [
    "Cancer poses a substantial global health challenge; however, ongoing progress in research, early detection\n",
    "methods, and treatment option provides optimism for enhanced patient outcomes. Intrigued by the quest for \n",
    "a deeper understanding of the determinants contributing to the onset of cancer,I find myself compelled to embark on this\n",
    "project."
   ]
  },
  {
   "cell_type": "markdown",
   "id": "ebb97abf",
   "metadata": {},
   "source": [
    "### Mision and vision"
   ]
  },
  {
   "cell_type": "markdown",
   "id": "94baff8b",
   "metadata": {},
   "source": [
    "This undertaking aspires to meticulously explore and construct a machine learning model with the primary objective of \n",
    "Predicting the likelihood of a Patient getting cancer giving certain health records such as age, gender, smoking, fatigue\n",
    "and allergy."
   ]
  },
  {
   "cell_type": "markdown",
   "id": "4ae5e24a",
   "metadata": {},
   "source": [
    "### About the dataset"
   ]
  },
  {
   "cell_type": "markdown",
   "id": "4519a102",
   "metadata": {},
   "source": [
    "Constrained by the ethical considerations surrounding data usage, stringent public health privacy policies,\n",
    "and challenges associated with suboptimal data collection practices,authentic datasets for my project were unattainable.\n",
    "I have acquired synthetic data from Kaggle.com, which will serve as the cornerstone for my project.\n",
    "\n",
    "For the gender variable\n",
    "> Male----0\n",
    "\n",
    "\n",
    "> Female--1\n",
    "\n",
    "for the other variables/features\n",
    "> yes/Positive----1\n",
    "\n",
    "\n",
    "> No/Negative-----0"
   ]
  },
  {
   "cell_type": "code",
   "execution_count": 1,
   "id": "286524ef",
   "metadata": {},
   "outputs": [],
   "source": [
    "# import libraries\n",
    "import pandas as pd\n",
    "import matplotlib.pyplot as plt\n",
    "import seaborn as sns\n",
    "from sklearn.ensemble import RandomForestClassifier\n",
    "from sklearn.metrics import ConfusionMatrixDisplay\n",
    "from sklearn.model_selection import GridSearchCV, train_test_split\n",
    "from sklearn.metrics import ConfusionMatrixDisplay, recall_score, accuracy_score, roc_auc_score, f1_score, precision_score\n",
    "from imblearn.over_sampling import RandomOverSampler"
   ]
  },
  {
   "cell_type": "code",
   "execution_count": 2,
   "id": "c62bb26c",
   "metadata": {},
   "outputs": [
    {
     "name": "stdout",
     "output_type": "stream",
     "text": [
      "The data set has 10000 observations and 6 variables\n"
     ]
    },
    {
     "data": {
      "text/html": [
       "<div>\n",
       "<style scoped>\n",
       "    .dataframe tbody tr th:only-of-type {\n",
       "        vertical-align: middle;\n",
       "    }\n",
       "\n",
       "    .dataframe tbody tr th {\n",
       "        vertical-align: top;\n",
       "    }\n",
       "\n",
       "    .dataframe thead th {\n",
       "        text-align: right;\n",
       "    }\n",
       "</style>\n",
       "<table border=\"1\" class=\"dataframe\">\n",
       "  <thead>\n",
       "    <tr style=\"text-align: right;\">\n",
       "      <th></th>\n",
       "      <th>Gender</th>\n",
       "      <th>Age</th>\n",
       "      <th>Smoking</th>\n",
       "      <th>Fatigue</th>\n",
       "      <th>Allergy</th>\n",
       "      <th>Cancer</th>\n",
       "    </tr>\n",
       "  </thead>\n",
       "  <tbody>\n",
       "    <tr>\n",
       "      <th>0</th>\n",
       "      <td>1</td>\n",
       "      <td>85</td>\n",
       "      <td>1</td>\n",
       "      <td>0</td>\n",
       "      <td>1</td>\n",
       "      <td>0</td>\n",
       "    </tr>\n",
       "    <tr>\n",
       "      <th>1</th>\n",
       "      <td>1</td>\n",
       "      <td>93</td>\n",
       "      <td>0</td>\n",
       "      <td>0</td>\n",
       "      <td>0</td>\n",
       "      <td>0</td>\n",
       "    </tr>\n",
       "    <tr>\n",
       "      <th>2</th>\n",
       "      <td>1</td>\n",
       "      <td>72</td>\n",
       "      <td>0</td>\n",
       "      <td>1</td>\n",
       "      <td>0</td>\n",
       "      <td>0</td>\n",
       "    </tr>\n",
       "    <tr>\n",
       "      <th>3</th>\n",
       "      <td>0</td>\n",
       "      <td>58</td>\n",
       "      <td>0</td>\n",
       "      <td>0</td>\n",
       "      <td>1</td>\n",
       "      <td>0</td>\n",
       "    </tr>\n",
       "    <tr>\n",
       "      <th>4</th>\n",
       "      <td>1</td>\n",
       "      <td>95</td>\n",
       "      <td>1</td>\n",
       "      <td>0</td>\n",
       "      <td>1</td>\n",
       "      <td>1</td>\n",
       "    </tr>\n",
       "  </tbody>\n",
       "</table>\n",
       "</div>"
      ],
      "text/plain": [
       "   Gender  Age  Smoking  Fatigue  Allergy  Cancer\n",
       "0       1   85        1        0        1       0\n",
       "1       1   93        0        0        0       0\n",
       "2       1   72        0        1        0       0\n",
       "3       0   58        0        0        1       0\n",
       "4       1   95        1        0        1       1"
      ]
     },
     "execution_count": 2,
     "metadata": {},
     "output_type": "execute_result"
    }
   ],
   "source": [
    "# Import dataset\n",
    "df = pd.read_csv('cancer_prediction_dataset.csv')\n",
    "print(f'The data set has {df.shape[0]} observations and {df.shape[1]} variables')\n",
    "df.head()"
   ]
  },
  {
   "cell_type": "code",
   "execution_count": 3,
   "id": "17be7aa3",
   "metadata": {},
   "outputs": [
    {
     "name": "stdout",
     "output_type": "stream",
     "text": [
      "<class 'pandas.core.frame.DataFrame'>\n",
      "RangeIndex: 10000 entries, 0 to 9999\n",
      "Data columns (total 6 columns):\n",
      " #   Column   Non-Null Count  Dtype\n",
      "---  ------   --------------  -----\n",
      " 0   Gender   10000 non-null  int64\n",
      " 1   Age      10000 non-null  int64\n",
      " 2   Smoking  10000 non-null  int64\n",
      " 3   Fatigue  10000 non-null  int64\n",
      " 4   Allergy  10000 non-null  int64\n",
      " 5   Cancer   10000 non-null  int64\n",
      "dtypes: int64(6)\n",
      "memory usage: 468.9 KB\n"
     ]
    }
   ],
   "source": [
    "# Information about the dataset\n",
    "df.info()"
   ]
  },
  {
   "cell_type": "code",
   "execution_count": 4,
   "id": "a341a40f",
   "metadata": {},
   "outputs": [
    {
     "name": "stdout",
     "output_type": "stream",
     "text": [
      "Gender     0\n",
      "Age        0\n",
      "Smoking    0\n",
      "Fatigue    0\n",
      "Allergy    0\n",
      "Cancer     0\n",
      "dtype: int64\n"
     ]
    }
   ],
   "source": [
    "# checking for missing values\n",
    "print(df.isnull().sum())"
   ]
  },
  {
   "cell_type": "markdown",
   "id": "179447b4",
   "metadata": {},
   "source": [
    "#### All Variables look great with no missing data"
   ]
  },
  {
   "cell_type": "code",
   "execution_count": 5,
   "id": "77ea8bb7",
   "metadata": {},
   "outputs": [
    {
     "data": {
      "text/plain": [
       "Index(['Gender', 'Age', 'Smoking', 'Fatigue', 'Allergy', 'Cancer'], dtype='object')"
      ]
     },
     "execution_count": 5,
     "metadata": {},
     "output_type": "execute_result"
    }
   ],
   "source": [
    "# Printing all the columns of the dataset\n",
    "df.columns"
   ]
  },
  {
   "cell_type": "markdown",
   "id": "2abfc1f0",
   "metadata": {},
   "source": [
    "# Exploratory Data Analysis [EDA]"
   ]
  },
  {
   "cell_type": "code",
   "execution_count": 6,
   "id": "5d074d11",
   "metadata": {},
   "outputs": [
    {
     "name": "stdout",
     "output_type": "stream",
     "text": [
      "1    5002\n",
      "0    4998\n",
      "Name: Smoking, dtype: int64\n",
      "-----------------------------------\n",
      "0    5025\n",
      "1    4975\n",
      "Name: Gender, dtype: int64\n",
      "-----------------------------------\n",
      "1    5018\n",
      "0    4982\n",
      "Name: Fatigue, dtype: int64\n",
      "-----------------------------------\n",
      "0    5001\n",
      "1    4999\n",
      "Name: Allergy, dtype: int64\n",
      "-----------------------------------\n",
      "0    9036\n",
      "1     964\n",
      "Name: Cancer, dtype: int64\n",
      "-----------------------------------\n"
     ]
    }
   ],
   "source": [
    "# Performing value counts for all the features\n",
    "cols=['Smoking', 'Gender','Fatigue', 'Allergy', 'Cancer']\n",
    "for col in cols:\n",
    "    print(df[col].value_counts())\n",
    "    print('-'*35)"
   ]
  },
  {
   "cell_type": "markdown",
   "id": "59850ce1",
   "metadata": {},
   "source": [
    ">There a lot of male patients than female Patient\n",
    "\n",
    "> patients who smoke are higher than those who do not smoke\n",
    "\n",
    ">Patients who suffer from fatigue are higher than those who do not suffer from fatigue\n",
    "\n",
    ">Patients without allergies are higher than those with allergies\n",
    "\n",
    ">Patients who do not suffer from cancer are higher than those who suffer from cancer\n"
   ]
  },
  {
   "cell_type": "code",
   "execution_count": 7,
   "id": "7bc8175d",
   "metadata": {},
   "outputs": [
    {
     "name": "stdout",
     "output_type": "stream",
     "text": [
      "0    5025\n",
      "1    4975\n",
      "Name: Gender, dtype: int64\n"
     ]
    },
    {
     "data": {
      "image/png": "[encoded data removed]",
      "text/plain": [
       "<Figure size 576x432 with 1 Axes>"
      ]
     },
     "metadata": {},
     "output_type": "display_data"
    }
   ],
   "source": [
    "# GENDER\n",
    "sns.set(rc={'figure.figsize':(8,6)})\n",
    "g = df.Gender.value_counts()\n",
    "print(g)\n",
    "# Visualizing the gender\n",
    "g.sort_values().plot.bar()\n",
    "plt.xlabel('Gender')\n",
    "plt.ylabel('frequency counts')\n",
    "plt.title('Distribution of Gender')\n",
    "plt.xticks(rotation=0);"
   ]
  },
  {
   "cell_type": "code",
   "execution_count": 8,
   "id": "edcdb6aa",
   "metadata": {},
   "outputs": [
    {
     "data": {
      "text/plain": [
       "0    50.25\n",
       "1    49.75\n",
       "Name: Gender, dtype: float64"
      ]
     },
     "execution_count": 8,
     "metadata": {},
     "output_type": "execute_result"
    }
   ],
   "source": [
    "# Proportion of value counts for gender expressed as Percentage(%)\n",
    "g = df.Gender.value_counts(normalize = True) * 100\n",
    "g"
   ]
  },
  {
   "cell_type": "code",
   "execution_count": 9,
   "id": "597d1f5f",
   "metadata": {},
   "outputs": [
    {
     "name": "stdout",
     "output_type": "stream",
     "text": [
      "minimum Age; 18\n",
      "maximum Age; 100\n",
      "mean Age; 59.3184\n",
      "median Age; 60.0\n"
     ]
    },
    {
     "data": {
      "image/png": "[encoded data removed]",
      "text/plain": [
       "<Figure size 576x432 with 1 Axes>"
      ]
     },
     "metadata": {},
     "output_type": "display_data"
    }
   ],
   "source": [
    "# AGE\n",
    "min = df.Age.min()\n",
    "max = df.Age.max()\n",
    "mean = df.Age.mean()\n",
    "median = df.Age.median()\n",
    "print('minimum Age;', min)\n",
    "print('maximum Age;', max)\n",
    "print('mean Age;', mean)\n",
    "print('median Age;', median)\n",
    "# ploting\n",
    "df.Age.hist()\n",
    "plt.axvline(mean,color='r',linewidth=2,linestyle='--',label='mean')\n",
    "plt.axvline(median,color='g',linewidth=2,linestyle='-',label='median')\n",
    "plt.xlabel('Age')\n",
    "plt.ylabel('frequency [count]')\n",
    "plt.title('Distribution of Age')\n",
    "plt.legend();"
   ]
  },
  {
   "cell_type": "markdown",
   "id": "b7a057c3",
   "metadata": {},
   "source": [
    "### Fatigue Analysis"
   ]
  },
  {
   "cell_type": "code",
   "execution_count": 10,
   "id": "5ec861bb",
   "metadata": {},
   "outputs": [
    {
     "data": {
      "image/png": "[encoded data removed]",
      "text/plain": [
       "<Figure size 576x432 with 1 Axes>"
      ]
     },
     "metadata": {},
     "output_type": "display_data"
    }
   ],
   "source": [
    "# VISUALIZATION OF FATIGUE\n",
    "import matplotlib.pyplot as plt\n",
    "df.Fatigue.value_counts().plot(kind='bar')\n",
    "plt.xlabel('Fatigue')\n",
    "plt.ylabel('frequency [counts]')\n",
    "plt.title('Fatigue Counts')\n",
    "plt.xticks(rotation=0);"
   ]
  },
  {
   "cell_type": "code",
   "execution_count": 11,
   "id": "e633b3d6",
   "metadata": {},
   "outputs": [
    {
     "data": {
      "text/html": [
       "<div>\n",
       "<style scoped>\n",
       "    .dataframe tbody tr th:only-of-type {\n",
       "        vertical-align: middle;\n",
       "    }\n",
       "\n",
       "    .dataframe tbody tr th {\n",
       "        vertical-align: top;\n",
       "    }\n",
       "\n",
       "    .dataframe thead th {\n",
       "        text-align: right;\n",
       "    }\n",
       "</style>\n",
       "<table border=\"1\" class=\"dataframe\">\n",
       "  <thead>\n",
       "    <tr style=\"text-align: right;\">\n",
       "      <th></th>\n",
       "      <th>Gender</th>\n",
       "    </tr>\n",
       "  </thead>\n",
       "  <tbody>\n",
       "    <tr>\n",
       "      <th>0</th>\n",
       "      <td>2550</td>\n",
       "    </tr>\n",
       "    <tr>\n",
       "      <th>1</th>\n",
       "      <td>2468</td>\n",
       "    </tr>\n",
       "  </tbody>\n",
       "</table>\n",
       "</div>"
      ],
      "text/plain": [
       "   Gender\n",
       "0    2550\n",
       "1    2468"
      ]
     },
     "execution_count": 11,
     "metadata": {},
     "output_type": "execute_result"
    }
   ],
   "source": [
    "# Gender Distribution of Patients with Fatigue\n",
    "df[df['Fatigue']==1].Gender.value_counts().to_frame()"
   ]
  },
  {
   "cell_type": "markdown",
   "id": "034fbac1",
   "metadata": {},
   "source": [
    "Male patients suffer from fatigue than female patients"
   ]
  },
  {
   "cell_type": "code",
   "execution_count": 12,
   "id": "528abb20",
   "metadata": {},
   "outputs": [
    {
     "name": "stdout",
     "output_type": "stream",
     "text": [
      "percentage of male with fatigue: 50.74626865671642\n",
      "percentage of female with fatigue: 49.608040201005025\n"
     ]
    }
   ],
   "source": [
    "prop_female_fatigue=(2468/4975)*100\n",
    "prop_male_fatigue=(2550/5025)*100\n",
    "print('percentage of male with fatigue:',prop_male_fatigue)\n",
    "print('percentage of female with fatigue:',prop_female_fatigue)"
   ]
  },
  {
   "cell_type": "code",
   "execution_count": 13,
   "id": "30cee364",
   "metadata": {},
   "outputs": [
    {
     "data": {
      "text/plain": [
       "<AxesSubplot:>"
      ]
     },
     "execution_count": 13,
     "metadata": {},
     "output_type": "execute_result"
    },
    {
     "data": {
      "image/png": "[encoded data removed]",
      "text/plain": [
       "<Figure size 576x432 with 1 Axes>"
      ]
     },
     "metadata": {},
     "output_type": "display_data"
    }
   ],
   "source": [
    "# Age Distribution of patients with fatigue\n",
    "df.Fatigue.value_counts()\n",
    "df[df['Fatigue']==1].Age.hist()"
   ]
  },
  {
   "cell_type": "markdown",
   "id": "939283c8",
   "metadata": {},
   "source": [
    "We can see from the distribution that adults patients in the range [20 to 35] and the aged in the range [60 to 100] suffer from \n",
    "fatigue more than every other patient form any other age ranges\n",
    "\n",
    "This can be that majority of adult are in the labour force  and also the aged are weak. \n",
    "Patients within these age ranges are more likely to suffer from fatigue"
   ]
  },
  {
   "cell_type": "markdown",
   "id": "647ba57c",
   "metadata": {},
   "source": [
    "### smoking Analysis"
   ]
  },
  {
   "cell_type": "code",
   "execution_count": 14,
   "id": "03eb22e0",
   "metadata": {},
   "outputs": [
    {
     "data": {
      "image/png": "[encoded data removed]",
      "text/plain": [
       "<Figure size 576x432 with 1 Axes>"
      ]
     },
     "metadata": {},
     "output_type": "display_data"
    }
   ],
   "source": [
    "#VISUALIZATION OF SMOKING [COUNTS]\n",
    "df.Smoking.value_counts().sort_values().plot.bar()\n",
    "plt.xlabel('Smoking Status')\n",
    "plt.ylabel('Smoking Status [counts]')\n",
    "plt.title('Distribution of Smoking Status')\n",
    "plt.xticks(rotation=0);"
   ]
  },
  {
   "cell_type": "code",
   "execution_count": 15,
   "id": "c31dc1d5",
   "metadata": {},
   "outputs": [
    {
     "data": {
      "text/html": [
       "<div>\n",
       "<style scoped>\n",
       "    .dataframe tbody tr th:only-of-type {\n",
       "        vertical-align: middle;\n",
       "    }\n",
       "\n",
       "    .dataframe tbody tr th {\n",
       "        vertical-align: top;\n",
       "    }\n",
       "\n",
       "    .dataframe thead th {\n",
       "        text-align: right;\n",
       "    }\n",
       "</style>\n",
       "<table border=\"1\" class=\"dataframe\">\n",
       "  <thead>\n",
       "    <tr style=\"text-align: right;\">\n",
       "      <th></th>\n",
       "      <th>Gender</th>\n",
       "    </tr>\n",
       "  </thead>\n",
       "  <tbody>\n",
       "    <tr>\n",
       "      <th>1</th>\n",
       "      <td>2508</td>\n",
       "    </tr>\n",
       "    <tr>\n",
       "      <th>0</th>\n",
       "      <td>2494</td>\n",
       "    </tr>\n",
       "  </tbody>\n",
       "</table>\n",
       "</div>"
      ],
      "text/plain": [
       "   Gender\n",
       "1    2508\n",
       "0    2494"
      ]
     },
     "execution_count": 15,
     "metadata": {},
     "output_type": "execute_result"
    }
   ],
   "source": [
    "# Gender Distribution of Patients who Smokes\n",
    "df[df['Smoking']==1].Gender.value_counts().to_frame()"
   ]
  },
  {
   "cell_type": "markdown",
   "id": "77a790ff",
   "metadata": {},
   "source": [
    "Female patients smokes more than male patients"
   ]
  },
  {
   "cell_type": "code",
   "execution_count": 16,
   "id": "5ea70cfd",
   "metadata": {},
   "outputs": [
    {
     "name": "stdout",
     "output_type": "stream",
     "text": [
      "percentage of male who smokes: 49.6318407960199\n",
      "percentage of female who smokes: 50.41206030150753\n"
     ]
    }
   ],
   "source": [
    "prop_female_smokes=(2508/4975)*100\n",
    "prop_male_smokes=(2494/5025)*100\n",
    "print('percentage of male who smokes:',prop_male_smokes)\n",
    "print('percentage of female who smokes:',prop_female_smokes)"
   ]
  },
  {
   "cell_type": "code",
   "execution_count": 17,
   "id": "537b71d6",
   "metadata": {},
   "outputs": [
    {
     "data": {
      "text/plain": [
       "<AxesSubplot:>"
      ]
     },
     "execution_count": 17,
     "metadata": {},
     "output_type": "execute_result"
    },
    {
     "data": {
      "image/png": "[encoded data removed]",
      "text/plain": [
       "<Figure size 576x432 with 1 Axes>"
      ]
     },
     "metadata": {},
     "output_type": "display_data"
    }
   ],
   "source": [
    "# Age Distribution of patients who Smokes\n",
    "df.Smoking.value_counts()\n",
    "df[df['Smoking']==1].Age.hist()"
   ]
  },
  {
   "cell_type": "markdown",
   "id": "9591b7b8",
   "metadata": {},
   "source": [
    "The aged patients in the age range [60 to 100] smokes more than every patients in other age ranges "
   ]
  },
  {
   "cell_type": "markdown",
   "id": "56e31d4b",
   "metadata": {},
   "source": [
    "### Allergy Analysis"
   ]
  },
  {
   "cell_type": "code",
   "execution_count": 18,
   "id": "262e3508",
   "metadata": {},
   "outputs": [
    {
     "data": {
      "image/png": "[encoded data removed]",
      "text/plain": [
       "<Figure size 576x432 with 1 Axes>"
      ]
     },
     "metadata": {},
     "output_type": "display_data"
    }
   ],
   "source": [
    "# VISUALIZATION OF ALLERGY[COUNTS]\n",
    "df.Allergy.value_counts().sort_values().plot(kind='bar')\n",
    "plt.xlabel('Allergy')\n",
    "plt.ylabel('freuency [counts]')\n",
    "plt.title('Allergy Counts')\n",
    "plt.xticks(rotation=0);"
   ]
  },
  {
   "cell_type": "code",
   "execution_count": 19,
   "id": "e3f0bd5b",
   "metadata": {},
   "outputs": [
    {
     "data": {
      "text/html": [
       "<div>\n",
       "<style scoped>\n",
       "    .dataframe tbody tr th:only-of-type {\n",
       "        vertical-align: middle;\n",
       "    }\n",
       "\n",
       "    .dataframe tbody tr th {\n",
       "        vertical-align: top;\n",
       "    }\n",
       "\n",
       "    .dataframe thead th {\n",
       "        text-align: right;\n",
       "    }\n",
       "</style>\n",
       "<table border=\"1\" class=\"dataframe\">\n",
       "  <thead>\n",
       "    <tr style=\"text-align: right;\">\n",
       "      <th></th>\n",
       "      <th>Gender</th>\n",
       "    </tr>\n",
       "  </thead>\n",
       "  <tbody>\n",
       "    <tr>\n",
       "      <th>0</th>\n",
       "      <td>2530</td>\n",
       "    </tr>\n",
       "    <tr>\n",
       "      <th>1</th>\n",
       "      <td>2469</td>\n",
       "    </tr>\n",
       "  </tbody>\n",
       "</table>\n",
       "</div>"
      ],
      "text/plain": [
       "   Gender\n",
       "0    2530\n",
       "1    2469"
      ]
     },
     "execution_count": 19,
     "metadata": {},
     "output_type": "execute_result"
    }
   ],
   "source": [
    "# Gender Distribution of Patients who has allergy\n",
    "df[df['Allergy']==1].Gender.value_counts().to_frame()"
   ]
  },
  {
   "cell_type": "markdown",
   "id": "3658bd6d",
   "metadata": {},
   "source": [
    "Male patients have allergies more than female patients"
   ]
  },
  {
   "cell_type": "code",
   "execution_count": 20,
   "id": "98da3025",
   "metadata": {},
   "outputs": [
    {
     "name": "stdout",
     "output_type": "stream",
     "text": [
      "percentage of male with allergy: 50.34825870646766\n",
      "percentage of female who allergy: 49.62814070351759\n"
     ]
    }
   ],
   "source": [
    "prop_female_allergy=(2469/4975)*100\n",
    "prop_male_allergy=(2530/5025)*100\n",
    "print('percentage of male with allergy:',prop_male_allergy)\n",
    "print('percentage of female who allergy:',prop_female_allergy)"
   ]
  },
  {
   "cell_type": "code",
   "execution_count": 21,
   "id": "4b993233",
   "metadata": {},
   "outputs": [
    {
     "data": {
      "text/plain": [
       "<AxesSubplot:>"
      ]
     },
     "execution_count": 21,
     "metadata": {},
     "output_type": "execute_result"
    },
    {
     "data": {
      "image/png": "[encoded data removed]",
      "text/plain": [
       "<Figure size 576x432 with 1 Axes>"
      ]
     },
     "metadata": {},
     "output_type": "display_data"
    }
   ],
   "source": [
    "# Age Distribution of patients with Allergies\n",
    "df.Smoking.value_counts()\n",
    "df[df['Allergy']==1].Age.hist()"
   ]
  },
  {
   "cell_type": "markdown",
   "id": "b527abf5",
   "metadata": {},
   "source": [
    "The aged patients in the age range [60 to 100] have allergies more than every patients in other age ranges"
   ]
  },
  {
   "cell_type": "markdown",
   "id": "c1b917e2",
   "metadata": {},
   "source": [
    "### CANCER ANALYSIS"
   ]
  },
  {
   "cell_type": "code",
   "execution_count": 22,
   "id": "37174467",
   "metadata": {},
   "outputs": [
    {
     "name": "stdout",
     "output_type": "stream",
     "text": [
      "0    90.36\n",
      "1     9.64\n",
      "Name: Cancer, dtype: float64\n"
     ]
    },
    {
     "data": {
      "image/png": "[encoded data removed]",
      "text/plain": [
       "<Figure size 576x432 with 1 Axes>"
      ]
     },
     "metadata": {},
     "output_type": "display_data"
    }
   ],
   "source": [
    "#VISUALIZATION OF CANCER[% COUNTS]\n",
    "cancer_counts = df.Cancer.value_counts(normalize = True)*100\n",
    "print(cancer_counts)\n",
    "cancer_counts.plot.pie(labels = ['no', 'yes']);"
   ]
  },
  {
   "cell_type": "code",
   "execution_count": 23,
   "id": "92e20383",
   "metadata": {},
   "outputs": [
    {
     "data": {
      "text/plain": [
       "<AxesSubplot:>"
      ]
     },
     "execution_count": 23,
     "metadata": {},
     "output_type": "execute_result"
    },
    {
     "data": {
      "image/png": "[encoded data removed]",
      "text/plain": [
       "<Figure size 576x432 with 1 Axes>"
      ]
     },
     "metadata": {},
     "output_type": "display_data"
    }
   ],
   "source": [
    "# Age Distribution of patient who had Cancer\n",
    "df.Cancer.value_counts()\n",
    "df[df['Cancer']==1].Age.hist()"
   ]
  },
  {
   "cell_type": "markdown",
   "id": "efb5800f",
   "metadata": {},
   "source": [
    "adult patients within the age range [20 to 40]  suffer from cancer than every patients in any other age ranges"
   ]
  },
  {
   "cell_type": "code",
   "execution_count": 24,
   "id": "ee9bbcb5",
   "metadata": {},
   "outputs": [
    {
     "data": {
      "text/plain": [
       "0    483\n",
       "1    481\n",
       "Name: Fatigue, dtype: int64"
      ]
     },
     "execution_count": 24,
     "metadata": {},
     "output_type": "execute_result"
    }
   ],
   "source": [
    "df[df['Cancer']==1].Fatigue.value_counts()"
   ]
  },
  {
   "cell_type": "markdown",
   "id": "747e392f",
   "metadata": {},
   "source": [
    "Patients without fatigue suffers from cancer than patients with fatigue"
   ]
  },
  {
   "cell_type": "code",
   "execution_count": 25,
   "id": "a1d1e76a",
   "metadata": {},
   "outputs": [
    {
     "data": {
      "text/plain": [
       "1    488\n",
       "0    476\n",
       "Name: Allergy, dtype: int64"
      ]
     },
     "execution_count": 25,
     "metadata": {},
     "output_type": "execute_result"
    }
   ],
   "source": [
    "df[df['Cancer']==1].Allergy.value_counts()"
   ]
  },
  {
   "cell_type": "markdown",
   "id": "a7eac794",
   "metadata": {},
   "source": [
    "Patients with Allergies suffers from cancer than patients without Allergies"
   ]
  },
  {
   "cell_type": "code",
   "execution_count": 26,
   "id": "6e34fcdf",
   "metadata": {},
   "outputs": [
    {
     "data": {
      "text/plain": [
       "0    488\n",
       "1    476\n",
       "Name: Smoking, dtype: int64"
      ]
     },
     "execution_count": 26,
     "metadata": {},
     "output_type": "execute_result"
    }
   ],
   "source": [
    "df[df['Cancer']==1].Smoking.value_counts()"
   ]
  },
  {
   "cell_type": "markdown",
   "id": "3048ce61",
   "metadata": {},
   "source": [
    "Patients who do not smoke suffer from cancer than patients who smoke"
   ]
  },
  {
   "cell_type": "code",
   "execution_count": 27,
   "id": "6b0edb89",
   "metadata": {},
   "outputs": [
    {
     "name": "stdout",
     "output_type": "stream",
     "text": [
      "The expected Probability of Cancer is: 0.0964\n"
     ]
    }
   ],
   "source": [
    "# Average Cancer Rate\n",
    "mean = df.Cancer.mean()\n",
    "print('The expected Probability of Cancer is:', mean)"
   ]
  },
  {
   "cell_type": "code",
   "execution_count": 28,
   "id": "498f0d8b",
   "metadata": {},
   "outputs": [
    {
     "data": {
      "text/html": [
       "<div>\n",
       "<style scoped>\n",
       "    .dataframe tbody tr th:only-of-type {\n",
       "        vertical-align: middle;\n",
       "    }\n",
       "\n",
       "    .dataframe tbody tr th {\n",
       "        vertical-align: top;\n",
       "    }\n",
       "\n",
       "    .dataframe thead th {\n",
       "        text-align: right;\n",
       "    }\n",
       "</style>\n",
       "<table border=\"1\" class=\"dataframe\">\n",
       "  <thead>\n",
       "    <tr style=\"text-align: right;\">\n",
       "      <th></th>\n",
       "      <th>Gender</th>\n",
       "    </tr>\n",
       "  </thead>\n",
       "  <tbody>\n",
       "    <tr>\n",
       "      <th>0</th>\n",
       "      <td>506</td>\n",
       "    </tr>\n",
       "    <tr>\n",
       "      <th>1</th>\n",
       "      <td>458</td>\n",
       "    </tr>\n",
       "  </tbody>\n",
       "</table>\n",
       "</div>"
      ],
      "text/plain": [
       "   Gender\n",
       "0     506\n",
       "1     458"
      ]
     },
     "execution_count": 28,
     "metadata": {},
     "output_type": "execute_result"
    }
   ],
   "source": [
    "# Gender Distribution of Patients with Cancer\n",
    "df[df['Cancer']==1].Gender.value_counts().to_frame()"
   ]
  },
  {
   "cell_type": "markdown",
   "id": "45dbb82a",
   "metadata": {},
   "source": [
    "male patients suffer from cancer than female patients"
   ]
  },
  {
   "cell_type": "code",
   "execution_count": 29,
   "id": "d42083dd",
   "metadata": {},
   "outputs": [
    {
     "name": "stdout",
     "output_type": "stream",
     "text": [
      "percentage of male with stroke: 10.069651741293532\n",
      "percentage of female with stroke: 9.206030150753769\n"
     ]
    }
   ],
   "source": [
    "prop_female_stroke=(458/4975)*100\n",
    "prop_male_stroke=(506/5025)*100\n",
    "print('percentage of male with stroke:',prop_male_stroke)\n",
    "print('percentage of female with stroke:',prop_female_stroke)"
   ]
  },
  {
   "cell_type": "code",
   "execution_count": 30,
   "id": "2e96a17d",
   "metadata": {},
   "outputs": [
    {
     "data": {
      "text/html": [
       "<div>\n",
       "<style scoped>\n",
       "    .dataframe tbody tr th:only-of-type {\n",
       "        vertical-align: middle;\n",
       "    }\n",
       "\n",
       "    .dataframe tbody tr th {\n",
       "        vertical-align: top;\n",
       "    }\n",
       "\n",
       "    .dataframe thead th {\n",
       "        text-align: right;\n",
       "    }\n",
       "</style>\n",
       "<table border=\"1\" class=\"dataframe\">\n",
       "  <thead>\n",
       "    <tr style=\"text-align: right;\">\n",
       "      <th></th>\n",
       "      <th>Cancer</th>\n",
       "    </tr>\n",
       "    <tr>\n",
       "      <th>Gender</th>\n",
       "      <th></th>\n",
       "    </tr>\n",
       "  </thead>\n",
       "  <tbody>\n",
       "    <tr>\n",
       "      <th>0</th>\n",
       "      <td>0.100697</td>\n",
       "    </tr>\n",
       "    <tr>\n",
       "      <th>1</th>\n",
       "      <td>0.092060</td>\n",
       "    </tr>\n",
       "  </tbody>\n",
       "</table>\n",
       "</div>"
      ],
      "text/plain": [
       "          Cancer\n",
       "Gender          \n",
       "0       0.100697\n",
       "1       0.092060"
      ]
     },
     "execution_count": 30,
     "metadata": {},
     "output_type": "execute_result"
    }
   ],
   "source": [
    "# cancer rate per gender\n",
    "df.groupby('Gender').aggregate({'Cancer':'mean'})"
   ]
  },
  {
   "cell_type": "markdown",
   "id": "5f701459",
   "metadata": {},
   "source": [
    "male patients has higher rate of getting cancer than female patients"
   ]
  },
  {
   "cell_type": "code",
   "execution_count": 31,
   "id": "fc2e0d95",
   "metadata": {},
   "outputs": [
    {
     "data": {
      "image/png": "[encoded data removed]",
      "text/plain": [
       "<Figure size 576x432 with 1 Axes>"
      ]
     },
     "metadata": {},
     "output_type": "display_data"
    }
   ],
   "source": [
    "# Cancer rate per Age Distribution\n",
    "df.groupby('Age').aggregate({'Cancer':'mean'}).plot();"
   ]
  },
  {
   "cell_type": "markdown",
   "id": "1ffd00bf",
   "metadata": {},
   "source": [
    "# Performing more analysis on the dataset"
   ]
  },
  {
   "cell_type": "code",
   "execution_count": 32,
   "id": "fa070b1b",
   "metadata": {},
   "outputs": [
    {
     "data": {
      "text/html": [
       "<div>\n",
       "<style scoped>\n",
       "    .dataframe tbody tr th:only-of-type {\n",
       "        vertical-align: middle;\n",
       "    }\n",
       "\n",
       "    .dataframe tbody tr th {\n",
       "        vertical-align: top;\n",
       "    }\n",
       "\n",
       "    .dataframe thead th {\n",
       "        text-align: right;\n",
       "    }\n",
       "</style>\n",
       "<table border=\"1\" class=\"dataframe\">\n",
       "  <thead>\n",
       "    <tr style=\"text-align: right;\">\n",
       "      <th></th>\n",
       "      <th>Gender</th>\n",
       "      <th>Age</th>\n",
       "      <th>Smoking</th>\n",
       "      <th>Fatigue</th>\n",
       "      <th>Allergy</th>\n",
       "      <th>Cancer</th>\n",
       "    </tr>\n",
       "  </thead>\n",
       "  <tbody>\n",
       "    <tr>\n",
       "      <th>1188</th>\n",
       "      <td>1</td>\n",
       "      <td>23</td>\n",
       "      <td>1</td>\n",
       "      <td>1</td>\n",
       "      <td>1</td>\n",
       "      <td>1</td>\n",
       "    </tr>\n",
       "    <tr>\n",
       "      <th>2086</th>\n",
       "      <td>1</td>\n",
       "      <td>25</td>\n",
       "      <td>1</td>\n",
       "      <td>1</td>\n",
       "      <td>1</td>\n",
       "      <td>1</td>\n",
       "    </tr>\n",
       "    <tr>\n",
       "      <th>2286</th>\n",
       "      <td>1</td>\n",
       "      <td>20</td>\n",
       "      <td>1</td>\n",
       "      <td>1</td>\n",
       "      <td>1</td>\n",
       "      <td>1</td>\n",
       "    </tr>\n",
       "    <tr>\n",
       "      <th>4125</th>\n",
       "      <td>1</td>\n",
       "      <td>23</td>\n",
       "      <td>1</td>\n",
       "      <td>1</td>\n",
       "      <td>1</td>\n",
       "      <td>1</td>\n",
       "    </tr>\n",
       "    <tr>\n",
       "      <th>6040</th>\n",
       "      <td>1</td>\n",
       "      <td>24</td>\n",
       "      <td>1</td>\n",
       "      <td>1</td>\n",
       "      <td>1</td>\n",
       "      <td>1</td>\n",
       "    </tr>\n",
       "    <tr>\n",
       "      <th>8729</th>\n",
       "      <td>1</td>\n",
       "      <td>18</td>\n",
       "      <td>1</td>\n",
       "      <td>1</td>\n",
       "      <td>1</td>\n",
       "      <td>1</td>\n",
       "    </tr>\n",
       "    <tr>\n",
       "      <th>8795</th>\n",
       "      <td>1</td>\n",
       "      <td>21</td>\n",
       "      <td>1</td>\n",
       "      <td>1</td>\n",
       "      <td>1</td>\n",
       "      <td>1</td>\n",
       "    </tr>\n",
       "  </tbody>\n",
       "</table>\n",
       "</div>"
      ],
      "text/plain": [
       "      Gender  Age  Smoking  Fatigue  Allergy  Cancer\n",
       "1188       1   23        1        1        1       1\n",
       "2086       1   25        1        1        1       1\n",
       "2286       1   20        1        1        1       1\n",
       "4125       1   23        1        1        1       1\n",
       "6040       1   24        1        1        1       1\n",
       "8729       1   18        1        1        1       1\n",
       "8795       1   21        1        1        1       1"
      ]
     },
     "execution_count": 32,
     "metadata": {},
     "output_type": "execute_result"
    }
   ],
   "source": [
    "d = df[(df['Gender'] == 1) & (df['Allergy'] == 1) & (df['Smoking']==1) & (df['Fatigue']==1) & (df['Cancer']==1) & (df['Age']<=25)]\n",
    "d\n",
    "\n",
    "# seven female patients, with their Ages less than 25 smokes, have allergies,fatigue and Cancer.\n"
   ]
  },
  {
   "cell_type": "code",
   "execution_count": 33,
   "id": "6bd21000",
   "metadata": {},
   "outputs": [
    {
     "data": {
      "text/html": [
       "<div>\n",
       "<style scoped>\n",
       "    .dataframe tbody tr th:only-of-type {\n",
       "        vertical-align: middle;\n",
       "    }\n",
       "\n",
       "    .dataframe tbody tr th {\n",
       "        vertical-align: top;\n",
       "    }\n",
       "\n",
       "    .dataframe thead th {\n",
       "        text-align: right;\n",
       "    }\n",
       "</style>\n",
       "<table border=\"1\" class=\"dataframe\">\n",
       "  <thead>\n",
       "    <tr style=\"text-align: right;\">\n",
       "      <th></th>\n",
       "      <th>Gender</th>\n",
       "      <th>Age</th>\n",
       "      <th>Smoking</th>\n",
       "      <th>Fatigue</th>\n",
       "      <th>Allergy</th>\n",
       "      <th>Cancer</th>\n",
       "    </tr>\n",
       "  </thead>\n",
       "  <tbody>\n",
       "    <tr>\n",
       "      <th>1157</th>\n",
       "      <td>0</td>\n",
       "      <td>25</td>\n",
       "      <td>1</td>\n",
       "      <td>1</td>\n",
       "      <td>1</td>\n",
       "      <td>1</td>\n",
       "    </tr>\n",
       "    <tr>\n",
       "      <th>6858</th>\n",
       "      <td>0</td>\n",
       "      <td>21</td>\n",
       "      <td>1</td>\n",
       "      <td>1</td>\n",
       "      <td>1</td>\n",
       "      <td>1</td>\n",
       "    </tr>\n",
       "    <tr>\n",
       "      <th>7545</th>\n",
       "      <td>0</td>\n",
       "      <td>21</td>\n",
       "      <td>1</td>\n",
       "      <td>1</td>\n",
       "      <td>1</td>\n",
       "      <td>1</td>\n",
       "    </tr>\n",
       "    <tr>\n",
       "      <th>9976</th>\n",
       "      <td>0</td>\n",
       "      <td>23</td>\n",
       "      <td>1</td>\n",
       "      <td>1</td>\n",
       "      <td>1</td>\n",
       "      <td>1</td>\n",
       "    </tr>\n",
       "  </tbody>\n",
       "</table>\n",
       "</div>"
      ],
      "text/plain": [
       "      Gender  Age  Smoking  Fatigue  Allergy  Cancer\n",
       "1157       0   25        1        1        1       1\n",
       "6858       0   21        1        1        1       1\n",
       "7545       0   21        1        1        1       1\n",
       "9976       0   23        1        1        1       1"
      ]
     },
     "execution_count": 33,
     "metadata": {},
     "output_type": "execute_result"
    }
   ],
   "source": [
    "df[(df['Gender'] == 0) & (df['Allergy'] == 1) & (df['Smoking']==1) & (df['Fatigue']==1) & (df['Cancer']==1) & (df['Age']<=25)]\n",
    "\n",
    "# four male patients, with their Ages less than 25 smokes, have allergies,fatigue and Cancer.\n"
   ]
  },
  {
   "cell_type": "code",
   "execution_count": 34,
   "id": "d401c763",
   "metadata": {},
   "outputs": [
    {
     "data": {
      "text/html": [
       "<div>\n",
       "<style scoped>\n",
       "    .dataframe tbody tr th:only-of-type {\n",
       "        vertical-align: middle;\n",
       "    }\n",
       "\n",
       "    .dataframe tbody tr th {\n",
       "        vertical-align: top;\n",
       "    }\n",
       "\n",
       "    .dataframe thead th {\n",
       "        text-align: right;\n",
       "    }\n",
       "</style>\n",
       "<table border=\"1\" class=\"dataframe\">\n",
       "  <thead>\n",
       "    <tr style=\"text-align: right;\">\n",
       "      <th></th>\n",
       "      <th>Gender</th>\n",
       "      <th>Age</th>\n",
       "      <th>Smoking</th>\n",
       "      <th>Fatigue</th>\n",
       "      <th>Allergy</th>\n",
       "      <th>Cancer</th>\n",
       "    </tr>\n",
       "  </thead>\n",
       "  <tbody>\n",
       "    <tr>\n",
       "      <th>65</th>\n",
       "      <td>1</td>\n",
       "      <td>27</td>\n",
       "      <td>1</td>\n",
       "      <td>0</td>\n",
       "      <td>1</td>\n",
       "      <td>1</td>\n",
       "    </tr>\n",
       "    <tr>\n",
       "      <th>80</th>\n",
       "      <td>1</td>\n",
       "      <td>33</td>\n",
       "      <td>1</td>\n",
       "      <td>0</td>\n",
       "      <td>0</td>\n",
       "      <td>1</td>\n",
       "    </tr>\n",
       "    <tr>\n",
       "      <th>86</th>\n",
       "      <td>1</td>\n",
       "      <td>45</td>\n",
       "      <td>1</td>\n",
       "      <td>0</td>\n",
       "      <td>0</td>\n",
       "      <td>1</td>\n",
       "    </tr>\n",
       "    <tr>\n",
       "      <th>93</th>\n",
       "      <td>1</td>\n",
       "      <td>31</td>\n",
       "      <td>1</td>\n",
       "      <td>0</td>\n",
       "      <td>1</td>\n",
       "      <td>1</td>\n",
       "    </tr>\n",
       "    <tr>\n",
       "      <th>182</th>\n",
       "      <td>1</td>\n",
       "      <td>41</td>\n",
       "      <td>1</td>\n",
       "      <td>1</td>\n",
       "      <td>0</td>\n",
       "      <td>1</td>\n",
       "    </tr>\n",
       "    <tr>\n",
       "      <th>...</th>\n",
       "      <td>...</td>\n",
       "      <td>...</td>\n",
       "      <td>...</td>\n",
       "      <td>...</td>\n",
       "      <td>...</td>\n",
       "      <td>...</td>\n",
       "    </tr>\n",
       "    <tr>\n",
       "      <th>9156</th>\n",
       "      <td>1</td>\n",
       "      <td>32</td>\n",
       "      <td>1</td>\n",
       "      <td>0</td>\n",
       "      <td>1</td>\n",
       "      <td>1</td>\n",
       "    </tr>\n",
       "    <tr>\n",
       "      <th>9499</th>\n",
       "      <td>1</td>\n",
       "      <td>27</td>\n",
       "      <td>1</td>\n",
       "      <td>1</td>\n",
       "      <td>0</td>\n",
       "      <td>1</td>\n",
       "    </tr>\n",
       "    <tr>\n",
       "      <th>9634</th>\n",
       "      <td>1</td>\n",
       "      <td>22</td>\n",
       "      <td>1</td>\n",
       "      <td>1</td>\n",
       "      <td>0</td>\n",
       "      <td>1</td>\n",
       "    </tr>\n",
       "    <tr>\n",
       "      <th>9937</th>\n",
       "      <td>1</td>\n",
       "      <td>28</td>\n",
       "      <td>1</td>\n",
       "      <td>1</td>\n",
       "      <td>0</td>\n",
       "      <td>1</td>\n",
       "    </tr>\n",
       "    <tr>\n",
       "      <th>9987</th>\n",
       "      <td>1</td>\n",
       "      <td>34</td>\n",
       "      <td>1</td>\n",
       "      <td>0</td>\n",
       "      <td>1</td>\n",
       "      <td>1</td>\n",
       "    </tr>\n",
       "  </tbody>\n",
       "</table>\n",
       "<p>84 rows × 6 columns</p>\n",
       "</div>"
      ],
      "text/plain": [
       "      Gender  Age  Smoking  Fatigue  Allergy  Cancer\n",
       "65         1   27        1        0        1       1\n",
       "80         1   33        1        0        0       1\n",
       "86         1   45        1        0        0       1\n",
       "93         1   31        1        0        1       1\n",
       "182        1   41        1        1        0       1\n",
       "...      ...  ...      ...      ...      ...     ...\n",
       "9156       1   32        1        0        1       1\n",
       "9499       1   27        1        1        0       1\n",
       "9634       1   22        1        1        0       1\n",
       "9937       1   28        1        1        0       1\n",
       "9987       1   34        1        0        1       1\n",
       "\n",
       "[84 rows x 6 columns]"
      ]
     },
     "execution_count": 34,
     "metadata": {},
     "output_type": "execute_result"
    }
   ],
   "source": [
    "df[(df['Gender'] == 1) & (df['Smoking']==1)  & (df['Cancer']==1) & (df['Age']<=45)]\n",
    "\n",
    "# Eighty-four female Patients less than forty-five years of Age smokes and suffers from Cancer."
   ]
  },
  {
   "cell_type": "code",
   "execution_count": 35,
   "id": "7f24c9c7",
   "metadata": {},
   "outputs": [
    {
     "data": {
      "text/html": [
       "<div>\n",
       "<style scoped>\n",
       "    .dataframe tbody tr th:only-of-type {\n",
       "        vertical-align: middle;\n",
       "    }\n",
       "\n",
       "    .dataframe tbody tr th {\n",
       "        vertical-align: top;\n",
       "    }\n",
       "\n",
       "    .dataframe thead th {\n",
       "        text-align: right;\n",
       "    }\n",
       "</style>\n",
       "<table border=\"1\" class=\"dataframe\">\n",
       "  <thead>\n",
       "    <tr style=\"text-align: right;\">\n",
       "      <th></th>\n",
       "      <th>Gender</th>\n",
       "      <th>Age</th>\n",
       "      <th>Smoking</th>\n",
       "      <th>Fatigue</th>\n",
       "      <th>Allergy</th>\n",
       "      <th>Cancer</th>\n",
       "    </tr>\n",
       "  </thead>\n",
       "  <tbody>\n",
       "    <tr>\n",
       "      <th>4</th>\n",
       "      <td>1</td>\n",
       "      <td>95</td>\n",
       "      <td>1</td>\n",
       "      <td>0</td>\n",
       "      <td>1</td>\n",
       "      <td>1</td>\n",
       "    </tr>\n",
       "    <tr>\n",
       "      <th>37</th>\n",
       "      <td>1</td>\n",
       "      <td>63</td>\n",
       "      <td>1</td>\n",
       "      <td>0</td>\n",
       "      <td>0</td>\n",
       "      <td>1</td>\n",
       "    </tr>\n",
       "    <tr>\n",
       "      <th>64</th>\n",
       "      <td>0</td>\n",
       "      <td>95</td>\n",
       "      <td>1</td>\n",
       "      <td>0</td>\n",
       "      <td>0</td>\n",
       "      <td>1</td>\n",
       "    </tr>\n",
       "    <tr>\n",
       "      <th>78</th>\n",
       "      <td>1</td>\n",
       "      <td>63</td>\n",
       "      <td>1</td>\n",
       "      <td>0</td>\n",
       "      <td>1</td>\n",
       "      <td>1</td>\n",
       "    </tr>\n",
       "    <tr>\n",
       "      <th>214</th>\n",
       "      <td>0</td>\n",
       "      <td>91</td>\n",
       "      <td>1</td>\n",
       "      <td>1</td>\n",
       "      <td>1</td>\n",
       "      <td>1</td>\n",
       "    </tr>\n",
       "    <tr>\n",
       "      <th>...</th>\n",
       "      <td>...</td>\n",
       "      <td>...</td>\n",
       "      <td>...</td>\n",
       "      <td>...</td>\n",
       "      <td>...</td>\n",
       "      <td>...</td>\n",
       "    </tr>\n",
       "    <tr>\n",
       "      <th>9743</th>\n",
       "      <td>0</td>\n",
       "      <td>74</td>\n",
       "      <td>1</td>\n",
       "      <td>0</td>\n",
       "      <td>1</td>\n",
       "      <td>1</td>\n",
       "    </tr>\n",
       "    <tr>\n",
       "      <th>9808</th>\n",
       "      <td>0</td>\n",
       "      <td>86</td>\n",
       "      <td>1</td>\n",
       "      <td>1</td>\n",
       "      <td>0</td>\n",
       "      <td>1</td>\n",
       "    </tr>\n",
       "    <tr>\n",
       "      <th>9852</th>\n",
       "      <td>1</td>\n",
       "      <td>85</td>\n",
       "      <td>1</td>\n",
       "      <td>0</td>\n",
       "      <td>0</td>\n",
       "      <td>1</td>\n",
       "    </tr>\n",
       "    <tr>\n",
       "      <th>9891</th>\n",
       "      <td>0</td>\n",
       "      <td>65</td>\n",
       "      <td>1</td>\n",
       "      <td>1</td>\n",
       "      <td>0</td>\n",
       "      <td>1</td>\n",
       "    </tr>\n",
       "    <tr>\n",
       "      <th>9894</th>\n",
       "      <td>0</td>\n",
       "      <td>89</td>\n",
       "      <td>1</td>\n",
       "      <td>1</td>\n",
       "      <td>0</td>\n",
       "      <td>1</td>\n",
       "    </tr>\n",
       "  </tbody>\n",
       "</table>\n",
       "<p>243 rows × 6 columns</p>\n",
       "</div>"
      ],
      "text/plain": [
       "      Gender  Age  Smoking  Fatigue  Allergy  Cancer\n",
       "4          1   95        1        0        1       1\n",
       "37         1   63        1        0        0       1\n",
       "64         0   95        1        0        0       1\n",
       "78         1   63        1        0        1       1\n",
       "214        0   91        1        1        1       1\n",
       "...      ...  ...      ...      ...      ...     ...\n",
       "9743       0   74        1        0        1       1\n",
       "9808       0   86        1        1        0       1\n",
       "9852       1   85        1        0        0       1\n",
       "9891       0   65        1        1        0       1\n",
       "9894       0   89        1        1        0       1\n",
       "\n",
       "[243 rows x 6 columns]"
      ]
     },
     "execution_count": 35,
     "metadata": {},
     "output_type": "execute_result"
    }
   ],
   "source": [
    "df[(df['Smoking']==1)  & (df['Cancer']==1) & (df['Age']>=60)]\n",
    "\n",
    "# Two-hundred and forty-three old Age patients Smokes and suffers from Cancer."
   ]
  },
  {
   "cell_type": "code",
   "execution_count": 36,
   "id": "a88c8346",
   "metadata": {},
   "outputs": [
    {
     "data": {
      "text/html": [
       "<div>\n",
       "<style scoped>\n",
       "    .dataframe tbody tr th:only-of-type {\n",
       "        vertical-align: middle;\n",
       "    }\n",
       "\n",
       "    .dataframe tbody tr th {\n",
       "        vertical-align: top;\n",
       "    }\n",
       "\n",
       "    .dataframe thead th {\n",
       "        text-align: right;\n",
       "    }\n",
       "</style>\n",
       "<table border=\"1\" class=\"dataframe\">\n",
       "  <thead>\n",
       "    <tr style=\"text-align: right;\">\n",
       "      <th></th>\n",
       "      <th>Gender</th>\n",
       "      <th>Age</th>\n",
       "      <th>Smoking</th>\n",
       "      <th>Fatigue</th>\n",
       "      <th>Allergy</th>\n",
       "      <th>Cancer</th>\n",
       "    </tr>\n",
       "  </thead>\n",
       "  <tbody>\n",
       "    <tr>\n",
       "      <th>257</th>\n",
       "      <td>0</td>\n",
       "      <td>50</td>\n",
       "      <td>0</td>\n",
       "      <td>0</td>\n",
       "      <td>0</td>\n",
       "      <td>0</td>\n",
       "    </tr>\n",
       "    <tr>\n",
       "      <th>945</th>\n",
       "      <td>0</td>\n",
       "      <td>50</td>\n",
       "      <td>0</td>\n",
       "      <td>0</td>\n",
       "      <td>0</td>\n",
       "      <td>0</td>\n",
       "    </tr>\n",
       "    <tr>\n",
       "      <th>1580</th>\n",
       "      <td>0</td>\n",
       "      <td>50</td>\n",
       "      <td>0</td>\n",
       "      <td>0</td>\n",
       "      <td>0</td>\n",
       "      <td>0</td>\n",
       "    </tr>\n",
       "    <tr>\n",
       "      <th>2866</th>\n",
       "      <td>0</td>\n",
       "      <td>50</td>\n",
       "      <td>0</td>\n",
       "      <td>0</td>\n",
       "      <td>0</td>\n",
       "      <td>0</td>\n",
       "    </tr>\n",
       "    <tr>\n",
       "      <th>4340</th>\n",
       "      <td>0</td>\n",
       "      <td>50</td>\n",
       "      <td>0</td>\n",
       "      <td>0</td>\n",
       "      <td>0</td>\n",
       "      <td>0</td>\n",
       "    </tr>\n",
       "    <tr>\n",
       "      <th>4386</th>\n",
       "      <td>0</td>\n",
       "      <td>50</td>\n",
       "      <td>0</td>\n",
       "      <td>1</td>\n",
       "      <td>0</td>\n",
       "      <td>0</td>\n",
       "    </tr>\n",
       "    <tr>\n",
       "      <th>4456</th>\n",
       "      <td>0</td>\n",
       "      <td>50</td>\n",
       "      <td>0</td>\n",
       "      <td>0</td>\n",
       "      <td>0</td>\n",
       "      <td>0</td>\n",
       "    </tr>\n",
       "    <tr>\n",
       "      <th>5801</th>\n",
       "      <td>0</td>\n",
       "      <td>50</td>\n",
       "      <td>0</td>\n",
       "      <td>1</td>\n",
       "      <td>0</td>\n",
       "      <td>0</td>\n",
       "    </tr>\n",
       "    <tr>\n",
       "      <th>6248</th>\n",
       "      <td>0</td>\n",
       "      <td>50</td>\n",
       "      <td>0</td>\n",
       "      <td>1</td>\n",
       "      <td>0</td>\n",
       "      <td>0</td>\n",
       "    </tr>\n",
       "    <tr>\n",
       "      <th>6929</th>\n",
       "      <td>0</td>\n",
       "      <td>50</td>\n",
       "      <td>0</td>\n",
       "      <td>0</td>\n",
       "      <td>0</td>\n",
       "      <td>0</td>\n",
       "    </tr>\n",
       "    <tr>\n",
       "      <th>6957</th>\n",
       "      <td>0</td>\n",
       "      <td>50</td>\n",
       "      <td>0</td>\n",
       "      <td>0</td>\n",
       "      <td>0</td>\n",
       "      <td>0</td>\n",
       "    </tr>\n",
       "    <tr>\n",
       "      <th>9069</th>\n",
       "      <td>0</td>\n",
       "      <td>50</td>\n",
       "      <td>0</td>\n",
       "      <td>0</td>\n",
       "      <td>0</td>\n",
       "      <td>0</td>\n",
       "    </tr>\n",
       "    <tr>\n",
       "      <th>9280</th>\n",
       "      <td>0</td>\n",
       "      <td>50</td>\n",
       "      <td>0</td>\n",
       "      <td>1</td>\n",
       "      <td>0</td>\n",
       "      <td>0</td>\n",
       "    </tr>\n",
       "    <tr>\n",
       "      <th>9311</th>\n",
       "      <td>0</td>\n",
       "      <td>50</td>\n",
       "      <td>0</td>\n",
       "      <td>1</td>\n",
       "      <td>0</td>\n",
       "      <td>0</td>\n",
       "    </tr>\n",
       "    <tr>\n",
       "      <th>9861</th>\n",
       "      <td>0</td>\n",
       "      <td>50</td>\n",
       "      <td>0</td>\n",
       "      <td>1</td>\n",
       "      <td>0</td>\n",
       "      <td>0</td>\n",
       "    </tr>\n",
       "  </tbody>\n",
       "</table>\n",
       "</div>"
      ],
      "text/plain": [
       "      Gender  Age  Smoking  Fatigue  Allergy  Cancer\n",
       "257        0   50        0        0        0       0\n",
       "945        0   50        0        0        0       0\n",
       "1580       0   50        0        0        0       0\n",
       "2866       0   50        0        0        0       0\n",
       "4340       0   50        0        0        0       0\n",
       "4386       0   50        0        1        0       0\n",
       "4456       0   50        0        0        0       0\n",
       "5801       0   50        0        1        0       0\n",
       "6248       0   50        0        1        0       0\n",
       "6929       0   50        0        0        0       0\n",
       "6957       0   50        0        0        0       0\n",
       "9069       0   50        0        0        0       0\n",
       "9280       0   50        0        1        0       0\n",
       "9311       0   50        0        1        0       0\n",
       "9861       0   50        0        1        0       0"
      ]
     },
     "execution_count": 36,
     "metadata": {},
     "output_type": "execute_result"
    }
   ],
   "source": [
    "df[(df['Gender'] == 0) & (df['Smoking']==0)  & (df['Allergy']==0) & (df['Age']==50)]\n",
    "\n",
    "# Fifteen male Patients at Age fifty do not smoke and have Allergy."
   ]
  },
  {
   "cell_type": "code",
   "execution_count": 37,
   "id": "ca89a2af",
   "metadata": {},
   "outputs": [
    {
     "data": {
      "text/html": [
       "<div>\n",
       "<style scoped>\n",
       "    .dataframe tbody tr th:only-of-type {\n",
       "        vertical-align: middle;\n",
       "    }\n",
       "\n",
       "    .dataframe tbody tr th {\n",
       "        vertical-align: top;\n",
       "    }\n",
       "\n",
       "    .dataframe thead th {\n",
       "        text-align: right;\n",
       "    }\n",
       "</style>\n",
       "<table border=\"1\" class=\"dataframe\">\n",
       "  <thead>\n",
       "    <tr style=\"text-align: right;\">\n",
       "      <th></th>\n",
       "      <th>Gender</th>\n",
       "      <th>Age</th>\n",
       "      <th>Smoking</th>\n",
       "      <th>Fatigue</th>\n",
       "      <th>Allergy</th>\n",
       "      <th>Cancer</th>\n",
       "    </tr>\n",
       "  </thead>\n",
       "  <tbody>\n",
       "    <tr>\n",
       "      <th>5</th>\n",
       "      <td>1</td>\n",
       "      <td>18</td>\n",
       "      <td>1</td>\n",
       "      <td>0</td>\n",
       "      <td>0</td>\n",
       "      <td>0</td>\n",
       "    </tr>\n",
       "    <tr>\n",
       "      <th>112</th>\n",
       "      <td>1</td>\n",
       "      <td>19</td>\n",
       "      <td>1</td>\n",
       "      <td>1</td>\n",
       "      <td>1</td>\n",
       "      <td>0</td>\n",
       "    </tr>\n",
       "    <tr>\n",
       "      <th>459</th>\n",
       "      <td>1</td>\n",
       "      <td>18</td>\n",
       "      <td>1</td>\n",
       "      <td>1</td>\n",
       "      <td>0</td>\n",
       "      <td>0</td>\n",
       "    </tr>\n",
       "    <tr>\n",
       "      <th>583</th>\n",
       "      <td>1</td>\n",
       "      <td>18</td>\n",
       "      <td>1</td>\n",
       "      <td>0</td>\n",
       "      <td>1</td>\n",
       "      <td>1</td>\n",
       "    </tr>\n",
       "    <tr>\n",
       "      <th>799</th>\n",
       "      <td>1</td>\n",
       "      <td>19</td>\n",
       "      <td>1</td>\n",
       "      <td>1</td>\n",
       "      <td>0</td>\n",
       "      <td>0</td>\n",
       "    </tr>\n",
       "    <tr>\n",
       "      <th>...</th>\n",
       "      <td>...</td>\n",
       "      <td>...</td>\n",
       "      <td>...</td>\n",
       "      <td>...</td>\n",
       "      <td>...</td>\n",
       "      <td>...</td>\n",
       "    </tr>\n",
       "    <tr>\n",
       "      <th>9546</th>\n",
       "      <td>1</td>\n",
       "      <td>18</td>\n",
       "      <td>1</td>\n",
       "      <td>0</td>\n",
       "      <td>0</td>\n",
       "      <td>0</td>\n",
       "    </tr>\n",
       "    <tr>\n",
       "      <th>9729</th>\n",
       "      <td>1</td>\n",
       "      <td>18</td>\n",
       "      <td>1</td>\n",
       "      <td>0</td>\n",
       "      <td>1</td>\n",
       "      <td>0</td>\n",
       "    </tr>\n",
       "    <tr>\n",
       "      <th>9731</th>\n",
       "      <td>1</td>\n",
       "      <td>18</td>\n",
       "      <td>1</td>\n",
       "      <td>1</td>\n",
       "      <td>0</td>\n",
       "      <td>0</td>\n",
       "    </tr>\n",
       "    <tr>\n",
       "      <th>9795</th>\n",
       "      <td>1</td>\n",
       "      <td>19</td>\n",
       "      <td>1</td>\n",
       "      <td>1</td>\n",
       "      <td>1</td>\n",
       "      <td>0</td>\n",
       "    </tr>\n",
       "    <tr>\n",
       "      <th>9911</th>\n",
       "      <td>1</td>\n",
       "      <td>18</td>\n",
       "      <td>1</td>\n",
       "      <td>1</td>\n",
       "      <td>1</td>\n",
       "      <td>0</td>\n",
       "    </tr>\n",
       "  </tbody>\n",
       "</table>\n",
       "<p>63 rows × 6 columns</p>\n",
       "</div>"
      ],
      "text/plain": [
       "      Gender  Age  Smoking  Fatigue  Allergy  Cancer\n",
       "5          1   18        1        0        0       0\n",
       "112        1   19        1        1        1       0\n",
       "459        1   18        1        1        0       0\n",
       "583        1   18        1        0        1       1\n",
       "799        1   19        1        1        0       0\n",
       "...      ...  ...      ...      ...      ...     ...\n",
       "9546       1   18        1        0        0       0\n",
       "9729       1   18        1        0        1       0\n",
       "9731       1   18        1        1        0       0\n",
       "9795       1   19        1        1        1       0\n",
       "9911       1   18        1        1        1       0\n",
       "\n",
       "[63 rows x 6 columns]"
      ]
     },
     "execution_count": 37,
     "metadata": {},
     "output_type": "execute_result"
    }
   ],
   "source": [
    "df[(df['Smoking']==1) & (df['Age']<=19) & (df['Gender']==1)]\n",
    "\n",
    "\n",
    "# sixty-three female teenage Patients Smokes."
   ]
  },
  {
   "cell_type": "code",
   "execution_count": 38,
   "id": "330058a7",
   "metadata": {},
   "outputs": [
    {
     "data": {
      "text/html": [
       "<div>\n",
       "<style scoped>\n",
       "    .dataframe tbody tr th:only-of-type {\n",
       "        vertical-align: middle;\n",
       "    }\n",
       "\n",
       "    .dataframe tbody tr th {\n",
       "        vertical-align: top;\n",
       "    }\n",
       "\n",
       "    .dataframe thead th {\n",
       "        text-align: right;\n",
       "    }\n",
       "</style>\n",
       "<table border=\"1\" class=\"dataframe\">\n",
       "  <thead>\n",
       "    <tr style=\"text-align: right;\">\n",
       "      <th></th>\n",
       "      <th>Gender</th>\n",
       "      <th>Age</th>\n",
       "      <th>Smoking</th>\n",
       "      <th>Fatigue</th>\n",
       "      <th>Allergy</th>\n",
       "      <th>Cancer</th>\n",
       "    </tr>\n",
       "  </thead>\n",
       "  <tbody>\n",
       "    <tr>\n",
       "      <th>326</th>\n",
       "      <td>1</td>\n",
       "      <td>18</td>\n",
       "      <td>0</td>\n",
       "      <td>0</td>\n",
       "      <td>1</td>\n",
       "      <td>1</td>\n",
       "    </tr>\n",
       "    <tr>\n",
       "      <th>583</th>\n",
       "      <td>1</td>\n",
       "      <td>18</td>\n",
       "      <td>1</td>\n",
       "      <td>0</td>\n",
       "      <td>1</td>\n",
       "      <td>1</td>\n",
       "    </tr>\n",
       "    <tr>\n",
       "      <th>1634</th>\n",
       "      <td>0</td>\n",
       "      <td>19</td>\n",
       "      <td>0</td>\n",
       "      <td>0</td>\n",
       "      <td>0</td>\n",
       "      <td>1</td>\n",
       "    </tr>\n",
       "    <tr>\n",
       "      <th>2243</th>\n",
       "      <td>0</td>\n",
       "      <td>18</td>\n",
       "      <td>0</td>\n",
       "      <td>1</td>\n",
       "      <td>1</td>\n",
       "      <td>1</td>\n",
       "    </tr>\n",
       "    <tr>\n",
       "      <th>2511</th>\n",
       "      <td>0</td>\n",
       "      <td>18</td>\n",
       "      <td>1</td>\n",
       "      <td>0</td>\n",
       "      <td>1</td>\n",
       "      <td>1</td>\n",
       "    </tr>\n",
       "    <tr>\n",
       "      <th>2526</th>\n",
       "      <td>1</td>\n",
       "      <td>18</td>\n",
       "      <td>0</td>\n",
       "      <td>0</td>\n",
       "      <td>0</td>\n",
       "      <td>1</td>\n",
       "    </tr>\n",
       "    <tr>\n",
       "      <th>3339</th>\n",
       "      <td>0</td>\n",
       "      <td>18</td>\n",
       "      <td>0</td>\n",
       "      <td>1</td>\n",
       "      <td>1</td>\n",
       "      <td>1</td>\n",
       "    </tr>\n",
       "    <tr>\n",
       "      <th>3346</th>\n",
       "      <td>0</td>\n",
       "      <td>19</td>\n",
       "      <td>1</td>\n",
       "      <td>0</td>\n",
       "      <td>0</td>\n",
       "      <td>1</td>\n",
       "    </tr>\n",
       "    <tr>\n",
       "      <th>3528</th>\n",
       "      <td>0</td>\n",
       "      <td>18</td>\n",
       "      <td>0</td>\n",
       "      <td>1</td>\n",
       "      <td>0</td>\n",
       "      <td>1</td>\n",
       "    </tr>\n",
       "    <tr>\n",
       "      <th>4038</th>\n",
       "      <td>0</td>\n",
       "      <td>18</td>\n",
       "      <td>1</td>\n",
       "      <td>0</td>\n",
       "      <td>0</td>\n",
       "      <td>1</td>\n",
       "    </tr>\n",
       "    <tr>\n",
       "      <th>4474</th>\n",
       "      <td>0</td>\n",
       "      <td>19</td>\n",
       "      <td>0</td>\n",
       "      <td>1</td>\n",
       "      <td>0</td>\n",
       "      <td>1</td>\n",
       "    </tr>\n",
       "    <tr>\n",
       "      <th>4614</th>\n",
       "      <td>0</td>\n",
       "      <td>19</td>\n",
       "      <td>0</td>\n",
       "      <td>1</td>\n",
       "      <td>1</td>\n",
       "      <td>1</td>\n",
       "    </tr>\n",
       "    <tr>\n",
       "      <th>4854</th>\n",
       "      <td>1</td>\n",
       "      <td>19</td>\n",
       "      <td>0</td>\n",
       "      <td>0</td>\n",
       "      <td>0</td>\n",
       "      <td>1</td>\n",
       "    </tr>\n",
       "    <tr>\n",
       "      <th>5991</th>\n",
       "      <td>1</td>\n",
       "      <td>18</td>\n",
       "      <td>0</td>\n",
       "      <td>1</td>\n",
       "      <td>0</td>\n",
       "      <td>1</td>\n",
       "    </tr>\n",
       "    <tr>\n",
       "      <th>6386</th>\n",
       "      <td>0</td>\n",
       "      <td>19</td>\n",
       "      <td>0</td>\n",
       "      <td>1</td>\n",
       "      <td>1</td>\n",
       "      <td>1</td>\n",
       "    </tr>\n",
       "    <tr>\n",
       "      <th>7748</th>\n",
       "      <td>1</td>\n",
       "      <td>18</td>\n",
       "      <td>1</td>\n",
       "      <td>0</td>\n",
       "      <td>1</td>\n",
       "      <td>1</td>\n",
       "    </tr>\n",
       "    <tr>\n",
       "      <th>8370</th>\n",
       "      <td>1</td>\n",
       "      <td>19</td>\n",
       "      <td>1</td>\n",
       "      <td>1</td>\n",
       "      <td>0</td>\n",
       "      <td>1</td>\n",
       "    </tr>\n",
       "    <tr>\n",
       "      <th>8729</th>\n",
       "      <td>1</td>\n",
       "      <td>18</td>\n",
       "      <td>1</td>\n",
       "      <td>1</td>\n",
       "      <td>1</td>\n",
       "      <td>1</td>\n",
       "    </tr>\n",
       "    <tr>\n",
       "      <th>9184</th>\n",
       "      <td>1</td>\n",
       "      <td>19</td>\n",
       "      <td>0</td>\n",
       "      <td>1</td>\n",
       "      <td>0</td>\n",
       "      <td>1</td>\n",
       "    </tr>\n",
       "  </tbody>\n",
       "</table>\n",
       "</div>"
      ],
      "text/plain": [
       "      Gender  Age  Smoking  Fatigue  Allergy  Cancer\n",
       "326        1   18        0        0        1       1\n",
       "583        1   18        1        0        1       1\n",
       "1634       0   19        0        0        0       1\n",
       "2243       0   18        0        1        1       1\n",
       "2511       0   18        1        0        1       1\n",
       "2526       1   18        0        0        0       1\n",
       "3339       0   18        0        1        1       1\n",
       "3346       0   19        1        0        0       1\n",
       "3528       0   18        0        1        0       1\n",
       "4038       0   18        1        0        0       1\n",
       "4474       0   19        0        1        0       1\n",
       "4614       0   19        0        1        1       1\n",
       "4854       1   19        0        0        0       1\n",
       "5991       1   18        0        1        0       1\n",
       "6386       0   19        0        1        1       1\n",
       "7748       1   18        1        0        1       1\n",
       "8370       1   19        1        1        0       1\n",
       "8729       1   18        1        1        1       1\n",
       "9184       1   19        0        1        0       1"
      ]
     },
     "execution_count": 38,
     "metadata": {},
     "output_type": "execute_result"
    }
   ],
   "source": [
    "df[(df['Cancer']==1) & (df['Age']<=19)]\n",
    "\n",
    "# Nineteen Teenage Patients suffer from Cancer.\n"
   ]
  },
  {
   "cell_type": "code",
   "execution_count": 39,
   "id": "09257b18",
   "metadata": {},
   "outputs": [
    {
     "data": {
      "text/plain": [
       "<AxesSubplot:>"
      ]
     },
     "execution_count": 39,
     "metadata": {},
     "output_type": "execute_result"
    },
    {
     "data": {
      "image/png": "[encoded data removed]",
      "text/plain": [
       "<Figure size 576x432 with 2 Axes>"
      ]
     },
     "metadata": {},
     "output_type": "display_data"
    }
   ],
   "source": [
    "# Correlatiuon of features \n",
    "correlation=df.corr()\n",
    "# Visualizing\n",
    "sns.heatmap(correlation,cmap = 'Blues',annot= True)"
   ]
  },
  {
   "cell_type": "markdown",
   "id": "498b4574",
   "metadata": {},
   "source": [
    "###### Because there is a very week correlation between the target variable('Cancer') and the independent variables, the data wouldn't fit well with linear models such as Logistic regression model .In this Case we use non-linear models like decision trees or Random Forest"
   ]
  },
  {
   "cell_type": "code",
   "execution_count": 40,
   "id": "407f50ed",
   "metadata": {},
   "outputs": [
    {
     "name": "stdout",
     "output_type": "stream",
     "text": [
      "X shape: (10000, 5) \n",
      "y shape: (10000,)\n"
     ]
    }
   ],
   "source": [
    "X = df.drop(columns=['Cancer'])                      \n",
    "y = df['Cancer']\n",
    "\n",
    "print('X shape:', X.shape, '\\ny shape:', y.shape)"
   ]
  },
  {
   "cell_type": "code",
   "execution_count": 41,
   "id": "215a107b",
   "metadata": {},
   "outputs": [
    {
     "data": {
      "text/html": [
       "<div>\n",
       "<style scoped>\n",
       "    .dataframe tbody tr th:only-of-type {\n",
       "        vertical-align: middle;\n",
       "    }\n",
       "\n",
       "    .dataframe tbody tr th {\n",
       "        vertical-align: top;\n",
       "    }\n",
       "\n",
       "    .dataframe thead th {\n",
       "        text-align: right;\n",
       "    }\n",
       "</style>\n",
       "<table border=\"1\" class=\"dataframe\">\n",
       "  <thead>\n",
       "    <tr style=\"text-align: right;\">\n",
       "      <th></th>\n",
       "      <th>Gender</th>\n",
       "      <th>Age</th>\n",
       "      <th>Smoking</th>\n",
       "      <th>Fatigue</th>\n",
       "      <th>Allergy</th>\n",
       "    </tr>\n",
       "  </thead>\n",
       "  <tbody>\n",
       "    <tr>\n",
       "      <th>0</th>\n",
       "      <td>1</td>\n",
       "      <td>85</td>\n",
       "      <td>1</td>\n",
       "      <td>0</td>\n",
       "      <td>1</td>\n",
       "    </tr>\n",
       "    <tr>\n",
       "      <th>1</th>\n",
       "      <td>1</td>\n",
       "      <td>93</td>\n",
       "      <td>0</td>\n",
       "      <td>0</td>\n",
       "      <td>0</td>\n",
       "    </tr>\n",
       "    <tr>\n",
       "      <th>2</th>\n",
       "      <td>1</td>\n",
       "      <td>72</td>\n",
       "      <td>0</td>\n",
       "      <td>1</td>\n",
       "      <td>0</td>\n",
       "    </tr>\n",
       "    <tr>\n",
       "      <th>3</th>\n",
       "      <td>0</td>\n",
       "      <td>58</td>\n",
       "      <td>0</td>\n",
       "      <td>0</td>\n",
       "      <td>1</td>\n",
       "    </tr>\n",
       "    <tr>\n",
       "      <th>4</th>\n",
       "      <td>1</td>\n",
       "      <td>95</td>\n",
       "      <td>1</td>\n",
       "      <td>0</td>\n",
       "      <td>1</td>\n",
       "    </tr>\n",
       "  </tbody>\n",
       "</table>\n",
       "</div>"
      ],
      "text/plain": [
       "   Gender  Age  Smoking  Fatigue  Allergy\n",
       "0       1   85        1        0        1\n",
       "1       1   93        0        0        0\n",
       "2       1   72        0        1        0\n",
       "3       0   58        0        0        1\n",
       "4       1   95        1        0        1"
      ]
     },
     "execution_count": 41,
     "metadata": {},
     "output_type": "execute_result"
    }
   ],
   "source": [
    "X.head()"
   ]
  },
  {
   "cell_type": "code",
   "execution_count": 42,
   "id": "cec58c87",
   "metadata": {},
   "outputs": [
    {
     "name": "stdout",
     "output_type": "stream",
     "text": [
      "X_train shape: (9000, 5)\n",
      "y_train shape: (9000,)\n",
      "X_test shape: (1000, 5)\n",
      "y_test shape: (1000,)\n"
     ]
    }
   ],
   "source": [
    "# Split the data into training and test data\n",
    "X_train, X_test, y_train, y_test = train_test_split(X, y, test_size = 0.1, random_state = 42)\n",
    "\n",
    "print(\"X_train shape:\", X_train.shape)\n",
    "print(\"y_train shape:\", y_train.shape)\n",
    "print(\"X_test shape:\", X_test.shape)\n",
    "print(\"y_test shape:\", y_test.shape)"
   ]
  },
  {
   "cell_type": "markdown",
   "id": "cab10e65",
   "metadata": {},
   "source": [
    "# Building the model"
   ]
  },
  {
   "cell_type": "markdown",
   "id": "ed4cfe98",
   "metadata": {},
   "source": [
    "### Baseline"
   ]
  },
  {
   "cell_type": "code",
   "execution_count": 43,
   "id": "957f2289",
   "metadata": {},
   "outputs": [
    {
     "name": "stdout",
     "output_type": "stream",
     "text": [
      "The baseline accuracy is  90.36 %\n"
     ]
    }
   ],
   "source": [
    "# Calculating the baseline accuracy\n",
    "acc_baseline = df['Cancer'].value_counts(normalize = True).max()\n",
    "print('The baseline accuracy is ', round(acc_baseline * 100, 4), '%')"
   ]
  },
  {
   "cell_type": "markdown",
   "id": "32d7b9b7",
   "metadata": {},
   "source": [
    "### Iterate"
   ]
  },
  {
   "cell_type": "markdown",
   "id": "d24bacd7",
   "metadata": {},
   "source": [
    "Using GridSearchCv to get the best hyperparameter for the model"
   ]
  },
  {
   "cell_type": "code",
   "execution_count": 44,
   "id": "c47ca227",
   "metadata": {},
   "outputs": [
    {
     "data": {
      "text/plain": [
       "{'max_depth': [100, 200, 300],\n",
       " 'n_estimators': [100, 200, 300],\n",
       " 'min_samples_split': [5, 10, 15],\n",
       " 'min_samples_leaf': [1, 2, 3],\n",
       " 'max_features': ['sqrt', 'log2']}"
      ]
     },
     "execution_count": 44,
     "metadata": {},
     "output_type": "execute_result"
    }
   ],
   "source": [
    "# Creating a dictionary with range of hyperparameters for hyperparameter tunning\n",
    "params = {\n",
    "    \"max_depth\": [ 100, 200, 300],  # Maximum depth of each tree\n",
    "    \"n_estimators\": [100, 200, 300], # Number of trees in the forest\n",
    "    'min_samples_split':[5, 10, 15],# Minimum number of samples required to split a node\n",
    "    'min_samples_leaf':[1, 2, 3],  # Minimum nuber of samples required at each leaf node\n",
    "    'max_features':['sqrt','log2'], # Number of features to consider\n",
    "}\n",
    "params"
   ]
  },
  {
   "cell_type": "code",
   "execution_count": 45,
   "id": "a1add4fd",
   "metadata": {},
   "outputs": [
    {
     "data": {
      "text/plain": [
       "GridSearchCV(cv=2, estimator=RandomForestClassifier(random_state=42), n_jobs=-1,\n",
       "             param_grid={'max_depth': [100, 200, 300],\n",
       "                         'max_features': ['sqrt', 'log2'],\n",
       "                         'min_samples_leaf': [1, 2, 3],\n",
       "                         'min_samples_split': [5, 10, 15],\n",
       "                         'n_estimators': [100, 200, 300]},\n",
       "             scoring='accuracy', verbose=1)"
      ]
     },
     "execution_count": 45,
     "metadata": {},
     "output_type": "execute_result"
    }
   ],
   "source": [
    "# Creating GridSearchCv to get the best hyperparameters for the model\n",
    "model = GridSearchCV(\n",
    "    estimator=RandomForestClassifier(random_state=42),\n",
    "    param_grid = params,\n",
    "    cv = 2, # Number of cross validations\n",
    "    scoring='accuracy',\n",
    "    n_jobs = -1, \n",
    "    verbose = 1\n",
    ")\n",
    "model"
   ]
  },
  {
   "cell_type": "code",
   "execution_count": 46,
   "id": "f9985796",
   "metadata": {},
   "outputs": [
    {
     "data": {
      "text/plain": [
       "0    8134\n",
       "1     866\n",
       "Name: Cancer, dtype: int64"
      ]
     },
     "execution_count": 46,
     "metadata": {},
     "output_type": "execute_result"
    }
   ],
   "source": [
    "y_train.value_counts()"
   ]
  },
  {
   "cell_type": "markdown",
   "id": "844dc608",
   "metadata": {},
   "source": [
    "#### using Oversampling on our training data to prevent bias and increase the number of cancer patients since it was low"
   ]
  },
  {
   "cell_type": "code",
   "execution_count": 47,
   "id": "a42d3bee",
   "metadata": {},
   "outputs": [],
   "source": [
    "# peforming OverSampling on the training data\n",
    "ros = RandomOverSampler()\n",
    "X_resampled, y_resampled = ros.fit_resample(X_train, y_train)"
   ]
  },
  {
   "cell_type": "code",
   "execution_count": 48,
   "id": "7ce6c055",
   "metadata": {},
   "outputs": [
    {
     "name": "stdout",
     "output_type": "stream",
     "text": [
      "X-resampled: (16268, 5) \n",
      "y-resampled: (16268,)\n"
     ]
    }
   ],
   "source": [
    "# Printing the shape of our resampled data\n",
    "print('X-resampled:',X_resampled.shape, \"\\ny-resampled:\", y_resampled.shape)"
   ]
  },
  {
   "cell_type": "code",
   "execution_count": 49,
   "id": "1181ed55",
   "metadata": {},
   "outputs": [
    {
     "data": {
      "text/plain": [
       "0    8134\n",
       "1    8134\n",
       "Name: Cancer, dtype: int64"
      ]
     },
     "execution_count": 49,
     "metadata": {},
     "output_type": "execute_result"
    }
   ],
   "source": [
    "y_resampled.value_counts()"
   ]
  },
  {
   "cell_type": "code",
   "execution_count": 50,
   "id": "db041b33",
   "metadata": {},
   "outputs": [
    {
     "name": "stdout",
     "output_type": "stream",
     "text": [
      "Fitting 2 folds for each of 162 candidates, totalling 324 fits\n"
     ]
    },
    {
     "data": {
      "text/plain": [
       "GridSearchCV(cv=2, estimator=RandomForestClassifier(random_state=42), n_jobs=-1,\n",
       "             param_grid={'max_depth': [100, 200, 300],\n",
       "                         'max_features': ['sqrt', 'log2'],\n",
       "                         'min_samples_leaf': [1, 2, 3],\n",
       "                         'min_samples_split': [5, 10, 15],\n",
       "                         'n_estimators': [100, 200, 300]},\n",
       "             scoring='accuracy', verbose=1)"
      ]
     },
     "execution_count": 50,
     "metadata": {},
     "output_type": "execute_result"
    }
   ],
   "source": [
    "# fitting the model in our training dataset\n",
    "model.fit(X_train, y_train)"
   ]
  },
  {
   "cell_type": "code",
   "execution_count": 51,
   "id": "d2b75a0e",
   "metadata": {},
   "outputs": [
    {
     "data": {
      "text/plain": [
       "{'max_depth': 100,\n",
       " 'max_features': 'sqrt',\n",
       " 'min_samples_leaf': 1,\n",
       " 'min_samples_split': 15,\n",
       " 'n_estimators': 300}"
      ]
     },
     "execution_count": 51,
     "metadata": {},
     "output_type": "execute_result"
    }
   ],
   "source": [
    "# finding the best params for the model\n",
    "best_params= model.best_params_\n",
    "best_params"
   ]
  },
  {
   "cell_type": "code",
   "execution_count": 52,
   "id": "03da5896",
   "metadata": {},
   "outputs": [
    {
     "data": {
      "text/plain": [
       "RandomForestClassifier(max_depth=100, max_features='sqrt', min_samples_split=15,\n",
       "                       n_estimators=300, random_state=42)"
      ]
     },
     "execution_count": 52,
     "metadata": {},
     "output_type": "execute_result"
    }
   ],
   "source": [
    "# creating a new model with best params\n",
    "model_rfc = RandomForestClassifier(random_state = 42, **best_params)\n",
    "model_rfc"
   ]
  },
  {
   "cell_type": "markdown",
   "id": "978056dc",
   "metadata": {},
   "source": [
    "fitting the model with the oversampled data "
   ]
  },
  {
   "cell_type": "code",
   "execution_count": 53,
   "id": "3be2c792",
   "metadata": {},
   "outputs": [
    {
     "data": {
      "text/plain": [
       "RandomForestClassifier(max_depth=100, max_features='sqrt', min_samples_split=15,\n",
       "                       n_estimators=300, random_state=42)"
      ]
     },
     "execution_count": 53,
     "metadata": {},
     "output_type": "execute_result"
    }
   ],
   "source": [
    "# Fitting the new model with the best params into the Oversampled dataset\n",
    "model_rfc.fit(X_resampled, y_resampled)"
   ]
  },
  {
   "cell_type": "code",
   "execution_count": 54,
   "id": "d5fa01be",
   "metadata": {},
   "outputs": [
    {
     "data": {
      "text/plain": [
       "['Gender', 'Age', 'Smoking', 'Fatigue', 'Allergy']"
      ]
     },
     "execution_count": 54,
     "metadata": {},
     "output_type": "execute_result"
    }
   ],
   "source": [
    "index_list = X_train.columns.tolist()\n",
    "index_list"
   ]
  },
  {
   "cell_type": "code",
   "execution_count": 55,
   "id": "f1a2b479",
   "metadata": {},
   "outputs": [
    {
     "data": {
      "text/plain": [
       "[0.01827706919808644,\n",
       " 0.9146323270696145,\n",
       " 0.021704554572124047,\n",
       " 0.02281075797665506,\n",
       " 0.02257529118351988]"
      ]
     },
     "execution_count": 55,
     "metadata": {},
     "output_type": "execute_result"
    }
   ],
   "source": [
    "# Feature importance\n",
    "feat_imp = model_rfc.feature_importances_.tolist()\n",
    "feat_imp"
   ]
  },
  {
   "cell_type": "code",
   "execution_count": 56,
   "id": "42a9d2fa",
   "metadata": {},
   "outputs": [
    {
     "data": {
      "text/html": [
       "<div>\n",
       "<style scoped>\n",
       "    .dataframe tbody tr th:only-of-type {\n",
       "        vertical-align: middle;\n",
       "    }\n",
       "\n",
       "    .dataframe tbody tr th {\n",
       "        vertical-align: top;\n",
       "    }\n",
       "\n",
       "    .dataframe thead th {\n",
       "        text-align: right;\n",
       "    }\n",
       "</style>\n",
       "<table border=\"1\" class=\"dataframe\">\n",
       "  <thead>\n",
       "    <tr style=\"text-align: right;\">\n",
       "      <th></th>\n",
       "      <th>feature importance</th>\n",
       "    </tr>\n",
       "  </thead>\n",
       "  <tbody>\n",
       "    <tr>\n",
       "      <th>Gender</th>\n",
       "      <td>0.018277</td>\n",
       "    </tr>\n",
       "    <tr>\n",
       "      <th>Age</th>\n",
       "      <td>0.914632</td>\n",
       "    </tr>\n",
       "    <tr>\n",
       "      <th>Smoking</th>\n",
       "      <td>0.021705</td>\n",
       "    </tr>\n",
       "    <tr>\n",
       "      <th>Fatigue</th>\n",
       "      <td>0.022811</td>\n",
       "    </tr>\n",
       "    <tr>\n",
       "      <th>Allergy</th>\n",
       "      <td>0.022575</td>\n",
       "    </tr>\n",
       "  </tbody>\n",
       "</table>\n",
       "</div>"
      ],
      "text/plain": [
       "         feature importance\n",
       "Gender             0.018277\n",
       "Age                0.914632\n",
       "Smoking            0.021705\n",
       "Fatigue            0.022811\n",
       "Allergy            0.022575"
      ]
     },
     "execution_count": 56,
     "metadata": {},
     "output_type": "execute_result"
    }
   ],
   "source": [
    "# feature importance dataframe\n",
    "df_feat_imp = pd.DataFrame({'feature importance': feat_imp}, index=index_list)\n",
    "df_feat_imp"
   ]
  },
  {
   "cell_type": "code",
   "execution_count": 57,
   "id": "f3e7b74f",
   "metadata": {},
   "outputs": [
    {
     "data": {
      "image/png": "[encoded data removed]",
      "text/plain": [
       "<Figure size 576x432 with 1 Axes>"
      ]
     },
     "metadata": {},
     "output_type": "display_data"
    }
   ],
   "source": [
    "df_feat_imp.sort_values(by = 'feature importance', ascending=True).plot.barh(legend = False);\n",
    "\n",
    "# label axis\n",
    "plt.xlabel('gini importance')\n",
    "plt.ylabel('feature')\n",
    "plt.title('Importance of features');"
   ]
  },
  {
   "cell_type": "markdown",
   "id": "5bdde07b",
   "metadata": {},
   "source": [
    "#### Age has the most influence on the model's prediction"
   ]
  },
  {
   "cell_type": "code",
   "execution_count": 58,
   "id": "90ad6227",
   "metadata": {},
   "outputs": [
    {
     "data": {
      "text/plain": [
       "array([0, 0, 0, 1, 0, 0, 0, 0, 0, 0, 0, 1, 0, 1, 1, 0, 0, 0, 1, 1],\n",
       "      dtype=int64)"
      ]
     },
     "execution_count": 58,
     "metadata": {},
     "output_type": "execute_result"
    }
   ],
   "source": [
    "# Predicting the Oversampled training data\n",
    "y_re = model_rfc.predict(X_resampled)\n",
    "y_re[:20]"
   ]
  },
  {
   "cell_type": "code",
   "execution_count": 59,
   "id": "bd6ec6f6",
   "metadata": {},
   "outputs": [
    {
     "data": {
      "text/plain": [
       "array([1, 1, 0, 1, 0, 0, 0, 1, 1, 0, 0, 0, 0, 0, 0, 1, 1, 0, 1, 0],\n",
       "      dtype=int64)"
      ]
     },
     "execution_count": 59,
     "metadata": {},
     "output_type": "execute_result"
    }
   ],
   "source": [
    "# predict the test data\n",
    "y_pred = model_rfc.predict(X_test)\n",
    "y_pred[:20]"
   ]
  },
  {
   "cell_type": "code",
   "execution_count": 60,
   "id": "d8989cd2",
   "metadata": {},
   "outputs": [
    {
     "name": "stdout",
     "output_type": "stream",
     "text": [
      "Test accuracy: 100.0%\n"
     ]
    }
   ],
   "source": [
    "# calculate the testing accuracy\n",
    "test_acc = model_rfc.score(X_test, y_pred)\n",
    "print(f\"Test accuracy: {test_acc * 100}%\")"
   ]
  },
  {
   "cell_type": "code",
   "execution_count": 61,
   "id": "7df84e91",
   "metadata": {},
   "outputs": [
    {
     "name": "stdout",
     "output_type": "stream",
     "text": [
      "Training accuracy for overSampled data: 76.7703%\n"
     ]
    }
   ],
   "source": [
    "# calculate the resample_training accuracy\n",
    "re_training_acc = model_rfc.score(X_resampled, y_resampled)\n",
    "print(f\"Training accuracy for overSampled data: {round(re_training_acc* 100, 4) }%\")"
   ]
  },
  {
   "cell_type": "code",
   "execution_count": 62,
   "id": "0ede732e",
   "metadata": {},
   "outputs": [
    {
     "data": {
      "image/png": "[encoded data removed]",
      "text/plain": [
       "<Figure size 576x432 with 2 Axes>"
      ]
     },
     "metadata": {},
     "output_type": "display_data"
    }
   ],
   "source": [
    "# create a confusion matrix to analyze the model performance on the overSampled training data\n",
    "ConfusionMatrixDisplay.from_estimator(model_rfc,X_resampled ,y_re );"
   ]
  },
  {
   "cell_type": "code",
   "execution_count": 63,
   "id": "0a0182ee",
   "metadata": {},
   "outputs": [
    {
     "data": {
      "image/png": "[encoded data removed]",
      "text/plain": [
       "<Figure size 576x432 with 2 Axes>"
      ]
     },
     "metadata": {},
     "output_type": "display_data"
    }
   ],
   "source": [
    "# create a confusion matrix for model analysis\n",
    "ConfusionMatrixDisplay.from_estimator(model_rfc,X_test ,y_test );"
   ]
  },
  {
   "cell_type": "code",
   "execution_count": 64,
   "id": "9972f11d",
   "metadata": {},
   "outputs": [
    {
     "name": "stdout",
     "output_type": "stream",
     "text": [
      "F1 Score: 0.1569\n",
      "AUC-ROC Score: 0.4594\n",
      "Recall: 0.3980\n",
      "Precision: 0.0977\n"
     ]
    }
   ],
   "source": [
    "y_pred_proba = model_rfc.predict_proba(X_test)[:, 1]\n",
    "# Calculate F1 score\n",
    "f1 = f1_score(y_test, y_pred)\n",
    "\n",
    "# Calculate AUC-ROC score\n",
    "auc_roc = roc_auc_score(y_test, y_pred_proba)\n",
    "\n",
    "# Calculate recall (also known as sensitivity or true positive rate)\n",
    "recall = recall_score(y_test, y_pred)\n",
    "\n",
    "# Calculate precision score\n",
    "precision = precision_score(y_test, y_pred)\n",
    "\n",
    "print(f\"F1 Score: {f1:.4f}\")\n",
    "print(f\"AUC-ROC Score: {auc_roc:.4f}\")\n",
    "print(f\"Recall: {recall:.4f}\")\n",
    "print(f\"Precision: {precision:.4f}\")"
   ]
  },
  {
   "cell_type": "code",
   "execution_count": 65,
   "id": "4b101066",
   "metadata": {},
   "outputs": [
    {
     "data": {
      "image/png": "[encoded data removed]",
      "text/plain": [
       "<Figure size 576x432 with 2 Axes>"
      ]
     },
     "metadata": {},
     "output_type": "display_data"
    }
   ],
   "source": [
    "# create a confusion matrix to analyze the model performance on the test data\n",
    "ConfusionMatrixDisplay.from_estimator(model_rfc, X_test, y_pred);"
   ]
  },
  {
   "cell_type": "markdown",
   "id": "49e3cb10",
   "metadata": {},
   "source": [
    "# MODEL DEPLOYMENT "
   ]
  },
  {
   "cell_type": "code",
   "execution_count": 66,
   "id": "30b37f86",
   "metadata": {},
   "outputs": [
    {
     "data": {
      "text/plain": [
       "array([6.02431869e-01, 7.45329757e-01, 5.58469831e-02, 6.70099648e-01,\n",
       "       4.22490842e-03, 4.41211577e-01, 3.46460090e-01, 8.10366235e-01,\n",
       "       7.63676341e-01, 8.18244718e-03, 3.87452106e-02, 3.70890629e-01,\n",
       "       1.15911295e-02, 4.71373572e-01, 1.59295294e-02, 5.70449478e-01,\n",
       "       5.85252638e-01, 8.38371460e-03, 8.69555383e-01, 8.28156249e-03,\n",
       "       6.55549191e-01, 3.95050125e-03, 8.36822109e-01, 9.08637904e-03,\n",
       "       5.86879592e-03, 1.97505804e-01, 4.95658017e-01, 7.43805177e-01,\n",
       "       1.47177038e-02, 4.99287520e-02, 2.85873266e-01, 6.75097083e-01,\n",
       "       4.81127060e-03, 6.64387754e-01, 2.30545278e-01, 7.28524271e-01,\n",
       "       4.76161616e-03, 7.54348056e-01, 1.50000000e-03, 3.08496686e-01,\n",
       "       5.16042781e-03, 7.78190596e-01, 6.39977610e-01, 7.20641748e-01,\n",
       "       6.72586620e-02, 5.99085852e-01, 2.10107165e-02, 5.33255751e-02,\n",
       "       9.21416237e-02, 5.98609978e-01, 3.88178716e-01, 3.22295992e-01,\n",
       "       1.70424741e-02, 2.53344789e-02, 4.68696830e-01, 6.87568253e-01,\n",
       "       9.56784153e-03, 7.21943127e-01, 1.10845295e-03, 8.64105809e-02,\n",
       "       6.34821748e-01, 5.43071709e-02, 2.78312331e-03, 4.52117584e-01,\n",
       "       1.80097231e-02, 5.96564512e-01, 2.38619502e-02, 3.77645116e-01,\n",
       "       5.18280277e-01, 7.04825714e-01, 7.05007774e-01, 7.76456904e-01,\n",
       "       5.34909354e-02, 5.61236013e-01, 3.96059061e-01, 7.52167660e-01,\n",
       "       6.52011515e-01, 5.94670382e-01, 2.15475341e-02, 1.39552627e-02,\n",
       "       4.22490842e-03, 3.28014541e-02, 7.60937890e-01, 7.68277203e-01,\n",
       "       7.54224953e-01, 7.87383168e-01, 6.86115049e-01, 5.14093687e-01,\n",
       "       7.54176472e-01, 1.47058824e-03, 7.27388093e-03, 1.11160095e-01,\n",
       "       1.79789192e-02, 8.90671981e-01, 5.30583557e-01, 4.14684456e-01,\n",
       "       9.08637904e-03, 8.94994959e-03, 1.82757523e-02, 1.26104723e-01,\n",
       "       2.22093944e-01, 3.08496686e-01, 5.54429606e-01, 4.11552994e-01,\n",
       "       5.00487292e-01, 5.18288176e-01, 5.37604271e-01, 9.09090909e-04,\n",
       "       8.12398323e-01, 2.13226496e-01, 5.69025511e-01, 1.29081762e-02,\n",
       "       1.21399818e-01, 5.01648070e-01, 1.06462310e-02, 4.08922010e-01,\n",
       "       1.37859754e-02, 8.22878999e-01, 1.97505804e-01, 6.87568253e-01,\n",
       "       2.25407730e-02, 6.93986482e-01, 7.67310293e-01, 3.48365774e-01,\n",
       "       0.00000000e+00, 4.27252175e-02, 6.36235202e-01, 1.56299841e-03,\n",
       "       0.00000000e+00, 8.65247345e-03, 5.94706054e-02, 8.38371460e-03,\n",
       "       1.54233456e-02, 7.76206636e-01, 1.18421053e-03, 4.99987561e-01,\n",
       "       7.50952554e-01, 2.17672049e-01, 3.46460090e-01, 4.60202053e-01,\n",
       "       6.23505514e-01, 1.95970124e-01, 4.99453923e-01, 5.54429606e-01,\n",
       "       8.94994959e-03, 5.40679536e-02, 6.64387754e-01, 3.23572082e-01,\n",
       "       5.31481481e-03, 5.95252184e-01, 8.65595975e-03, 1.94176338e-02,\n",
       "       1.29435829e-02, 1.23181544e-01, 1.28144043e-02, 9.56784153e-03,\n",
       "       4.93300619e-02, 6.05120607e-01, 5.08661904e-01, 4.57771408e-02,\n",
       "       6.70099648e-01, 1.16511241e-02, 3.16287879e-03, 8.58579755e-01,\n",
       "       7.93650794e-04, 1.12615748e-01, 3.10880227e-02, 7.47765735e-01,\n",
       "       2.13659148e-03, 3.43124712e-03, 6.06795963e-01, 0.00000000e+00,\n",
       "       1.97273843e-02, 2.33618062e-02, 4.26257433e-01, 5.77272727e-03,\n",
       "       7.62470439e-01, 1.42351774e-02, 3.77645116e-01, 5.77272727e-03,\n",
       "       5.68296143e-01, 5.61934634e-01, 6.14281047e-01, 7.93650794e-04,\n",
       "       6.00810081e-01, 7.44397909e-01, 8.15687451e-01, 7.11571555e-01,\n",
       "       1.57894737e-03, 1.46461287e-02, 2.80102138e-02, 7.40956401e-01,\n",
       "       1.65992200e-01, 7.76456904e-01, 7.67310293e-01, 2.69558050e-01,\n",
       "       7.11706196e-01, 8.27510931e-01, 7.19082396e-01, 9.25925926e-04,\n",
       "       4.56679548e-01, 5.00487292e-01, 6.88662808e-02, 5.14541063e-03,\n",
       "       3.84509253e-03, 8.23329242e-01, 3.41250562e-03, 5.79986868e-01,\n",
       "       6.23729740e-01, 8.17601162e-01, 5.67657154e-03, 5.96564512e-01,\n",
       "       1.33071607e-02, 4.62280702e-03, 5.65727493e-01, 4.79386998e-01,\n",
       "       3.27859569e-02, 1.96986231e-01, 7.54838439e-01, 1.81252267e-02,\n",
       "       8.23329242e-01, 5.92879902e-01, 2.51207729e-03, 9.02538585e-03,\n",
       "       4.82667333e-03, 5.67347668e-01, 9.67498462e-02, 8.33032489e-01,\n",
       "       2.80423280e-03, 3.95050125e-03, 7.12034859e-01, 6.50268219e-01,\n",
       "       8.09980528e-01, 0.00000000e+00, 4.35712251e-03, 7.20359631e-01,\n",
       "       3.45826895e-01, 6.88005738e-01, 7.74032980e-01, 4.36140351e-03,\n",
       "       8.05186986e-01, 7.67923622e-01, 8.03056117e-01, 4.73309042e-02,\n",
       "       4.11174999e-02, 1.56299841e-03, 1.47058824e-03, 6.24648422e-01,\n",
       "       3.89048980e-03, 6.56163048e-01, 7.76456904e-01, 1.42265591e-01,\n",
       "       8.66034191e-01, 4.44885776e-02, 6.84105880e-01, 3.37724140e-02,\n",
       "       7.40192813e-03, 4.35712251e-03, 5.65325621e-01, 6.65282514e-02,\n",
       "       6.47265204e-01, 7.81128971e-01, 8.31014425e-01, 1.26023818e-02,\n",
       "       6.61049822e-01, 2.69991050e-01, 5.33283208e-03, 1.97505804e-01,\n",
       "       6.82064436e-01, 1.56299841e-03, 0.00000000e+00, 1.65985216e-01,\n",
       "       3.51696523e-02, 7.33981059e-01, 6.87860896e-01, 1.03050955e-02,\n",
       "       4.11552994e-01, 5.64783031e-01, 0.00000000e+00, 2.30545278e-01,\n",
       "       2.45437970e-02, 6.58406753e-01, 6.94194489e-03, 6.39819064e-02,\n",
       "       7.70047775e-01, 7.68742803e-01, 5.87194822e-01, 3.11942676e-02,\n",
       "       5.36697506e-01, 2.83905055e-02, 1.11548320e-01, 4.96534690e-01,\n",
       "       6.22839237e-01, 7.20641748e-01, 2.39843629e-01, 8.87047241e-02,\n",
       "       5.49126763e-01, 6.82064436e-01, 7.55648275e-02, 5.81361356e-01,\n",
       "       1.03099740e-01, 3.58636192e-02, 4.96534690e-01, 5.58095954e-01,\n",
       "       8.52051581e-02, 2.69452351e-02, 3.25208981e-03, 4.61341477e-01,\n",
       "       7.57986411e-01, 1.10710537e-02, 5.02652457e-01, 6.75097083e-01,\n",
       "       8.23873911e-01, 1.52392725e-02, 1.50000000e-03, 5.61751610e-01,\n",
       "       7.57986411e-01, 1.66666667e-03, 6.87860896e-01, 5.90912095e-01,\n",
       "       6.14281047e-01, 4.74228873e-03, 7.47653991e-02, 0.00000000e+00,\n",
       "       0.00000000e+00, 7.45516631e-01, 0.00000000e+00, 1.75974868e-02,\n",
       "       4.46357876e-01, 4.25151515e-03, 4.61355903e-01, 0.00000000e+00,\n",
       "       6.88472745e-03, 1.18762320e-02, 3.15285306e-01, 6.24225575e-02,\n",
       "       7.45329757e-01, 7.94738652e-02, 5.90200525e-01, 7.21943127e-01,\n",
       "       1.47070002e-01, 6.34833179e-01, 6.18580260e-02, 1.23181544e-01,\n",
       "       2.70870553e-01, 1.89424939e-02, 0.00000000e+00, 3.16287879e-03,\n",
       "       0.00000000e+00, 6.94299544e-01, 8.33333333e-04, 7.29716265e-01,\n",
       "       5.90200525e-01, 2.40395992e-02, 9.22214558e-01, 2.73809524e-03,\n",
       "       9.66810901e-03, 5.49716624e-02, 7.14841784e-01, 6.39454267e-01,\n",
       "       0.00000000e+00, 4.71602092e-01, 4.94227223e-01, 7.03529628e-01,\n",
       "       8.69555383e-01, 1.43888732e-01, 7.12058512e-01, 1.98945654e-01,\n",
       "       4.96534690e-01, 2.04612543e-01, 8.20097782e-01, 6.29786947e-01,\n",
       "       2.89015404e-02, 7.92894362e-01, 2.69452351e-02, 0.00000000e+00,\n",
       "       8.17601162e-01, 1.10710537e-02, 1.88405797e-03, 5.49126763e-01,\n",
       "       5.85578023e-01, 7.62232055e-01, 6.33188354e-01, 8.38371460e-03,\n",
       "       4.24394319e-03, 1.43888732e-01, 3.33333333e-04, 1.25000000e-03,\n",
       "       4.79386998e-01, 3.85396479e-02, 1.07551487e-03, 6.87568904e-02,\n",
       "       4.60247073e-01, 2.78803815e-02, 5.33644496e-01, 3.33333333e-04,\n",
       "       1.75974868e-02, 8.45633073e-01, 2.12783119e-01, 1.23261942e-02,\n",
       "       5.06117873e-01, 5.65325621e-01, 0.00000000e+00, 8.66034191e-01,\n",
       "       5.95193827e-01, 1.94176338e-02, 0.00000000e+00, 0.00000000e+00,\n",
       "       6.61049822e-01, 3.84713401e-01, 6.26156940e-02, 0.00000000e+00,\n",
       "       4.94227223e-01, 1.45833333e-03, 1.54233456e-02, 7.60787696e-01,\n",
       "       3.59803922e-03, 1.93312937e-02, 2.98067945e-03, 1.12721576e-01,\n",
       "       0.00000000e+00, 7.04621751e-01, 5.89190450e-02, 4.69507507e-01,\n",
       "       1.97273843e-02, 3.58636192e-02, 1.80361707e-01, 7.37963194e-01,\n",
       "       2.76268116e-03, 2.86182730e-02, 7.98181338e-01, 4.90896435e-01,\n",
       "       7.72844482e-01, 2.12571940e-02, 9.50657412e-02, 3.43386473e-02,\n",
       "       4.92875783e-01, 1.47177038e-02, 0.00000000e+00, 8.09394115e-01,\n",
       "       7.16218659e-01, 1.93312937e-02, 6.39938015e-01, 6.22839237e-01,\n",
       "       6.34833179e-01, 6.56163048e-01, 1.57244502e-01, 4.82667333e-03,\n",
       "       5.92879902e-01, 8.23329242e-01, 9.17004776e-03, 6.01496443e-01,\n",
       "       2.59246921e-02, 5.76653030e-03, 6.68405313e-03, 6.96598892e-01,\n",
       "       7.61556744e-03, 5.77272727e-03, 0.00000000e+00, 6.02431869e-01,\n",
       "       6.25000000e-04, 2.69452351e-02, 1.16666667e-03, 7.46866586e-01,\n",
       "       1.92982456e-03, 0.00000000e+00, 1.90790546e-02, 5.69025511e-01,\n",
       "       6.95270786e-01, 4.78959099e-02, 1.93034433e-02, 7.74178469e-01,\n",
       "       8.79200656e-01, 1.43210866e-02, 5.19203016e-01, 6.01496443e-01,\n",
       "       7.41143066e-01, 4.82667333e-03, 2.65015071e-02, 3.48365774e-01,\n",
       "       8.78851295e-03, 7.57986411e-01, 6.47265204e-01, 4.35897436e-03,\n",
       "       5.16791055e-01, 0.00000000e+00, 7.10601496e-01, 3.73165162e-01,\n",
       "       1.70254215e-01, 4.18575501e-01, 5.04008944e-01, 7.92894362e-01,\n",
       "       6.55549191e-01, 1.40241265e-01, 4.52313230e-01, 7.34017577e-01,\n",
       "       9.81113666e-01, 7.55648275e-02, 6.81987557e-02, 6.06170892e-01,\n",
       "       8.17601162e-01, 8.98790853e-01, 7.36892470e-01, 5.83914146e-01,\n",
       "       7.93650794e-04, 2.98067945e-03, 6.88005738e-01, 7.72780424e-01,\n",
       "       3.43124712e-03, 6.27197172e-02, 6.29171804e-02, 8.54457733e-01,\n",
       "       5.94670382e-01, 4.32676062e-01, 1.22432238e-01, 5.27556046e-01,\n",
       "       3.98477915e-01, 4.90324273e-01, 4.99774393e-01, 5.32962543e-01,\n",
       "       4.68696830e-01, 4.30113696e-02, 5.06318528e-01, 5.90001955e-01,\n",
       "       2.16189009e-01, 2.00733430e-02, 1.29081762e-02, 1.58576468e-02,\n",
       "       4.69507507e-01, 4.90324273e-01, 1.16511241e-02, 1.80097231e-02,\n",
       "       7.60937890e-01, 6.75097083e-01, 3.41072182e-02, 5.80112721e-03,\n",
       "       5.49734603e-01, 7.42495823e-01, 4.11552994e-01, 5.49822733e-02,\n",
       "       7.19359186e-01, 7.72844482e-01, 8.33032489e-01, 8.23873911e-01,\n",
       "       5.02534749e-03, 5.62452606e-01, 0.00000000e+00, 6.94919086e-02,\n",
       "       1.22807018e-03, 7.38235642e-01, 7.54838439e-01, 6.24225575e-02,\n",
       "       5.77272727e-03, 5.78209277e-01, 6.21316880e-01, 6.15060955e-01,\n",
       "       4.98687694e-01, 7.54176472e-01, 1.91242096e-01, 6.46630457e-03,\n",
       "       3.25685643e-01, 6.17370508e-01, 6.52011515e-01, 2.14060738e-02,\n",
       "       6.42016807e-03, 6.82539683e-03, 3.58636192e-02, 5.90912095e-01,\n",
       "       7.47765735e-01, 1.24049907e-01, 6.21316880e-01, 6.75097083e-01,\n",
       "       5.62452606e-01, 1.58546362e-02, 1.82392554e-01, 4.36140351e-03,\n",
       "       4.34349462e-01, 1.25032944e-02, 2.44229791e-02, 4.41211577e-01,\n",
       "       8.44772517e-02, 5.16420978e-01, 1.43210866e-02, 5.70051887e-02,\n",
       "       7.62232055e-01, 5.32246177e-03, 3.89116776e-01, 2.44229791e-02,\n",
       "       2.85256410e-03, 1.85574646e-02, 7.44397909e-01, 1.16666667e-03,\n",
       "       5.78248410e-01, 5.92253183e-02, 3.57297148e-01, 8.00000000e-04,\n",
       "       0.00000000e+00, 0.00000000e+00, 7.81128971e-01, 1.95619109e-01,\n",
       "       6.34821748e-01, 1.35837790e-02, 4.71373572e-01, 4.07289306e-02,\n",
       "       8.20101498e-02, 8.33219376e-01, 0.00000000e+00, 8.00000000e-04,\n",
       "       2.69452351e-02, 2.04036948e-02, 7.29705611e-01, 6.45914433e-01,\n",
       "       1.16084359e-02, 1.09973342e-02, 5.77640396e-01, 6.70806274e-01,\n",
       "       5.40547093e-01, 1.70424741e-02, 7.33981059e-01, 3.27635918e-02,\n",
       "       1.09805612e-01, 3.26656110e-02, 7.73079465e-01, 2.32237301e-02,\n",
       "       7.33315974e-01, 4.99208231e-01, 6.66366699e-01, 4.32676062e-01,\n",
       "       0.00000000e+00, 1.15268425e-01, 0.00000000e+00, 1.32062317e-02,\n",
       "       0.00000000e+00, 8.33219376e-01, 7.36892470e-01, 8.66034191e-01,\n",
       "       6.46129173e-01, 4.68817839e-01, 8.65395907e-01, 4.98687694e-01,\n",
       "       1.22767539e-02, 5.71606668e-01, 0.00000000e+00, 9.25925926e-04,\n",
       "       5.88884799e-01, 2.67367616e-01, 7.45329757e-01, 7.64722018e-01,\n",
       "       1.05638342e-01, 0.00000000e+00, 1.18554675e-02, 3.57894737e-03,\n",
       "       3.08496686e-01, 2.34175273e-02, 4.90324273e-01, 6.81982441e-01,\n",
       "       8.17394193e-01, 1.38599301e-02, 8.05522837e-01, 5.20348488e-01,\n",
       "       6.25000000e-04, 5.33526282e-01, 6.52514721e-01, 1.14956105e-02,\n",
       "       3.36742642e-01, 7.22860792e-03, 5.34313725e-03, 2.85873266e-01,\n",
       "       8.28987819e-01, 2.76268116e-03, 1.97505804e-01, 5.30583557e-01,\n",
       "       6.22264297e-01, 5.49126763e-01, 2.80102138e-02, 4.93431347e-01,\n",
       "       6.64385281e-01, 1.97505804e-01, 6.78579847e-01, 6.44519536e-01,\n",
       "       7.04621751e-01, 3.96610437e-02, 5.83914146e-01, 1.80097231e-02,\n",
       "       0.00000000e+00, 2.73809524e-03, 1.56299841e-03, 6.66366699e-01,\n",
       "       8.15142236e-01, 1.29081762e-02, 1.35837790e-02, 1.21399818e-01,\n",
       "       3.36742642e-01, 1.11548320e-01, 7.13911825e-01, 1.27198552e-02,\n",
       "       7.07064626e-01, 4.52117584e-01, 4.98687694e-01, 1.85185185e-04,\n",
       "       1.95619109e-01, 5.27807964e-01, 6.64387754e-01, 5.49716624e-02,\n",
       "       5.61751610e-01, 5.34601840e-01, 8.98169596e-03, 3.96610437e-02,\n",
       "       4.84848485e-03, 4.25151515e-03, 2.55555556e-03, 7.63676341e-01,\n",
       "       2.74509804e-03, 8.91979624e-01, 5.56674807e-03, 9.21416237e-02,\n",
       "       0.00000000e+00, 5.25863444e-01, 2.17391304e-03, 1.80097231e-02,\n",
       "       6.85324998e-01, 6.17370508e-01, 6.37008929e-01, 6.85490881e-01,\n",
       "       2.60120501e-02, 1.91377794e-01, 1.06462310e-02, 6.71119909e-01,\n",
       "       5.14093687e-01, 7.93650794e-04, 5.90001955e-01, 2.52321981e-03,\n",
       "       8.41216434e-01, 5.16420978e-01, 3.73165162e-01, 1.33333333e-03,\n",
       "       5.73641418e-01, 1.10710537e-02, 4.14684456e-01, 1.86818209e-02,\n",
       "       6.82609159e-01, 1.10845295e-03, 7.22026156e-01, 5.16299619e-01,\n",
       "       7.57986411e-01, 1.80147059e-03, 9.50657412e-02, 8.24929075e-01,\n",
       "       1.80361707e-01, 1.27958526e-01, 6.50339780e-01, 3.51696523e-02,\n",
       "       1.62735364e-02, 8.33032489e-01, 8.18244718e-03, 1.47496288e-02,\n",
       "       4.81586253e-01, 2.16189009e-01, 7.45436903e-03, 6.56163048e-01,\n",
       "       9.08637904e-03, 1.02043967e-02, 7.08328694e-02, 9.29648085e-02,\n",
       "       1.14972527e-02, 5.42465996e-01, 5.15847631e-01, 6.64387754e-01,\n",
       "       4.87608932e-03, 7.91332524e-02, 1.13088013e-02, 4.72315593e-03,\n",
       "       7.44930423e-02, 6.82064436e-01, 6.65304566e-03, 1.26023818e-02,\n",
       "       8.58579755e-01, 7.76206636e-01, 8.00580651e-01, 6.29171804e-02,\n",
       "       8.08169686e-01, 8.49532651e-01, 5.49654196e-01, 2.93868011e-01,\n",
       "       6.64385281e-01, 7.15628155e-01, 5.54716284e-02, 4.28244524e-03,\n",
       "       3.45238095e-03, 6.65304566e-03, 1.01449275e-03, 9.39766845e-01,\n",
       "       1.98945654e-01, 8.23329242e-01, 6.20680091e-01, 1.70370370e-03,\n",
       "       6.84105880e-01, 1.71534642e-02, 7.37024914e-01, 7.35209729e-01,\n",
       "       1.09167603e-02, 1.53301174e-02, 1.52392725e-02, 3.05991459e-01,\n",
       "       7.58279615e-01, 4.56144486e-02, 5.80112721e-03, 9.72074622e-01,\n",
       "       1.35837790e-02, 6.10020822e-01, 4.99774393e-01, 0.00000000e+00,\n",
       "       5.78209277e-01, 4.93431347e-01, 2.15475341e-02, 6.18449495e-01,\n",
       "       5.33079327e-01, 1.18478345e-02, 2.95759832e-01, 2.75187350e-02,\n",
       "       5.96141781e-01, 7.84985087e-01, 5.32076720e-03, 4.21864198e-02,\n",
       "       0.00000000e+00, 1.00416867e-02, 4.24394319e-03, 3.96940187e-02,\n",
       "       0.00000000e+00, 6.86115049e-01, 7.22026156e-01, 5.80880442e-03,\n",
       "       1.29435829e-02, 3.89048980e-03, 5.16420978e-01, 6.42016807e-03,\n",
       "       2.75187350e-02, 8.76169100e-01, 6.81982441e-01, 1.21399818e-01,\n",
       "       5.91044448e-01, 0.00000000e+00, 7.67310293e-01, 3.83111973e-01,\n",
       "       0.00000000e+00, 4.79386998e-01, 3.32621227e-02, 1.62652735e-02,\n",
       "       1.47070002e-01, 0.00000000e+00, 9.72074622e-01, 8.78851295e-03,\n",
       "       2.75187350e-02, 8.71449880e-01, 7.41698585e-01, 8.47121498e-03,\n",
       "       7.18360491e-01, 6.57820503e-01, 1.22807018e-03, 4.46357876e-01,\n",
       "       7.94738652e-02, 5.92253183e-02, 5.06158874e-03, 3.45238095e-03,\n",
       "       8.93576943e-03, 4.30113696e-02, 4.69507507e-01, 1.29081762e-02,\n",
       "       4.99208231e-01, 5.42642409e-01, 6.82064436e-01, 5.36697506e-01,\n",
       "       6.09549645e-01, 2.12783119e-01, 7.28572181e-01, 5.64783031e-01,\n",
       "       8.71449880e-01, 1.70424741e-02, 4.66056478e-01, 2.79220779e-03,\n",
       "       6.34833179e-01, 7.02837423e-01, 1.82392554e-01, 5.37447471e-01,\n",
       "       7.07064626e-01, 1.38599301e-02, 2.89015404e-02, 1.14972527e-02,\n",
       "       5.40815061e-01, 2.20367346e-02, 7.76206636e-01, 3.73534314e-02,\n",
       "       3.58134921e-03, 4.09485348e-02, 6.29171804e-02, 8.94395235e-01,\n",
       "       7.57680664e-01, 6.53838186e-01, 5.49654196e-01, 1.93034433e-02,\n",
       "       0.00000000e+00, 7.31600018e-01, 5.97256938e-01, 5.86845704e-01,\n",
       "       0.00000000e+00, 1.15942029e-03, 4.90896435e-01, 6.43535295e-01,\n",
       "       4.27252175e-02, 6.35514857e-01, 6.68265262e-01, 7.41698585e-01,\n",
       "       5.80756208e-01, 1.05319432e-02, 8.00580651e-01, 3.39743590e-03,\n",
       "       4.95658017e-01, 8.23369400e-01, 6.62343061e-01, 3.39712919e-03,\n",
       "       9.17004776e-03, 9.08637904e-03, 7.76045764e-01, 6.70099648e-01,\n",
       "       5.80880442e-03, 2.17391304e-03, 4.65536359e-02, 8.09456338e-01,\n",
       "       5.42729165e-01, 8.79200656e-01, 2.78393418e-02, 7.06469732e-01,\n",
       "       7.20641748e-01, 7.46866586e-01, 3.73165162e-01, 4.11174999e-02,\n",
       "       4.79897414e-01, 8.37890334e-01, 7.04621751e-01, 1.66666667e-03,\n",
       "       0.00000000e+00, 1.16666667e-03, 6.72970831e-01, 6.45914433e-01,\n",
       "       6.86115049e-01, 6.43535295e-01, 7.90520971e-01, 6.02431869e-01,\n",
       "       1.16084359e-02, 6.28126995e-01, 8.05963328e-01, 6.55549191e-01,\n",
       "       2.04612543e-01, 7.63676341e-01, 1.51618556e-02, 6.41030191e-01,\n",
       "       3.46460090e-01, 2.04612543e-01, 1.66666667e-03, 1.37859754e-02,\n",
       "       5.46127161e-02, 7.33286425e-03, 6.14281047e-01, 2.04865836e-01,\n",
       "       9.25925926e-04, 1.42351774e-02, 0.00000000e+00, 9.25925926e-04,\n",
       "       4.90324273e-01, 8.50288600e-03, 5.99725053e-01, 7.89867751e-01,\n",
       "       9.22214558e-01, 7.67923622e-01, 5.14093687e-01, 4.82399617e-03,\n",
       "       2.83985375e-02, 2.33618062e-02, 2.11546391e-01, 1.03099740e-01,\n",
       "       8.94994959e-03, 3.31833820e-02, 9.23817119e-02, 2.11546391e-01,\n",
       "       2.89787921e-01, 6.95270786e-01, 1.05887779e-01, 9.08637904e-03,\n",
       "       7.83054610e-01, 5.24378741e-02, 1.21164544e-02, 6.96598892e-01,\n",
       "       5.84374672e-01, 2.52321981e-03, 8.47121498e-03, 7.35788801e-01,\n",
       "       5.30583557e-01, 7.97418188e-02, 3.98630484e-01, 2.76268116e-03])"
      ]
     },
     "execution_count": 66,
     "metadata": {},
     "output_type": "execute_result"
    }
   ],
   "source": [
    "model_rfc.predict_proba(X_test)[:,1]"
   ]
  },
  {
   "cell_type": "code",
   "execution_count": 67,
   "id": "d3bfdbbd",
   "metadata": {},
   "outputs": [
    {
     "name": "stdout",
     "output_type": "stream",
     "text": [
      "Running on local URL:  http://127.0.0.1:7862\n",
      "\n",
      "To create a public link, set `share=True` in `launch()`.\n"
     ]
    },
    {
     "data": {
      "text/html": [
       "<div><iframe src=\"http://127.0.0.1:7862/\" width=\"100%\" height=\"500\" allow=\"autoplay; camera; microphone; clipboard-read; clipboard-write;\" frameborder=\"0\" allowfullscreen></iframe></div>"
      ],
      "text/plain": [
       "<IPython.core.display.HTML object>"
      ]
     },
     "metadata": {},
     "output_type": "display_data"
    },
    {
     "data": {
      "text/plain": []
     },
     "execution_count": 67,
     "metadata": {},
     "output_type": "execute_result"
    }
   ],
   "source": [
    "import gradio as gr\n",
    "\n",
    "# create a function to predict stroke\n",
    "def predicta(Gender, Age, Smoking, Fatigue, Allergy):\n",
    "    \n",
    "    # create a dataframe with the inputs\n",
    "    df = pd.DataFrame({\n",
    "        'Gender': [Gender], \n",
    "        ' Age':[ Age],\n",
    "        'Smoking': [Smoking],\n",
    "        'Fatigue': [Fatigue],\n",
    "        'Allergy': [Allergy]\n",
    "    })\n",
    "    \n",
    "    # make prediction\n",
    "    y_pred = model_rfc.predict_proba(df)[:,1] \n",
    "    \n",
    "    \n",
    "    # return the stroke probability\n",
    "    return y_pred[0]\n",
    "    \n",
    "    # return the stroke probability\n",
    "\n",
    "# give the function an interface\n",
    "app = gr.Interface(\n",
    "    title= \"Cancer Prediction App\",\n",
    "    fn=predicta,\n",
    "    inputs=[\"number\",\"number\", \"number\", \"number\", \"number\"],\n",
    "    outputs=[\"number\"]\n",
    ")\n",
    "app.launch()"
   ]
  }
 ],
 "metadata": {
  "kernelspec": {
   "display_name": "Python 3 (ipykernel)",
   "language": "python",
   "name": "python3"
  },
  "language_info": {
   "codemirror_mode": {
    "name": "ipython",
    "version": 3
   },
   "file_extension": ".py",
   "mimetype": "text/x-python",
   "name": "python",
   "nbconvert_exporter": "python",
   "pygments_lexer": "ipython3",
   "version": "3.9.12"
  }
 },
 "nbformat": 4,
 "nbformat_minor": 5
}

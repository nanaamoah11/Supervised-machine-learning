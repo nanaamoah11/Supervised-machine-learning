{
 "cells": [
  {
   "cell_type": "markdown",
   "id": "719178d0",
   "metadata": {},
   "source": [
    "# Cancer Preiction Model"
   ]
  },
  {
   "cell_type": "markdown",
   "id": "8d0abbe5",
   "metadata": {},
   "source": [
    "Cancer poses a substantial global health challenge; however, ongoing progress in research, early detection\n",
    "methods, and treatment option provides optimism for enhanced patient outcomes. Intrigued by the quest for \n",
    "a deeper understanding of the determinants contributing to the onset of cancer,I find myself compelled to embark on this\n",
    "project."
   ]
  },
  {
   "cell_type": "markdown",
   "id": "ebb97abf",
   "metadata": {},
   "source": [
    "### Mision and vision"
   ]
  },
  {
   "cell_type": "markdown",
   "id": "94baff8b",
   "metadata": {},
   "source": [
    "This undertaking aspires to meticulously explore and construct a machine learning model with the primary objective of \n",
    "Predicting the likelihood of a Patient getting cancer giving certain health records such as age, gender, smoking, fatigue\n",
    "and allergy."
   ]
  },
  {
   "cell_type": "markdown",
   "id": "4ae5e24a",
   "metadata": {},
   "source": [
    "### About the dataset"
   ]
  },
  {
   "cell_type": "markdown",
   "id": "4519a102",
   "metadata": {},
   "source": [
    "Constrained by the ethical considerations surrounding data usage, stringent public health privacy policies,\n",
    "and challenges associated with suboptimal data collection practices,authentic datasets for my project were unattainable.\n",
    "I have acquired synthetic data from Kaggle.com, which will serve as the cornerstone for my project.\n",
    "\n",
    "For the gender variable\n",
    "> Male----0\n",
    "\n",
    "\n",
    "> Female--1\n",
    "\n",
    "for the other variables/features\n",
    "> yes/Positive----1\n",
    "\n",
    "\n",
    "> No/Negative-----0"
   ]
  },
  {
   "cell_type": "code",
   "execution_count": 1,
   "id": "286524ef",
   "metadata": {},
   "outputs": [],
   "source": [
    "# import libraries\n",
    "import pandas as pd\n",
    "import matplotlib.pyplot as plt\n",
    "import seaborn as sns\n",
    "from sklearn.ensemble import RandomForestClassifier\n",
    "from sklearn.metrics import ConfusionMatrixDisplay\n",
    "from sklearn.model_selection import GridSearchCV, train_test_split\n",
    "from sklearn.metrics import ConfusionMatrixDisplay, recall_score, accuracy_score, roc_auc_score, f1_score, precision_score\n",
    "from imblearn.over_sampling import RandomOverSampler"
   ]
  },
  {
   "cell_type": "code",
   "execution_count": 2,
   "id": "c62bb26c",
   "metadata": {},
   "outputs": [
    {
     "name": "stdout",
     "output_type": "stream",
     "text": [
      "The data set has 10000 observations and 6 variables\n"
     ]
    },
    {
     "data": {
      "text/html": [
       "<div>\n",
       "<style scoped>\n",
       "    .dataframe tbody tr th:only-of-type {\n",
       "        vertical-align: middle;\n",
       "    }\n",
       "\n",
       "    .dataframe tbody tr th {\n",
       "        vertical-align: top;\n",
       "    }\n",
       "\n",
       "    .dataframe thead th {\n",
       "        text-align: right;\n",
       "    }\n",
       "</style>\n",
       "<table border=\"1\" class=\"dataframe\">\n",
       "  <thead>\n",
       "    <tr style=\"text-align: right;\">\n",
       "      <th></th>\n",
       "      <th>Gender</th>\n",
       "      <th>Age</th>\n",
       "      <th>Smoking</th>\n",
       "      <th>Fatigue</th>\n",
       "      <th>Allergy</th>\n",
       "      <th>Cancer</th>\n",
       "    </tr>\n",
       "  </thead>\n",
       "  <tbody>\n",
       "    <tr>\n",
       "      <th>0</th>\n",
       "      <td>1</td>\n",
       "      <td>85</td>\n",
       "      <td>1</td>\n",
       "      <td>0</td>\n",
       "      <td>1</td>\n",
       "      <td>0</td>\n",
       "    </tr>\n",
       "    <tr>\n",
       "      <th>1</th>\n",
       "      <td>1</td>\n",
       "      <td>93</td>\n",
       "      <td>0</td>\n",
       "      <td>0</td>\n",
       "      <td>0</td>\n",
       "      <td>0</td>\n",
       "    </tr>\n",
       "    <tr>\n",
       "      <th>2</th>\n",
       "      <td>1</td>\n",
       "      <td>72</td>\n",
       "      <td>0</td>\n",
       "      <td>1</td>\n",
       "      <td>0</td>\n",
       "      <td>0</td>\n",
       "    </tr>\n",
       "    <tr>\n",
       "      <th>3</th>\n",
       "      <td>0</td>\n",
       "      <td>58</td>\n",
       "      <td>0</td>\n",
       "      <td>0</td>\n",
       "      <td>1</td>\n",
       "      <td>0</td>\n",
       "    </tr>\n",
       "    <tr>\n",
       "      <th>4</th>\n",
       "      <td>1</td>\n",
       "      <td>95</td>\n",
       "      <td>1</td>\n",
       "      <td>0</td>\n",
       "      <td>1</td>\n",
       "      <td>1</td>\n",
       "    </tr>\n",
       "  </tbody>\n",
       "</table>\n",
       "</div>"
      ],
      "text/plain": [
       "   Gender  Age  Smoking  Fatigue  Allergy  Cancer\n",
       "0       1   85        1        0        1       0\n",
       "1       1   93        0        0        0       0\n",
       "2       1   72        0        1        0       0\n",
       "3       0   58        0        0        1       0\n",
       "4       1   95        1        0        1       1"
      ]
     },
     "execution_count": 2,
     "metadata": {},
     "output_type": "execute_result"
    }
   ],
   "source": [
    "# Import dataset\n",
    "df = pd.read_csv('cancer_prediction_dataset.csv')\n",
    "print(f'The data set has {df.shape[0]} observations and {df.shape[1]} variables')\n",
    "df.head()"
   ]
  },
  {
   "cell_type": "code",
   "execution_count": 3,
   "id": "17be7aa3",
   "metadata": {},
   "outputs": [
    {
     "name": "stdout",
     "output_type": "stream",
     "text": [
      "<class 'pandas.core.frame.DataFrame'>\n",
      "RangeIndex: 10000 entries, 0 to 9999\n",
      "Data columns (total 6 columns):\n",
      " #   Column   Non-Null Count  Dtype\n",
      "---  ------   --------------  -----\n",
      " 0   Gender   10000 non-null  int64\n",
      " 1   Age      10000 non-null  int64\n",
      " 2   Smoking  10000 non-null  int64\n",
      " 3   Fatigue  10000 non-null  int64\n",
      " 4   Allergy  10000 non-null  int64\n",
      " 5   Cancer   10000 non-null  int64\n",
      "dtypes: int64(6)\n",
      "memory usage: 468.9 KB\n"
     ]
    }
   ],
   "source": [
    "# Information about the dataset\n",
    "df.info()"
   ]
  },
  {
   "cell_type": "code",
   "execution_count": 4,
   "id": "14ecd73e",
   "metadata": {},
   "outputs": [
    {
     "name": "stdout",
     "output_type": "stream",
     "text": [
      "Gender     0\n",
      "Age        0\n",
      "Smoking    0\n",
      "Fatigue    0\n",
      "Allergy    0\n",
      "Cancer     0\n",
      "dtype: int64\n"
     ]
    }
   ],
   "source": [
    "# checking for missing values\n",
    "print(df.isnull().sum())"
   ]
  },
  {
   "cell_type": "markdown",
   "id": "179447b4",
   "metadata": {},
   "source": [
    "#### All Variables look great with no missing data"
   ]
  },
  {
   "cell_type": "code",
   "execution_count": 5,
   "id": "77ea8bb7",
   "metadata": {},
   "outputs": [
    {
     "data": {
      "text/plain": [
       "Index(['Gender', 'Age', 'Smoking', 'Fatigue', 'Allergy', 'Cancer'], dtype='object')"
      ]
     },
     "execution_count": 5,
     "metadata": {},
     "output_type": "execute_result"
    }
   ],
   "source": [
    "# Printing all the columns of the dataset\n",
    "df.columns"
   ]
  },
  {
   "cell_type": "markdown",
   "id": "2abfc1f0",
   "metadata": {},
   "source": [
    "# Exploratory Data Analysis [EDA]"
   ]
  },
  {
   "cell_type": "code",
   "execution_count": 6,
   "id": "5d074d11",
   "metadata": {},
   "outputs": [
    {
     "name": "stdout",
     "output_type": "stream",
     "text": [
      "1    5002\n",
      "0    4998\n",
      "Name: Smoking, dtype: int64\n",
      "-----------------------------------\n",
      "0    5025\n",
      "1    4975\n",
      "Name: Gender, dtype: int64\n",
      "-----------------------------------\n",
      "1    5018\n",
      "0    4982\n",
      "Name: Fatigue, dtype: int64\n",
      "-----------------------------------\n",
      "0    5001\n",
      "1    4999\n",
      "Name: Allergy, dtype: int64\n",
      "-----------------------------------\n",
      "0    9036\n",
      "1     964\n",
      "Name: Cancer, dtype: int64\n",
      "-----------------------------------\n"
     ]
    }
   ],
   "source": [
    "# Performing value counts for all the features\n",
    "cols=['Smoking', 'Gender','Fatigue', 'Allergy', 'Cancer']\n",
    "for col in cols:\n",
    "    print(df[col].value_counts())\n",
    "    print('-'*35)"
   ]
  },
  {
   "cell_type": "markdown",
   "id": "59850ce1",
   "metadata": {},
   "source": [
    ">There a lot of male patients than female Patient\n",
    "\n",
    "> patients who smoke are higher than those who do not smoke\n",
    "\n",
    ">Patients who suffer from fatigue are higher than those who do not suffer from fatigue\n",
    "\n",
    ">Patients without allergies are higher than those with allergies\n",
    "\n",
    ">Patients who do not suffer from cancer are higher than those who suffer from cancer\n"
   ]
  },
  {
   "cell_type": "code",
   "execution_count": 7,
   "id": "7bc8175d",
   "metadata": {},
   "outputs": [
    {
     "name": "stdout",
     "output_type": "stream",
     "text": [
      "0    5025\n",
      "1    4975\n",
      "Name: Gender, dtype: int64\n"
     ]
    },
    {
     "data": {
      "image/png": "[encoded data removed]",
      "text/plain": [
       "<Figure size 576x432 with 1 Axes>"
      ]
     },
     "metadata": {},
     "output_type": "display_data"
    }
   ],
   "source": [
    "# GENDER\n",
    "sns.set(rc={'figure.figsize':(8,6)})\n",
    "g = df.Gender.value_counts()\n",
    "print(g)\n",
    "# Visualizing the gender\n",
    "g.sort_values().plot.bar()\n",
    "plt.xlabel('Gender')\n",
    "plt.ylabel('frequency counts')\n",
    "plt.title('Distribution of Gender')\n",
    "plt.xticks(rotation=0);"
   ]
  },
  {
   "cell_type": "code",
   "execution_count": 8,
   "id": "edcdb6aa",
   "metadata": {},
   "outputs": [
    {
     "data": {
      "text/plain": [
       "0    50.25\n",
       "1    49.75\n",
       "Name: Gender, dtype: float64"
      ]
     },
     "execution_count": 8,
     "metadata": {},
     "output_type": "execute_result"
    }
   ],
   "source": [
    "# Proportion of value counts for gender expressed as Percentage(%)\n",
    "g = df.Gender.value_counts(normalize = True) * 100\n",
    "g"
   ]
  },
  {
   "cell_type": "code",
   "execution_count": 9,
   "id": "597d1f5f",
   "metadata": {},
   "outputs": [
    {
     "name": "stdout",
     "output_type": "stream",
     "text": [
      "minimum Age; 18\n",
      "maximum Age; 100\n",
      "mean Age; 59.3184\n",
      "median Age; 60.0\n"
     ]
    },
    {
     "data": {
      "image/png": "[encoded data removed]",
      "text/plain": [
       "<Figure size 576x432 with 1 Axes>"
      ]
     },
     "metadata": {},
     "output_type": "display_data"
    }
   ],
   "source": [
    "# AGE\n",
    "min = df.Age.min()\n",
    "max = df.Age.max()\n",
    "mean = df.Age.mean()\n",
    "median = df.Age.median()\n",
    "print('minimum Age;', min)\n",
    "print('maximum Age;', max)\n",
    "print('mean Age;', mean)\n",
    "print('median Age;', median)\n",
    "# ploting\n",
    "df.Age.hist()\n",
    "plt.axvline(mean,color='r',linewidth=2,linestyle='--',label='mean')\n",
    "plt.axvline(median,color='g',linewidth=2,linestyle='-',label='median')\n",
    "plt.xlabel('Age')\n",
    "plt.ylabel('frequency [count]')\n",
    "plt.title('Distribution of Age')\n",
    "plt.legend();"
   ]
  },
  {
   "cell_type": "markdown",
   "id": "b7a057c3",
   "metadata": {},
   "source": [
    "### Fatigue Analysis"
   ]
  },
  {
   "cell_type": "code",
   "execution_count": 10,
   "id": "5ec861bb",
   "metadata": {},
   "outputs": [
    {
     "data": {
      "image/png": "[encoded data removed]",
      "text/plain": [
       "<Figure size 576x432 with 1 Axes>"
      ]
     },
     "metadata": {},
     "output_type": "display_data"
    }
   ],
   "source": [
    "# VISUALIZATION OF FATIGUE\n",
    "import matplotlib.pyplot as plt\n",
    "df.Fatigue.value_counts().plot(kind='bar')\n",
    "plt.xlabel('Fatigue')\n",
    "plt.ylabel('frequency [counts]')\n",
    "plt.title('Fatigue Counts')\n",
    "plt.xticks(rotation=0);"
   ]
  },
  {
   "cell_type": "code",
   "execution_count": 11,
   "id": "e633b3d6",
   "metadata": {},
   "outputs": [
    {
     "data": {
      "text/html": [
       "<div>\n",
       "<style scoped>\n",
       "    .dataframe tbody tr th:only-of-type {\n",
       "        vertical-align: middle;\n",
       "    }\n",
       "\n",
       "    .dataframe tbody tr th {\n",
       "        vertical-align: top;\n",
       "    }\n",
       "\n",
       "    .dataframe thead th {\n",
       "        text-align: right;\n",
       "    }\n",
       "</style>\n",
       "<table border=\"1\" class=\"dataframe\">\n",
       "  <thead>\n",
       "    <tr style=\"text-align: right;\">\n",
       "      <th></th>\n",
       "      <th>Gender</th>\n",
       "    </tr>\n",
       "  </thead>\n",
       "  <tbody>\n",
       "    <tr>\n",
       "      <th>0</th>\n",
       "      <td>2550</td>\n",
       "    </tr>\n",
       "    <tr>\n",
       "      <th>1</th>\n",
       "      <td>2468</td>\n",
       "    </tr>\n",
       "  </tbody>\n",
       "</table>\n",
       "</div>"
      ],
      "text/plain": [
       "   Gender\n",
       "0    2550\n",
       "1    2468"
      ]
     },
     "execution_count": 11,
     "metadata": {},
     "output_type": "execute_result"
    }
   ],
   "source": [
    "# Gender Distribution of Patients with Fatigue\n",
    "df[df['Fatigue']==1].Gender.value_counts().to_frame()"
   ]
  },
  {
   "cell_type": "markdown",
   "id": "034fbac1",
   "metadata": {},
   "source": [
    "Male patients suffer from fatigue than female patients"
   ]
  },
  {
   "cell_type": "code",
   "execution_count": 12,
   "id": "528abb20",
   "metadata": {},
   "outputs": [
    {
     "name": "stdout",
     "output_type": "stream",
     "text": [
      "percentage of male with fatigue: 50.74626865671642\n",
      "percentage of female with fatigue: 49.608040201005025\n"
     ]
    }
   ],
   "source": [
    "prop_female_fatigue=(2468/4975)*100\n",
    "prop_male_fatigue=(2550/5025)*100\n",
    "print('percentage of male with fatigue:',prop_male_fatigue)\n",
    "print('percentage of female with fatigue:',prop_female_fatigue)"
   ]
  },
  {
   "cell_type": "code",
   "execution_count": 13,
   "id": "30cee364",
   "metadata": {},
   "outputs": [
    {
     "data": {
      "text/plain": [
       "<AxesSubplot:>"
      ]
     },
     "execution_count": 13,
     "metadata": {},
     "output_type": "execute_result"
    },
    {
     "data": {
      "image/png": "[encoded data removed]",
      "text/plain": [
       "<Figure size 576x432 with 1 Axes>"
      ]
     },
     "metadata": {},
     "output_type": "display_data"
    }
   ],
   "source": [
    "# Age Distribution of patients with fatigue\n",
    "df.Fatigue.value_counts()\n",
    "df[df['Fatigue']==1].Age.hist()"
   ]
  },
  {
   "cell_type": "markdown",
   "id": "939283c8",
   "metadata": {},
   "source": [
    "We can see from the distribution that adults patients in the range [20 to 35] and the aged in the range [60 to 100] suffer from \n",
    "fatigue more than every other patient form any other age ranges\n",
    "\n",
    "This can be that majority of adult are in the labour force  and also the aged are weak. \n",
    "Patients within these age ranges are more likely to suffer from fatigue"
   ]
  },
  {
   "cell_type": "markdown",
   "id": "647ba57c",
   "metadata": {},
   "source": [
    "### smoking Analysis"
   ]
  },
  {
   "cell_type": "code",
   "execution_count": 14,
   "id": "03eb22e0",
   "metadata": {},
   "outputs": [
    {
     "data": {
      "image/png": "[encoded data removed]",
      "text/plain": [
       "<Figure size 576x432 with 1 Axes>"
      ]
     },
     "metadata": {},
     "output_type": "display_data"
    }
   ],
   "source": [
    "#VISUALIZATION OF SMOKING [COUNTS]\n",
    "df.Smoking.value_counts().sort_values().plot.bar()\n",
    "plt.xlabel('Smoking Status')\n",
    "plt.ylabel('Smoking Status [counts]')\n",
    "plt.title('Distribution of Smoking Status')\n",
    "plt.xticks(rotation=0);"
   ]
  },
  {
   "cell_type": "code",
   "execution_count": 15,
   "id": "c31dc1d5",
   "metadata": {},
   "outputs": [
    {
     "data": {
      "text/html": [
       "<div>\n",
       "<style scoped>\n",
       "    .dataframe tbody tr th:only-of-type {\n",
       "        vertical-align: middle;\n",
       "    }\n",
       "\n",
       "    .dataframe tbody tr th {\n",
       "        vertical-align: top;\n",
       "    }\n",
       "\n",
       "    .dataframe thead th {\n",
       "        text-align: right;\n",
       "    }\n",
       "</style>\n",
       "<table border=\"1\" class=\"dataframe\">\n",
       "  <thead>\n",
       "    <tr style=\"text-align: right;\">\n",
       "      <th></th>\n",
       "      <th>Gender</th>\n",
       "    </tr>\n",
       "  </thead>\n",
       "  <tbody>\n",
       "    <tr>\n",
       "      <th>1</th>\n",
       "      <td>2508</td>\n",
       "    </tr>\n",
       "    <tr>\n",
       "      <th>0</th>\n",
       "      <td>2494</td>\n",
       "    </tr>\n",
       "  </tbody>\n",
       "</table>\n",
       "</div>"
      ],
      "text/plain": [
       "   Gender\n",
       "1    2508\n",
       "0    2494"
      ]
     },
     "execution_count": 15,
     "metadata": {},
     "output_type": "execute_result"
    }
   ],
   "source": [
    "# Gender Distribution of Patients who Smokes\n",
    "df[df['Smoking']==1].Gender.value_counts().to_frame()"
   ]
  },
  {
   "cell_type": "markdown",
   "id": "77a790ff",
   "metadata": {},
   "source": [
    "Female patients smokes more than male patients"
   ]
  },
  {
   "cell_type": "code",
   "execution_count": 16,
   "id": "5ea70cfd",
   "metadata": {},
   "outputs": [
    {
     "name": "stdout",
     "output_type": "stream",
     "text": [
      "percentage of male who smokes: 49.6318407960199\n",
      "percentage of female who smokes: 50.41206030150753\n"
     ]
    }
   ],
   "source": [
    "prop_female_smokes=(2508/4975)*100\n",
    "prop_male_smokes=(2494/5025)*100\n",
    "print('percentage of male who smokes:',prop_male_smokes)\n",
    "print('percentage of female who smokes:',prop_female_smokes)"
   ]
  },
  {
   "cell_type": "code",
   "execution_count": 17,
   "id": "537b71d6",
   "metadata": {},
   "outputs": [
    {
     "data": {
      "text/plain": [
       "<AxesSubplot:>"
      ]
     },
     "execution_count": 17,
     "metadata": {},
     "output_type": "execute_result"
    },
    {
     "data": {
      "image/png": "[encoded data removed]",
      "text/plain": [
       "<Figure size 576x432 with 1 Axes>"
      ]
     },
     "metadata": {},
     "output_type": "display_data"
    }
   ],
   "source": [
    "# Age Distribution of patients who Smokes\n",
    "df.Smoking.value_counts()\n",
    "df[df['Smoking']==1].Age.hist()"
   ]
  },
  {
   "cell_type": "markdown",
   "id": "9591b7b8",
   "metadata": {},
   "source": [
    "The aged patients in the age range [60 to 100] smokes more than every patients in other age ranges "
   ]
  },
  {
   "cell_type": "markdown",
   "id": "56e31d4b",
   "metadata": {},
   "source": [
    "### Allergy Analysis"
   ]
  },
  {
   "cell_type": "code",
   "execution_count": 18,
   "id": "262e3508",
   "metadata": {},
   "outputs": [
    {
     "data": {
      "image/png": "[encoded data removed]",
      "text/plain": [
       "<Figure size 576x432 with 1 Axes>"
      ]
     },
     "metadata": {},
     "output_type": "display_data"
    }
   ],
   "source": [
    "# VISUALIZATION OF ALLERGY[COUNTS]\n",
    "df.Allergy.value_counts().sort_values().plot(kind='bar')\n",
    "plt.xlabel('Allergy')\n",
    "plt.ylabel('freuency [counts]')\n",
    "plt.title('Allergy Counts')\n",
    "plt.xticks(rotation=0);"
   ]
  },
  {
   "cell_type": "code",
   "execution_count": 19,
   "id": "e3f0bd5b",
   "metadata": {},
   "outputs": [
    {
     "data": {
      "text/html": [
       "<div>\n",
       "<style scoped>\n",
       "    .dataframe tbody tr th:only-of-type {\n",
       "        vertical-align: middle;\n",
       "    }\n",
       "\n",
       "    .dataframe tbody tr th {\n",
       "        vertical-align: top;\n",
       "    }\n",
       "\n",
       "    .dataframe thead th {\n",
       "        text-align: right;\n",
       "    }\n",
       "</style>\n",
       "<table border=\"1\" class=\"dataframe\">\n",
       "  <thead>\n",
       "    <tr style=\"text-align: right;\">\n",
       "      <th></th>\n",
       "      <th>Gender</th>\n",
       "    </tr>\n",
       "  </thead>\n",
       "  <tbody>\n",
       "    <tr>\n",
       "      <th>0</th>\n",
       "      <td>2530</td>\n",
       "    </tr>\n",
       "    <tr>\n",
       "      <th>1</th>\n",
       "      <td>2469</td>\n",
       "    </tr>\n",
       "  </tbody>\n",
       "</table>\n",
       "</div>"
      ],
      "text/plain": [
       "   Gender\n",
       "0    2530\n",
       "1    2469"
      ]
     },
     "execution_count": 19,
     "metadata": {},
     "output_type": "execute_result"
    }
   ],
   "source": [
    "# Gender Distribution of Patients who has allergy\n",
    "df[df['Allergy']==1].Gender.value_counts().to_frame()"
   ]
  },
  {
   "cell_type": "markdown",
   "id": "3658bd6d",
   "metadata": {},
   "source": [
    "Male patients have allergies more than female patients"
   ]
  },
  {
   "cell_type": "code",
   "execution_count": 20,
   "id": "98da3025",
   "metadata": {},
   "outputs": [
    {
     "name": "stdout",
     "output_type": "stream",
     "text": [
      "percentage of male with allergy: 50.34825870646766\n",
      "percentage of female who allergy: 49.62814070351759\n"
     ]
    }
   ],
   "source": [
    "prop_female_allergy=(2469/4975)*100\n",
    "prop_male_allergy=(2530/5025)*100\n",
    "print('percentage of male with allergy:',prop_male_allergy)\n",
    "print('percentage of female who allergy:',prop_female_allergy)"
   ]
  },
  {
   "cell_type": "code",
   "execution_count": 21,
   "id": "4b993233",
   "metadata": {},
   "outputs": [
    {
     "data": {
      "text/plain": [
       "<AxesSubplot:>"
      ]
     },
     "execution_count": 21,
     "metadata": {},
     "output_type": "execute_result"
    },
    {
     "data": {
      "image/png": "[encoded data removed]",
      "text/plain": [
       "<Figure size 576x432 with 1 Axes>"
      ]
     },
     "metadata": {},
     "output_type": "display_data"
    }
   ],
   "source": [
    "# Age Distribution of patients with Allergies\n",
    "df.Smoking.value_counts()\n",
    "df[df['Allergy']==1].Age.hist()"
   ]
  },
  {
   "cell_type": "markdown",
   "id": "b527abf5",
   "metadata": {},
   "source": [
    "The aged patients in the age range [60 to 100] have allergies more than every patients in other age ranges"
   ]
  },
  {
   "cell_type": "markdown",
   "id": "c1b917e2",
   "metadata": {},
   "source": [
    "### CANCER ANALYSIS"
   ]
  },
  {
   "cell_type": "code",
   "execution_count": 22,
   "id": "37174467",
   "metadata": {},
   "outputs": [
    {
     "name": "stdout",
     "output_type": "stream",
     "text": [
      "0    90.36\n",
      "1     9.64\n",
      "Name: Cancer, dtype: float64\n"
     ]
    },
    {
     "data": {
      "image/png": "[encoded data removed]",
      "text/plain": [
       "<Figure size 576x432 with 1 Axes>"
      ]
     },
     "metadata": {},
     "output_type": "display_data"
    }
   ],
   "source": [
    "#VISUALIZATION OF CANCER[% COUNTS]\n",
    "cancer_counts = df.Cancer.value_counts(normalize = True)*100\n",
    "print(cancer_counts)\n",
    "cancer_counts.plot.pie(labels = ['no', 'yes']);"
   ]
  },
  {
   "cell_type": "code",
   "execution_count": 23,
   "id": "92e20383",
   "metadata": {},
   "outputs": [
    {
     "data": {
      "text/plain": [
       "<AxesSubplot:>"
      ]
     },
     "execution_count": 23,
     "metadata": {},
     "output_type": "execute_result"
    },
    {
     "data": {
      "image/png": "[encoded data removed]",
      "text/plain": [
       "<Figure size 576x432 with 1 Axes>"
      ]
     },
     "metadata": {},
     "output_type": "display_data"
    }
   ],
   "source": [
    "# Age Distribution of patient who had Cancer\n",
    "df.Cancer.value_counts()\n",
    "df[df['Cancer']==1].Age.hist()"
   ]
  },
  {
   "cell_type": "markdown",
   "id": "efb5800f",
   "metadata": {},
   "source": [
    "adult patients within the age range [20 to 40]  suffer from cancer than every patients in any other age ranges"
   ]
  },
  {
   "cell_type": "code",
   "execution_count": 24,
   "id": "ee9bbcb5",
   "metadata": {},
   "outputs": [
    {
     "data": {
      "text/plain": [
       "0    483\n",
       "1    481\n",
       "Name: Fatigue, dtype: int64"
      ]
     },
     "execution_count": 24,
     "metadata": {},
     "output_type": "execute_result"
    }
   ],
   "source": [
    "df[df['Cancer']==1].Fatigue.value_counts()"
   ]
  },
  {
   "cell_type": "markdown",
   "id": "747e392f",
   "metadata": {},
   "source": [
    "Patients without fatigue suffers from cancer than patients with fatigue"
   ]
  },
  {
   "cell_type": "code",
   "execution_count": 25,
   "id": "a1d1e76a",
   "metadata": {},
   "outputs": [
    {
     "data": {
      "text/plain": [
       "1    488\n",
       "0    476\n",
       "Name: Allergy, dtype: int64"
      ]
     },
     "execution_count": 25,
     "metadata": {},
     "output_type": "execute_result"
    }
   ],
   "source": [
    "df[df['Cancer']==1].Allergy.value_counts()"
   ]
  },
  {
   "cell_type": "markdown",
   "id": "a7eac794",
   "metadata": {},
   "source": [
    "Patients with Allergies suffers from cancer than patients without Allergies"
   ]
  },
  {
   "cell_type": "code",
   "execution_count": 26,
   "id": "6e34fcdf",
   "metadata": {},
   "outputs": [
    {
     "data": {
      "text/plain": [
       "0    488\n",
       "1    476\n",
       "Name: Smoking, dtype: int64"
      ]
     },
     "execution_count": 26,
     "metadata": {},
     "output_type": "execute_result"
    }
   ],
   "source": [
    "df[df['Cancer']==1].Smoking.value_counts()"
   ]
  },
  {
   "cell_type": "markdown",
   "id": "3048ce61",
   "metadata": {},
   "source": [
    "Patients who do not smoke suffer from cancer than patients who smoke"
   ]
  },
  {
   "cell_type": "code",
   "execution_count": 27,
   "id": "6b0edb89",
   "metadata": {},
   "outputs": [
    {
     "name": "stdout",
     "output_type": "stream",
     "text": [
      "The expected Probability of Cancer is: 0.0964\n"
     ]
    }
   ],
   "source": [
    "# Average Cancer Rate\n",
    "mean = df.Cancer.mean()\n",
    "print('The expected Probability of Cancer is:', mean)"
   ]
  },
  {
   "cell_type": "code",
   "execution_count": 28,
   "id": "498f0d8b",
   "metadata": {},
   "outputs": [
    {
     "data": {
      "text/html": [
       "<div>\n",
       "<style scoped>\n",
       "    .dataframe tbody tr th:only-of-type {\n",
       "        vertical-align: middle;\n",
       "    }\n",
       "\n",
       "    .dataframe tbody tr th {\n",
       "        vertical-align: top;\n",
       "    }\n",
       "\n",
       "    .dataframe thead th {\n",
       "        text-align: right;\n",
       "    }\n",
       "</style>\n",
       "<table border=\"1\" class=\"dataframe\">\n",
       "  <thead>\n",
       "    <tr style=\"text-align: right;\">\n",
       "      <th></th>\n",
       "      <th>Gender</th>\n",
       "    </tr>\n",
       "  </thead>\n",
       "  <tbody>\n",
       "    <tr>\n",
       "      <th>0</th>\n",
       "      <td>506</td>\n",
       "    </tr>\n",
       "    <tr>\n",
       "      <th>1</th>\n",
       "      <td>458</td>\n",
       "    </tr>\n",
       "  </tbody>\n",
       "</table>\n",
       "</div>"
      ],
      "text/plain": [
       "   Gender\n",
       "0     506\n",
       "1     458"
      ]
     },
     "execution_count": 28,
     "metadata": {},
     "output_type": "execute_result"
    }
   ],
   "source": [
    "# Gender Distribution of Patients with Cancer\n",
    "df[df['Cancer']==1].Gender.value_counts().to_frame()"
   ]
  },
  {
   "cell_type": "markdown",
   "id": "45dbb82a",
   "metadata": {},
   "source": [
    "male patients suffer from cancer than female patients"
   ]
  },
  {
   "cell_type": "code",
   "execution_count": 29,
   "id": "d42083dd",
   "metadata": {},
   "outputs": [
    {
     "name": "stdout",
     "output_type": "stream",
     "text": [
      "percentage of male with stroke: 10.069651741293532\n",
      "percentage of female with stroke: 9.206030150753769\n"
     ]
    }
   ],
   "source": [
    "prop_female_stroke=(458/4975)*100\n",
    "prop_male_stroke=(506/5025)*100\n",
    "print('percentage of male with stroke:',prop_male_stroke)\n",
    "print('percentage of female with stroke:',prop_female_stroke)"
   ]
  },
  {
   "cell_type": "code",
   "execution_count": 30,
   "id": "2e96a17d",
   "metadata": {},
   "outputs": [
    {
     "data": {
      "text/html": [
       "<div>\n",
       "<style scoped>\n",
       "    .dataframe tbody tr th:only-of-type {\n",
       "        vertical-align: middle;\n",
       "    }\n",
       "\n",
       "    .dataframe tbody tr th {\n",
       "        vertical-align: top;\n",
       "    }\n",
       "\n",
       "    .dataframe thead th {\n",
       "        text-align: right;\n",
       "    }\n",
       "</style>\n",
       "<table border=\"1\" class=\"dataframe\">\n",
       "  <thead>\n",
       "    <tr style=\"text-align: right;\">\n",
       "      <th></th>\n",
       "      <th>Cancer</th>\n",
       "    </tr>\n",
       "    <tr>\n",
       "      <th>Gender</th>\n",
       "      <th></th>\n",
       "    </tr>\n",
       "  </thead>\n",
       "  <tbody>\n",
       "    <tr>\n",
       "      <th>0</th>\n",
       "      <td>0.100697</td>\n",
       "    </tr>\n",
       "    <tr>\n",
       "      <th>1</th>\n",
       "      <td>0.092060</td>\n",
       "    </tr>\n",
       "  </tbody>\n",
       "</table>\n",
       "</div>"
      ],
      "text/plain": [
       "          Cancer\n",
       "Gender          \n",
       "0       0.100697\n",
       "1       0.092060"
      ]
     },
     "execution_count": 30,
     "metadata": {},
     "output_type": "execute_result"
    }
   ],
   "source": [
    "# cancer rate per gender\n",
    "df.groupby('Gender').aggregate({'Cancer':'mean'})"
   ]
  },
  {
   "cell_type": "markdown",
   "id": "5f701459",
   "metadata": {},
   "source": [
    "male patients has higher rate of getting cancer than female patients"
   ]
  },
  {
   "cell_type": "code",
   "execution_count": 31,
   "id": "fc2e0d95",
   "metadata": {},
   "outputs": [
    {
     "data": {
      "image/png": "[encoded data removed]",
      "text/plain": [
       "<Figure size 576x432 with 1 Axes>"
      ]
     },
     "metadata": {},
     "output_type": "display_data"
    }
   ],
   "source": [
    "# Cancer rate per Age Distribution\n",
    "df.groupby('Age').aggregate({'Cancer':'mean'}).plot();"
   ]
  },
  {
   "cell_type": "markdown",
   "id": "1ffd00bf",
   "metadata": {},
   "source": [
    "# Performing more analysis on the dataset"
   ]
  },
  {
   "cell_type": "code",
   "execution_count": 32,
   "id": "fa070b1b",
   "metadata": {},
   "outputs": [
    {
     "data": {
      "text/html": [
       "<div>\n",
       "<style scoped>\n",
       "    .dataframe tbody tr th:only-of-type {\n",
       "        vertical-align: middle;\n",
       "    }\n",
       "\n",
       "    .dataframe tbody tr th {\n",
       "        vertical-align: top;\n",
       "    }\n",
       "\n",
       "    .dataframe thead th {\n",
       "        text-align: right;\n",
       "    }\n",
       "</style>\n",
       "<table border=\"1\" class=\"dataframe\">\n",
       "  <thead>\n",
       "    <tr style=\"text-align: right;\">\n",
       "      <th></th>\n",
       "      <th>Gender</th>\n",
       "      <th>Age</th>\n",
       "      <th>Smoking</th>\n",
       "      <th>Fatigue</th>\n",
       "      <th>Allergy</th>\n",
       "      <th>Cancer</th>\n",
       "    </tr>\n",
       "  </thead>\n",
       "  <tbody>\n",
       "    <tr>\n",
       "      <th>1188</th>\n",
       "      <td>1</td>\n",
       "      <td>23</td>\n",
       "      <td>1</td>\n",
       "      <td>1</td>\n",
       "      <td>1</td>\n",
       "      <td>1</td>\n",
       "    </tr>\n",
       "    <tr>\n",
       "      <th>2086</th>\n",
       "      <td>1</td>\n",
       "      <td>25</td>\n",
       "      <td>1</td>\n",
       "      <td>1</td>\n",
       "      <td>1</td>\n",
       "      <td>1</td>\n",
       "    </tr>\n",
       "    <tr>\n",
       "      <th>2286</th>\n",
       "      <td>1</td>\n",
       "      <td>20</td>\n",
       "      <td>1</td>\n",
       "      <td>1</td>\n",
       "      <td>1</td>\n",
       "      <td>1</td>\n",
       "    </tr>\n",
       "    <tr>\n",
       "      <th>4125</th>\n",
       "      <td>1</td>\n",
       "      <td>23</td>\n",
       "      <td>1</td>\n",
       "      <td>1</td>\n",
       "      <td>1</td>\n",
       "      <td>1</td>\n",
       "    </tr>\n",
       "    <tr>\n",
       "      <th>6040</th>\n",
       "      <td>1</td>\n",
       "      <td>24</td>\n",
       "      <td>1</td>\n",
       "      <td>1</td>\n",
       "      <td>1</td>\n",
       "      <td>1</td>\n",
       "    </tr>\n",
       "    <tr>\n",
       "      <th>8729</th>\n",
       "      <td>1</td>\n",
       "      <td>18</td>\n",
       "      <td>1</td>\n",
       "      <td>1</td>\n",
       "      <td>1</td>\n",
       "      <td>1</td>\n",
       "    </tr>\n",
       "    <tr>\n",
       "      <th>8795</th>\n",
       "      <td>1</td>\n",
       "      <td>21</td>\n",
       "      <td>1</td>\n",
       "      <td>1</td>\n",
       "      <td>1</td>\n",
       "      <td>1</td>\n",
       "    </tr>\n",
       "  </tbody>\n",
       "</table>\n",
       "</div>"
      ],
      "text/plain": [
       "      Gender  Age  Smoking  Fatigue  Allergy  Cancer\n",
       "1188       1   23        1        1        1       1\n",
       "2086       1   25        1        1        1       1\n",
       "2286       1   20        1        1        1       1\n",
       "4125       1   23        1        1        1       1\n",
       "6040       1   24        1        1        1       1\n",
       "8729       1   18        1        1        1       1\n",
       "8795       1   21        1        1        1       1"
      ]
     },
     "execution_count": 32,
     "metadata": {},
     "output_type": "execute_result"
    }
   ],
   "source": [
    "d = df[(df['Gender'] == 1) & (df['Allergy'] == 1) & (df['Smoking']==1) & (df['Fatigue']==1) & (df['Cancer']==1) & (df['Age']<=25)]\n",
    "d\n",
    "\n",
    "# seven female patients, with their Ages less than 25 smokes, have allergies,fatigue and Cancer.\n"
   ]
  },
  {
   "cell_type": "code",
   "execution_count": 33,
   "id": "6bd21000",
   "metadata": {},
   "outputs": [
    {
     "data": {
      "text/html": [
       "<div>\n",
       "<style scoped>\n",
       "    .dataframe tbody tr th:only-of-type {\n",
       "        vertical-align: middle;\n",
       "    }\n",
       "\n",
       "    .dataframe tbody tr th {\n",
       "        vertical-align: top;\n",
       "    }\n",
       "\n",
       "    .dataframe thead th {\n",
       "        text-align: right;\n",
       "    }\n",
       "</style>\n",
       "<table border=\"1\" class=\"dataframe\">\n",
       "  <thead>\n",
       "    <tr style=\"text-align: right;\">\n",
       "      <th></th>\n",
       "      <th>Gender</th>\n",
       "      <th>Age</th>\n",
       "      <th>Smoking</th>\n",
       "      <th>Fatigue</th>\n",
       "      <th>Allergy</th>\n",
       "      <th>Cancer</th>\n",
       "    </tr>\n",
       "  </thead>\n",
       "  <tbody>\n",
       "    <tr>\n",
       "      <th>1157</th>\n",
       "      <td>0</td>\n",
       "      <td>25</td>\n",
       "      <td>1</td>\n",
       "      <td>1</td>\n",
       "      <td>1</td>\n",
       "      <td>1</td>\n",
       "    </tr>\n",
       "    <tr>\n",
       "      <th>6858</th>\n",
       "      <td>0</td>\n",
       "      <td>21</td>\n",
       "      <td>1</td>\n",
       "      <td>1</td>\n",
       "      <td>1</td>\n",
       "      <td>1</td>\n",
       "    </tr>\n",
       "    <tr>\n",
       "      <th>7545</th>\n",
       "      <td>0</td>\n",
       "      <td>21</td>\n",
       "      <td>1</td>\n",
       "      <td>1</td>\n",
       "      <td>1</td>\n",
       "      <td>1</td>\n",
       "    </tr>\n",
       "    <tr>\n",
       "      <th>9976</th>\n",
       "      <td>0</td>\n",
       "      <td>23</td>\n",
       "      <td>1</td>\n",
       "      <td>1</td>\n",
       "      <td>1</td>\n",
       "      <td>1</td>\n",
       "    </tr>\n",
       "  </tbody>\n",
       "</table>\n",
       "</div>"
      ],
      "text/plain": [
       "      Gender  Age  Smoking  Fatigue  Allergy  Cancer\n",
       "1157       0   25        1        1        1       1\n",
       "6858       0   21        1        1        1       1\n",
       "7545       0   21        1        1        1       1\n",
       "9976       0   23        1        1        1       1"
      ]
     },
     "execution_count": 33,
     "metadata": {},
     "output_type": "execute_result"
    }
   ],
   "source": [
    "df[(df['Gender'] == 0) & (df['Allergy'] == 1) & (df['Smoking']==1) & (df['Fatigue']==1) & (df['Cancer']==1) & (df['Age']<=25)]\n",
    "\n",
    "# four male patients, with their Ages less than 25 smokes, have allergies,fatigue and Cancer.\n"
   ]
  },
  {
   "cell_type": "code",
   "execution_count": 34,
   "id": "d401c763",
   "metadata": {},
   "outputs": [
    {
     "data": {
      "text/html": [
       "<div>\n",
       "<style scoped>\n",
       "    .dataframe tbody tr th:only-of-type {\n",
       "        vertical-align: middle;\n",
       "    }\n",
       "\n",
       "    .dataframe tbody tr th {\n",
       "        vertical-align: top;\n",
       "    }\n",
       "\n",
       "    .dataframe thead th {\n",
       "        text-align: right;\n",
       "    }\n",
       "</style>\n",
       "<table border=\"1\" class=\"dataframe\">\n",
       "  <thead>\n",
       "    <tr style=\"text-align: right;\">\n",
       "      <th></th>\n",
       "      <th>Gender</th>\n",
       "      <th>Age</th>\n",
       "      <th>Smoking</th>\n",
       "      <th>Fatigue</th>\n",
       "      <th>Allergy</th>\n",
       "      <th>Cancer</th>\n",
       "    </tr>\n",
       "  </thead>\n",
       "  <tbody>\n",
       "    <tr>\n",
       "      <th>65</th>\n",
       "      <td>1</td>\n",
       "      <td>27</td>\n",
       "      <td>1</td>\n",
       "      <td>0</td>\n",
       "      <td>1</td>\n",
       "      <td>1</td>\n",
       "    </tr>\n",
       "    <tr>\n",
       "      <th>80</th>\n",
       "      <td>1</td>\n",
       "      <td>33</td>\n",
       "      <td>1</td>\n",
       "      <td>0</td>\n",
       "      <td>0</td>\n",
       "      <td>1</td>\n",
       "    </tr>\n",
       "    <tr>\n",
       "      <th>86</th>\n",
       "      <td>1</td>\n",
       "      <td>45</td>\n",
       "      <td>1</td>\n",
       "      <td>0</td>\n",
       "      <td>0</td>\n",
       "      <td>1</td>\n",
       "    </tr>\n",
       "    <tr>\n",
       "      <th>93</th>\n",
       "      <td>1</td>\n",
       "      <td>31</td>\n",
       "      <td>1</td>\n",
       "      <td>0</td>\n",
       "      <td>1</td>\n",
       "      <td>1</td>\n",
       "    </tr>\n",
       "    <tr>\n",
       "      <th>182</th>\n",
       "      <td>1</td>\n",
       "      <td>41</td>\n",
       "      <td>1</td>\n",
       "      <td>1</td>\n",
       "      <td>0</td>\n",
       "      <td>1</td>\n",
       "    </tr>\n",
       "    <tr>\n",
       "      <th>...</th>\n",
       "      <td>...</td>\n",
       "      <td>...</td>\n",
       "      <td>...</td>\n",
       "      <td>...</td>\n",
       "      <td>...</td>\n",
       "      <td>...</td>\n",
       "    </tr>\n",
       "    <tr>\n",
       "      <th>9156</th>\n",
       "      <td>1</td>\n",
       "      <td>32</td>\n",
       "      <td>1</td>\n",
       "      <td>0</td>\n",
       "      <td>1</td>\n",
       "      <td>1</td>\n",
       "    </tr>\n",
       "    <tr>\n",
       "      <th>9499</th>\n",
       "      <td>1</td>\n",
       "      <td>27</td>\n",
       "      <td>1</td>\n",
       "      <td>1</td>\n",
       "      <td>0</td>\n",
       "      <td>1</td>\n",
       "    </tr>\n",
       "    <tr>\n",
       "      <th>9634</th>\n",
       "      <td>1</td>\n",
       "      <td>22</td>\n",
       "      <td>1</td>\n",
       "      <td>1</td>\n",
       "      <td>0</td>\n",
       "      <td>1</td>\n",
       "    </tr>\n",
       "    <tr>\n",
       "      <th>9937</th>\n",
       "      <td>1</td>\n",
       "      <td>28</td>\n",
       "      <td>1</td>\n",
       "      <td>1</td>\n",
       "      <td>0</td>\n",
       "      <td>1</td>\n",
       "    </tr>\n",
       "    <tr>\n",
       "      <th>9987</th>\n",
       "      <td>1</td>\n",
       "      <td>34</td>\n",
       "      <td>1</td>\n",
       "      <td>0</td>\n",
       "      <td>1</td>\n",
       "      <td>1</td>\n",
       "    </tr>\n",
       "  </tbody>\n",
       "</table>\n",
       "<p>84 rows × 6 columns</p>\n",
       "</div>"
      ],
      "text/plain": [
       "      Gender  Age  Smoking  Fatigue  Allergy  Cancer\n",
       "65         1   27        1        0        1       1\n",
       "80         1   33        1        0        0       1\n",
       "86         1   45        1        0        0       1\n",
       "93         1   31        1        0        1       1\n",
       "182        1   41        1        1        0       1\n",
       "...      ...  ...      ...      ...      ...     ...\n",
       "9156       1   32        1        0        1       1\n",
       "9499       1   27        1        1        0       1\n",
       "9634       1   22        1        1        0       1\n",
       "9937       1   28        1        1        0       1\n",
       "9987       1   34        1        0        1       1\n",
       "\n",
       "[84 rows x 6 columns]"
      ]
     },
     "execution_count": 34,
     "metadata": {},
     "output_type": "execute_result"
    }
   ],
   "source": [
    "df[(df['Gender'] == 1) & (df['Smoking']==1)  & (df['Cancer']==1) & (df['Age']<=45)]\n",
    "\n",
    "# Eighty-four female Patients less than forty-five years of Age smokes and suffers from Cancer."
   ]
  },
  {
   "cell_type": "code",
   "execution_count": 35,
   "id": "7f24c9c7",
   "metadata": {},
   "outputs": [
    {
     "data": {
      "text/html": [
       "<div>\n",
       "<style scoped>\n",
       "    .dataframe tbody tr th:only-of-type {\n",
       "        vertical-align: middle;\n",
       "    }\n",
       "\n",
       "    .dataframe tbody tr th {\n",
       "        vertical-align: top;\n",
       "    }\n",
       "\n",
       "    .dataframe thead th {\n",
       "        text-align: right;\n",
       "    }\n",
       "</style>\n",
       "<table border=\"1\" class=\"dataframe\">\n",
       "  <thead>\n",
       "    <tr style=\"text-align: right;\">\n",
       "      <th></th>\n",
       "      <th>Gender</th>\n",
       "      <th>Age</th>\n",
       "      <th>Smoking</th>\n",
       "      <th>Fatigue</th>\n",
       "      <th>Allergy</th>\n",
       "      <th>Cancer</th>\n",
       "    </tr>\n",
       "  </thead>\n",
       "  <tbody>\n",
       "    <tr>\n",
       "      <th>4</th>\n",
       "      <td>1</td>\n",
       "      <td>95</td>\n",
       "      <td>1</td>\n",
       "      <td>0</td>\n",
       "      <td>1</td>\n",
       "      <td>1</td>\n",
       "    </tr>\n",
       "    <tr>\n",
       "      <th>37</th>\n",
       "      <td>1</td>\n",
       "      <td>63</td>\n",
       "      <td>1</td>\n",
       "      <td>0</td>\n",
       "      <td>0</td>\n",
       "      <td>1</td>\n",
       "    </tr>\n",
       "    <tr>\n",
       "      <th>64</th>\n",
       "      <td>0</td>\n",
       "      <td>95</td>\n",
       "      <td>1</td>\n",
       "      <td>0</td>\n",
       "      <td>0</td>\n",
       "      <td>1</td>\n",
       "    </tr>\n",
       "    <tr>\n",
       "      <th>78</th>\n",
       "      <td>1</td>\n",
       "      <td>63</td>\n",
       "      <td>1</td>\n",
       "      <td>0</td>\n",
       "      <td>1</td>\n",
       "      <td>1</td>\n",
       "    </tr>\n",
       "    <tr>\n",
       "      <th>214</th>\n",
       "      <td>0</td>\n",
       "      <td>91</td>\n",
       "      <td>1</td>\n",
       "      <td>1</td>\n",
       "      <td>1</td>\n",
       "      <td>1</td>\n",
       "    </tr>\n",
       "    <tr>\n",
       "      <th>...</th>\n",
       "      <td>...</td>\n",
       "      <td>...</td>\n",
       "      <td>...</td>\n",
       "      <td>...</td>\n",
       "      <td>...</td>\n",
       "      <td>...</td>\n",
       "    </tr>\n",
       "    <tr>\n",
       "      <th>9743</th>\n",
       "      <td>0</td>\n",
       "      <td>74</td>\n",
       "      <td>1</td>\n",
       "      <td>0</td>\n",
       "      <td>1</td>\n",
       "      <td>1</td>\n",
       "    </tr>\n",
       "    <tr>\n",
       "      <th>9808</th>\n",
       "      <td>0</td>\n",
       "      <td>86</td>\n",
       "      <td>1</td>\n",
       "      <td>1</td>\n",
       "      <td>0</td>\n",
       "      <td>1</td>\n",
       "    </tr>\n",
       "    <tr>\n",
       "      <th>9852</th>\n",
       "      <td>1</td>\n",
       "      <td>85</td>\n",
       "      <td>1</td>\n",
       "      <td>0</td>\n",
       "      <td>0</td>\n",
       "      <td>1</td>\n",
       "    </tr>\n",
       "    <tr>\n",
       "      <th>9891</th>\n",
       "      <td>0</td>\n",
       "      <td>65</td>\n",
       "      <td>1</td>\n",
       "      <td>1</td>\n",
       "      <td>0</td>\n",
       "      <td>1</td>\n",
       "    </tr>\n",
       "    <tr>\n",
       "      <th>9894</th>\n",
       "      <td>0</td>\n",
       "      <td>89</td>\n",
       "      <td>1</td>\n",
       "      <td>1</td>\n",
       "      <td>0</td>\n",
       "      <td>1</td>\n",
       "    </tr>\n",
       "  </tbody>\n",
       "</table>\n",
       "<p>243 rows × 6 columns</p>\n",
       "</div>"
      ],
      "text/plain": [
       "      Gender  Age  Smoking  Fatigue  Allergy  Cancer\n",
       "4          1   95        1        0        1       1\n",
       "37         1   63        1        0        0       1\n",
       "64         0   95        1        0        0       1\n",
       "78         1   63        1        0        1       1\n",
       "214        0   91        1        1        1       1\n",
       "...      ...  ...      ...      ...      ...     ...\n",
       "9743       0   74        1        0        1       1\n",
       "9808       0   86        1        1        0       1\n",
       "9852       1   85        1        0        0       1\n",
       "9891       0   65        1        1        0       1\n",
       "9894       0   89        1        1        0       1\n",
       "\n",
       "[243 rows x 6 columns]"
      ]
     },
     "execution_count": 35,
     "metadata": {},
     "output_type": "execute_result"
    }
   ],
   "source": [
    "df[(df['Smoking']==1)  & (df['Cancer']==1) & (df['Age']>=60)]\n",
    "\n",
    "# Two-hundred and forty-three old Age patients Smokes and suffers from Cancer."
   ]
  },
  {
   "cell_type": "code",
   "execution_count": 36,
   "id": "a88c8346",
   "metadata": {},
   "outputs": [
    {
     "data": {
      "text/html": [
       "<div>\n",
       "<style scoped>\n",
       "    .dataframe tbody tr th:only-of-type {\n",
       "        vertical-align: middle;\n",
       "    }\n",
       "\n",
       "    .dataframe tbody tr th {\n",
       "        vertical-align: top;\n",
       "    }\n",
       "\n",
       "    .dataframe thead th {\n",
       "        text-align: right;\n",
       "    }\n",
       "</style>\n",
       "<table border=\"1\" class=\"dataframe\">\n",
       "  <thead>\n",
       "    <tr style=\"text-align: right;\">\n",
       "      <th></th>\n",
       "      <th>Gender</th>\n",
       "      <th>Age</th>\n",
       "      <th>Smoking</th>\n",
       "      <th>Fatigue</th>\n",
       "      <th>Allergy</th>\n",
       "      <th>Cancer</th>\n",
       "    </tr>\n",
       "  </thead>\n",
       "  <tbody>\n",
       "    <tr>\n",
       "      <th>257</th>\n",
       "      <td>0</td>\n",
       "      <td>50</td>\n",
       "      <td>0</td>\n",
       "      <td>0</td>\n",
       "      <td>0</td>\n",
       "      <td>0</td>\n",
       "    </tr>\n",
       "    <tr>\n",
       "      <th>945</th>\n",
       "      <td>0</td>\n",
       "      <td>50</td>\n",
       "      <td>0</td>\n",
       "      <td>0</td>\n",
       "      <td>0</td>\n",
       "      <td>0</td>\n",
       "    </tr>\n",
       "    <tr>\n",
       "      <th>1580</th>\n",
       "      <td>0</td>\n",
       "      <td>50</td>\n",
       "      <td>0</td>\n",
       "      <td>0</td>\n",
       "      <td>0</td>\n",
       "      <td>0</td>\n",
       "    </tr>\n",
       "    <tr>\n",
       "      <th>2866</th>\n",
       "      <td>0</td>\n",
       "      <td>50</td>\n",
       "      <td>0</td>\n",
       "      <td>0</td>\n",
       "      <td>0</td>\n",
       "      <td>0</td>\n",
       "    </tr>\n",
       "    <tr>\n",
       "      <th>4340</th>\n",
       "      <td>0</td>\n",
       "      <td>50</td>\n",
       "      <td>0</td>\n",
       "      <td>0</td>\n",
       "      <td>0</td>\n",
       "      <td>0</td>\n",
       "    </tr>\n",
       "    <tr>\n",
       "      <th>4386</th>\n",
       "      <td>0</td>\n",
       "      <td>50</td>\n",
       "      <td>0</td>\n",
       "      <td>1</td>\n",
       "      <td>0</td>\n",
       "      <td>0</td>\n",
       "    </tr>\n",
       "    <tr>\n",
       "      <th>4456</th>\n",
       "      <td>0</td>\n",
       "      <td>50</td>\n",
       "      <td>0</td>\n",
       "      <td>0</td>\n",
       "      <td>0</td>\n",
       "      <td>0</td>\n",
       "    </tr>\n",
       "    <tr>\n",
       "      <th>5801</th>\n",
       "      <td>0</td>\n",
       "      <td>50</td>\n",
       "      <td>0</td>\n",
       "      <td>1</td>\n",
       "      <td>0</td>\n",
       "      <td>0</td>\n",
       "    </tr>\n",
       "    <tr>\n",
       "      <th>6248</th>\n",
       "      <td>0</td>\n",
       "      <td>50</td>\n",
       "      <td>0</td>\n",
       "      <td>1</td>\n",
       "      <td>0</td>\n",
       "      <td>0</td>\n",
       "    </tr>\n",
       "    <tr>\n",
       "      <th>6929</th>\n",
       "      <td>0</td>\n",
       "      <td>50</td>\n",
       "      <td>0</td>\n",
       "      <td>0</td>\n",
       "      <td>0</td>\n",
       "      <td>0</td>\n",
       "    </tr>\n",
       "    <tr>\n",
       "      <th>6957</th>\n",
       "      <td>0</td>\n",
       "      <td>50</td>\n",
       "      <td>0</td>\n",
       "      <td>0</td>\n",
       "      <td>0</td>\n",
       "      <td>0</td>\n",
       "    </tr>\n",
       "    <tr>\n",
       "      <th>9069</th>\n",
       "      <td>0</td>\n",
       "      <td>50</td>\n",
       "      <td>0</td>\n",
       "      <td>0</td>\n",
       "      <td>0</td>\n",
       "      <td>0</td>\n",
       "    </tr>\n",
       "    <tr>\n",
       "      <th>9280</th>\n",
       "      <td>0</td>\n",
       "      <td>50</td>\n",
       "      <td>0</td>\n",
       "      <td>1</td>\n",
       "      <td>0</td>\n",
       "      <td>0</td>\n",
       "    </tr>\n",
       "    <tr>\n",
       "      <th>9311</th>\n",
       "      <td>0</td>\n",
       "      <td>50</td>\n",
       "      <td>0</td>\n",
       "      <td>1</td>\n",
       "      <td>0</td>\n",
       "      <td>0</td>\n",
       "    </tr>\n",
       "    <tr>\n",
       "      <th>9861</th>\n",
       "      <td>0</td>\n",
       "      <td>50</td>\n",
       "      <td>0</td>\n",
       "      <td>1</td>\n",
       "      <td>0</td>\n",
       "      <td>0</td>\n",
       "    </tr>\n",
       "  </tbody>\n",
       "</table>\n",
       "</div>"
      ],
      "text/plain": [
       "      Gender  Age  Smoking  Fatigue  Allergy  Cancer\n",
       "257        0   50        0        0        0       0\n",
       "945        0   50        0        0        0       0\n",
       "1580       0   50        0        0        0       0\n",
       "2866       0   50        0        0        0       0\n",
       "4340       0   50        0        0        0       0\n",
       "4386       0   50        0        1        0       0\n",
       "4456       0   50        0        0        0       0\n",
       "5801       0   50        0        1        0       0\n",
       "6248       0   50        0        1        0       0\n",
       "6929       0   50        0        0        0       0\n",
       "6957       0   50        0        0        0       0\n",
       "9069       0   50        0        0        0       0\n",
       "9280       0   50        0        1        0       0\n",
       "9311       0   50        0        1        0       0\n",
       "9861       0   50        0        1        0       0"
      ]
     },
     "execution_count": 36,
     "metadata": {},
     "output_type": "execute_result"
    }
   ],
   "source": [
    "df[(df['Gender'] == 0) & (df['Smoking']==0)  & (df['Allergy']==0) & (df['Age']==50)]\n",
    "\n",
    "# Fifteen male Patients at Age fifty do not smoke and have Allergy."
   ]
  },
  {
   "cell_type": "code",
   "execution_count": 37,
   "id": "ca89a2af",
   "metadata": {},
   "outputs": [
    {
     "data": {
      "text/html": [
       "<div>\n",
       "<style scoped>\n",
       "    .dataframe tbody tr th:only-of-type {\n",
       "        vertical-align: middle;\n",
       "    }\n",
       "\n",
       "    .dataframe tbody tr th {\n",
       "        vertical-align: top;\n",
       "    }\n",
       "\n",
       "    .dataframe thead th {\n",
       "        text-align: right;\n",
       "    }\n",
       "</style>\n",
       "<table border=\"1\" class=\"dataframe\">\n",
       "  <thead>\n",
       "    <tr style=\"text-align: right;\">\n",
       "      <th></th>\n",
       "      <th>Gender</th>\n",
       "      <th>Age</th>\n",
       "      <th>Smoking</th>\n",
       "      <th>Fatigue</th>\n",
       "      <th>Allergy</th>\n",
       "      <th>Cancer</th>\n",
       "    </tr>\n",
       "  </thead>\n",
       "  <tbody>\n",
       "    <tr>\n",
       "      <th>5</th>\n",
       "      <td>1</td>\n",
       "      <td>18</td>\n",
       "      <td>1</td>\n",
       "      <td>0</td>\n",
       "      <td>0</td>\n",
       "      <td>0</td>\n",
       "    </tr>\n",
       "    <tr>\n",
       "      <th>112</th>\n",
       "      <td>1</td>\n",
       "      <td>19</td>\n",
       "      <td>1</td>\n",
       "      <td>1</td>\n",
       "      <td>1</td>\n",
       "      <td>0</td>\n",
       "    </tr>\n",
       "    <tr>\n",
       "      <th>459</th>\n",
       "      <td>1</td>\n",
       "      <td>18</td>\n",
       "      <td>1</td>\n",
       "      <td>1</td>\n",
       "      <td>0</td>\n",
       "      <td>0</td>\n",
       "    </tr>\n",
       "    <tr>\n",
       "      <th>583</th>\n",
       "      <td>1</td>\n",
       "      <td>18</td>\n",
       "      <td>1</td>\n",
       "      <td>0</td>\n",
       "      <td>1</td>\n",
       "      <td>1</td>\n",
       "    </tr>\n",
       "    <tr>\n",
       "      <th>799</th>\n",
       "      <td>1</td>\n",
       "      <td>19</td>\n",
       "      <td>1</td>\n",
       "      <td>1</td>\n",
       "      <td>0</td>\n",
       "      <td>0</td>\n",
       "    </tr>\n",
       "    <tr>\n",
       "      <th>...</th>\n",
       "      <td>...</td>\n",
       "      <td>...</td>\n",
       "      <td>...</td>\n",
       "      <td>...</td>\n",
       "      <td>...</td>\n",
       "      <td>...</td>\n",
       "    </tr>\n",
       "    <tr>\n",
       "      <th>9546</th>\n",
       "      <td>1</td>\n",
       "      <td>18</td>\n",
       "      <td>1</td>\n",
       "      <td>0</td>\n",
       "      <td>0</td>\n",
       "      <td>0</td>\n",
       "    </tr>\n",
       "    <tr>\n",
       "      <th>9729</th>\n",
       "      <td>1</td>\n",
       "      <td>18</td>\n",
       "      <td>1</td>\n",
       "      <td>0</td>\n",
       "      <td>1</td>\n",
       "      <td>0</td>\n",
       "    </tr>\n",
       "    <tr>\n",
       "      <th>9731</th>\n",
       "      <td>1</td>\n",
       "      <td>18</td>\n",
       "      <td>1</td>\n",
       "      <td>1</td>\n",
       "      <td>0</td>\n",
       "      <td>0</td>\n",
       "    </tr>\n",
       "    <tr>\n",
       "      <th>9795</th>\n",
       "      <td>1</td>\n",
       "      <td>19</td>\n",
       "      <td>1</td>\n",
       "      <td>1</td>\n",
       "      <td>1</td>\n",
       "      <td>0</td>\n",
       "    </tr>\n",
       "    <tr>\n",
       "      <th>9911</th>\n",
       "      <td>1</td>\n",
       "      <td>18</td>\n",
       "      <td>1</td>\n",
       "      <td>1</td>\n",
       "      <td>1</td>\n",
       "      <td>0</td>\n",
       "    </tr>\n",
       "  </tbody>\n",
       "</table>\n",
       "<p>63 rows × 6 columns</p>\n",
       "</div>"
      ],
      "text/plain": [
       "      Gender  Age  Smoking  Fatigue  Allergy  Cancer\n",
       "5          1   18        1        0        0       0\n",
       "112        1   19        1        1        1       0\n",
       "459        1   18        1        1        0       0\n",
       "583        1   18        1        0        1       1\n",
       "799        1   19        1        1        0       0\n",
       "...      ...  ...      ...      ...      ...     ...\n",
       "9546       1   18        1        0        0       0\n",
       "9729       1   18        1        0        1       0\n",
       "9731       1   18        1        1        0       0\n",
       "9795       1   19        1        1        1       0\n",
       "9911       1   18        1        1        1       0\n",
       "\n",
       "[63 rows x 6 columns]"
      ]
     },
     "execution_count": 37,
     "metadata": {},
     "output_type": "execute_result"
    }
   ],
   "source": [
    "df[(df['Smoking']==1) & (df['Age']<=19) & (df['Gender']==1)]\n",
    "\n",
    "\n",
    "# sixty-three female teenage Patients Smokes."
   ]
  },
  {
   "cell_type": "code",
   "execution_count": 38,
   "id": "330058a7",
   "metadata": {},
   "outputs": [
    {
     "data": {
      "text/html": [
       "<div>\n",
       "<style scoped>\n",
       "    .dataframe tbody tr th:only-of-type {\n",
       "        vertical-align: middle;\n",
       "    }\n",
       "\n",
       "    .dataframe tbody tr th {\n",
       "        vertical-align: top;\n",
       "    }\n",
       "\n",
       "    .dataframe thead th {\n",
       "        text-align: right;\n",
       "    }\n",
       "</style>\n",
       "<table border=\"1\" class=\"dataframe\">\n",
       "  <thead>\n",
       "    <tr style=\"text-align: right;\">\n",
       "      <th></th>\n",
       "      <th>Gender</th>\n",
       "      <th>Age</th>\n",
       "      <th>Smoking</th>\n",
       "      <th>Fatigue</th>\n",
       "      <th>Allergy</th>\n",
       "      <th>Cancer</th>\n",
       "    </tr>\n",
       "  </thead>\n",
       "  <tbody>\n",
       "    <tr>\n",
       "      <th>326</th>\n",
       "      <td>1</td>\n",
       "      <td>18</td>\n",
       "      <td>0</td>\n",
       "      <td>0</td>\n",
       "      <td>1</td>\n",
       "      <td>1</td>\n",
       "    </tr>\n",
       "    <tr>\n",
       "      <th>583</th>\n",
       "      <td>1</td>\n",
       "      <td>18</td>\n",
       "      <td>1</td>\n",
       "      <td>0</td>\n",
       "      <td>1</td>\n",
       "      <td>1</td>\n",
       "    </tr>\n",
       "    <tr>\n",
       "      <th>1634</th>\n",
       "      <td>0</td>\n",
       "      <td>19</td>\n",
       "      <td>0</td>\n",
       "      <td>0</td>\n",
       "      <td>0</td>\n",
       "      <td>1</td>\n",
       "    </tr>\n",
       "    <tr>\n",
       "      <th>2243</th>\n",
       "      <td>0</td>\n",
       "      <td>18</td>\n",
       "      <td>0</td>\n",
       "      <td>1</td>\n",
       "      <td>1</td>\n",
       "      <td>1</td>\n",
       "    </tr>\n",
       "    <tr>\n",
       "      <th>2511</th>\n",
       "      <td>0</td>\n",
       "      <td>18</td>\n",
       "      <td>1</td>\n",
       "      <td>0</td>\n",
       "      <td>1</td>\n",
       "      <td>1</td>\n",
       "    </tr>\n",
       "    <tr>\n",
       "      <th>2526</th>\n",
       "      <td>1</td>\n",
       "      <td>18</td>\n",
       "      <td>0</td>\n",
       "      <td>0</td>\n",
       "      <td>0</td>\n",
       "      <td>1</td>\n",
       "    </tr>\n",
       "    <tr>\n",
       "      <th>3339</th>\n",
       "      <td>0</td>\n",
       "      <td>18</td>\n",
       "      <td>0</td>\n",
       "      <td>1</td>\n",
       "      <td>1</td>\n",
       "      <td>1</td>\n",
       "    </tr>\n",
       "    <tr>\n",
       "      <th>3346</th>\n",
       "      <td>0</td>\n",
       "      <td>19</td>\n",
       "      <td>1</td>\n",
       "      <td>0</td>\n",
       "      <td>0</td>\n",
       "      <td>1</td>\n",
       "    </tr>\n",
       "    <tr>\n",
       "      <th>3528</th>\n",
       "      <td>0</td>\n",
       "      <td>18</td>\n",
       "      <td>0</td>\n",
       "      <td>1</td>\n",
       "      <td>0</td>\n",
       "      <td>1</td>\n",
       "    </tr>\n",
       "    <tr>\n",
       "      <th>4038</th>\n",
       "      <td>0</td>\n",
       "      <td>18</td>\n",
       "      <td>1</td>\n",
       "      <td>0</td>\n",
       "      <td>0</td>\n",
       "      <td>1</td>\n",
       "    </tr>\n",
       "    <tr>\n",
       "      <th>4474</th>\n",
       "      <td>0</td>\n",
       "      <td>19</td>\n",
       "      <td>0</td>\n",
       "      <td>1</td>\n",
       "      <td>0</td>\n",
       "      <td>1</td>\n",
       "    </tr>\n",
       "    <tr>\n",
       "      <th>4614</th>\n",
       "      <td>0</td>\n",
       "      <td>19</td>\n",
       "      <td>0</td>\n",
       "      <td>1</td>\n",
       "      <td>1</td>\n",
       "      <td>1</td>\n",
       "    </tr>\n",
       "    <tr>\n",
       "      <th>4854</th>\n",
       "      <td>1</td>\n",
       "      <td>19</td>\n",
       "      <td>0</td>\n",
       "      <td>0</td>\n",
       "      <td>0</td>\n",
       "      <td>1</td>\n",
       "    </tr>\n",
       "    <tr>\n",
       "      <th>5991</th>\n",
       "      <td>1</td>\n",
       "      <td>18</td>\n",
       "      <td>0</td>\n",
       "      <td>1</td>\n",
       "      <td>0</td>\n",
       "      <td>1</td>\n",
       "    </tr>\n",
       "    <tr>\n",
       "      <th>6386</th>\n",
       "      <td>0</td>\n",
       "      <td>19</td>\n",
       "      <td>0</td>\n",
       "      <td>1</td>\n",
       "      <td>1</td>\n",
       "      <td>1</td>\n",
       "    </tr>\n",
       "    <tr>\n",
       "      <th>7748</th>\n",
       "      <td>1</td>\n",
       "      <td>18</td>\n",
       "      <td>1</td>\n",
       "      <td>0</td>\n",
       "      <td>1</td>\n",
       "      <td>1</td>\n",
       "    </tr>\n",
       "    <tr>\n",
       "      <th>8370</th>\n",
       "      <td>1</td>\n",
       "      <td>19</td>\n",
       "      <td>1</td>\n",
       "      <td>1</td>\n",
       "      <td>0</td>\n",
       "      <td>1</td>\n",
       "    </tr>\n",
       "    <tr>\n",
       "      <th>8729</th>\n",
       "      <td>1</td>\n",
       "      <td>18</td>\n",
       "      <td>1</td>\n",
       "      <td>1</td>\n",
       "      <td>1</td>\n",
       "      <td>1</td>\n",
       "    </tr>\n",
       "    <tr>\n",
       "      <th>9184</th>\n",
       "      <td>1</td>\n",
       "      <td>19</td>\n",
       "      <td>0</td>\n",
       "      <td>1</td>\n",
       "      <td>0</td>\n",
       "      <td>1</td>\n",
       "    </tr>\n",
       "  </tbody>\n",
       "</table>\n",
       "</div>"
      ],
      "text/plain": [
       "      Gender  Age  Smoking  Fatigue  Allergy  Cancer\n",
       "326        1   18        0        0        1       1\n",
       "583        1   18        1        0        1       1\n",
       "1634       0   19        0        0        0       1\n",
       "2243       0   18        0        1        1       1\n",
       "2511       0   18        1        0        1       1\n",
       "2526       1   18        0        0        0       1\n",
       "3339       0   18        0        1        1       1\n",
       "3346       0   19        1        0        0       1\n",
       "3528       0   18        0        1        0       1\n",
       "4038       0   18        1        0        0       1\n",
       "4474       0   19        0        1        0       1\n",
       "4614       0   19        0        1        1       1\n",
       "4854       1   19        0        0        0       1\n",
       "5991       1   18        0        1        0       1\n",
       "6386       0   19        0        1        1       1\n",
       "7748       1   18        1        0        1       1\n",
       "8370       1   19        1        1        0       1\n",
       "8729       1   18        1        1        1       1\n",
       "9184       1   19        0        1        0       1"
      ]
     },
     "execution_count": 38,
     "metadata": {},
     "output_type": "execute_result"
    }
   ],
   "source": [
    "df[(df['Cancer']==1) & (df['Age']<=19)]\n",
    "\n",
    "# Nineteen Teenage Patients suffer from Cancer.\n"
   ]
  },
  {
   "cell_type": "code",
   "execution_count": 39,
   "id": "09257b18",
   "metadata": {},
   "outputs": [
    {
     "data": {
      "text/plain": [
       "<AxesSubplot:>"
      ]
     },
     "execution_count": 39,
     "metadata": {},
     "output_type": "execute_result"
    },
    {
     "data": {
      "image/png": "[encoded data removed]",
      "text/plain": [
       "<Figure size 576x432 with 2 Axes>"
      ]
     },
     "metadata": {},
     "output_type": "display_data"
    }
   ],
   "source": [
    "# Correlatiuon of features \n",
    "correlation=df.corr()\n",
    "# Visualizing\n",
    "sns.heatmap(correlation,cmap = 'Blues',annot= True)"
   ]
  },
  {
   "cell_type": "markdown",
   "id": "498b4574",
   "metadata": {},
   "source": [
    "###### Because there is a very week correlation between the target variable('Cancer') and the independent variables, the data wouldn't fit well with linear models such as Logistic regression model .In this Case we use non-linear models like decision trees or Random Forest"
   ]
  },
  {
   "cell_type": "code",
   "execution_count": 40,
   "id": "407f50ed",
   "metadata": {},
   "outputs": [
    {
     "name": "stdout",
     "output_type": "stream",
     "text": [
      "X shape: (10000, 5) \n",
      "y shape: (10000,)\n"
     ]
    }
   ],
   "source": [
    "X = df.drop(columns=['Cancer'])                      \n",
    "y = df['Cancer']\n",
    "\n",
    "print('X shape:', X.shape, '\\ny shape:', y.shape)"
   ]
  },
  {
   "cell_type": "code",
   "execution_count": 41,
   "id": "215a107b",
   "metadata": {},
   "outputs": [
    {
     "data": {
      "text/html": [
       "<div>\n",
       "<style scoped>\n",
       "    .dataframe tbody tr th:only-of-type {\n",
       "        vertical-align: middle;\n",
       "    }\n",
       "\n",
       "    .dataframe tbody tr th {\n",
       "        vertical-align: top;\n",
       "    }\n",
       "\n",
       "    .dataframe thead th {\n",
       "        text-align: right;\n",
       "    }\n",
       "</style>\n",
       "<table border=\"1\" class=\"dataframe\">\n",
       "  <thead>\n",
       "    <tr style=\"text-align: right;\">\n",
       "      <th></th>\n",
       "      <th>Gender</th>\n",
       "      <th>Age</th>\n",
       "      <th>Smoking</th>\n",
       "      <th>Fatigue</th>\n",
       "      <th>Allergy</th>\n",
       "    </tr>\n",
       "  </thead>\n",
       "  <tbody>\n",
       "    <tr>\n",
       "      <th>0</th>\n",
       "      <td>1</td>\n",
       "      <td>85</td>\n",
       "      <td>1</td>\n",
       "      <td>0</td>\n",
       "      <td>1</td>\n",
       "    </tr>\n",
       "    <tr>\n",
       "      <th>1</th>\n",
       "      <td>1</td>\n",
       "      <td>93</td>\n",
       "      <td>0</td>\n",
       "      <td>0</td>\n",
       "      <td>0</td>\n",
       "    </tr>\n",
       "    <tr>\n",
       "      <th>2</th>\n",
       "      <td>1</td>\n",
       "      <td>72</td>\n",
       "      <td>0</td>\n",
       "      <td>1</td>\n",
       "      <td>0</td>\n",
       "    </tr>\n",
       "    <tr>\n",
       "      <th>3</th>\n",
       "      <td>0</td>\n",
       "      <td>58</td>\n",
       "      <td>0</td>\n",
       "      <td>0</td>\n",
       "      <td>1</td>\n",
       "    </tr>\n",
       "    <tr>\n",
       "      <th>4</th>\n",
       "      <td>1</td>\n",
       "      <td>95</td>\n",
       "      <td>1</td>\n",
       "      <td>0</td>\n",
       "      <td>1</td>\n",
       "    </tr>\n",
       "  </tbody>\n",
       "</table>\n",
       "</div>"
      ],
      "text/plain": [
       "   Gender  Age  Smoking  Fatigue  Allergy\n",
       "0       1   85        1        0        1\n",
       "1       1   93        0        0        0\n",
       "2       1   72        0        1        0\n",
       "3       0   58        0        0        1\n",
       "4       1   95        1        0        1"
      ]
     },
     "execution_count": 41,
     "metadata": {},
     "output_type": "execute_result"
    }
   ],
   "source": [
    "X.head()"
   ]
  },
  {
   "cell_type": "code",
   "execution_count": 42,
   "id": "cec58c87",
   "metadata": {},
   "outputs": [
    {
     "name": "stdout",
     "output_type": "stream",
     "text": [
      "X_train shape: (9000, 5)\n",
      "y_train shape: (9000,)\n",
      "X_test shape: (1000, 5)\n",
      "y_test shape: (1000,)\n"
     ]
    }
   ],
   "source": [
    "# Split the data into training and test data\n",
    "X_train, X_test, y_train, y_test = train_test_split(X, y, test_size = 0.1, random_state = 42)\n",
    "\n",
    "print(\"X_train shape:\", X_train.shape)\n",
    "print(\"y_train shape:\", y_train.shape)\n",
    "print(\"X_test shape:\", X_test.shape)\n",
    "print(\"y_test shape:\", y_test.shape)"
   ]
  },
  {
   "cell_type": "markdown",
   "id": "cab10e65",
   "metadata": {},
   "source": [
    "# Building the model"
   ]
  },
  {
   "cell_type": "markdown",
   "id": "ed4cfe98",
   "metadata": {},
   "source": [
    "### Baseline"
   ]
  },
  {
   "cell_type": "code",
   "execution_count": 43,
   "id": "957f2289",
   "metadata": {},
   "outputs": [
    {
     "name": "stdout",
     "output_type": "stream",
     "text": [
      "The baseline accuracy is  90.36 %\n"
     ]
    }
   ],
   "source": [
    "# Calculating the baseline accuracy\n",
    "acc_baseline = df['Cancer'].value_counts(normalize = True).max()\n",
    "print('The baseline accuracy is ', round(acc_baseline * 100, 4), '%')"
   ]
  },
  {
   "cell_type": "markdown",
   "id": "32d7b9b7",
   "metadata": {},
   "source": [
    "### Iterate"
   ]
  },
  {
   "cell_type": "markdown",
   "id": "d24bacd7",
   "metadata": {},
   "source": [
    "Using GridSearchCv to get the best hyperparameter for the model"
   ]
  },
  {
   "cell_type": "code",
   "execution_count": 44,
   "id": "c47ca227",
   "metadata": {},
   "outputs": [
    {
     "data": {
      "text/plain": [
       "{'max_depth': [100, 200, 300],\n",
       " 'n_estimators': [100, 200, 300],\n",
       " 'min_samples_split': [5, 10, 15],\n",
       " 'min_samples_leaf': [1, 2, 3],\n",
       " 'max_features': ['sqrt', 'log2']}"
      ]
     },
     "execution_count": 44,
     "metadata": {},
     "output_type": "execute_result"
    }
   ],
   "source": [
    "# Creating a dictionary with range of hyperparameters for hyperparameter tunning\n",
    "params = {\n",
    "    \"max_depth\": [ 100, 200, 300],  # Maximum depth of each tree\n",
    "    \"n_estimators\": [100, 200, 300], # Number of trees in the forest\n",
    "    'min_samples_split':[5, 10, 15],# Minimum number of samples required to split a node\n",
    "    'min_samples_leaf':[1, 2, 3],  # Minimum nuber of samples required at each leaf node\n",
    "    'max_features':['sqrt','log2'], # Number of features to consider\n",
    "}\n",
    "params"
   ]
  },
  {
   "cell_type": "code",
   "execution_count": 45,
   "id": "a1add4fd",
   "metadata": {},
   "outputs": [
    {
     "data": {
      "text/plain": [
       "GridSearchCV(cv=2, estimator=RandomForestClassifier(random_state=42), n_jobs=-1,\n",
       "             param_grid={'max_depth': [100, 200, 300],\n",
       "                         'max_features': ['sqrt', 'log2'],\n",
       "                         'min_samples_leaf': [1, 2, 3],\n",
       "                         'min_samples_split': [5, 10, 15],\n",
       "                         'n_estimators': [100, 200, 300]},\n",
       "             scoring='accuracy', verbose=1)"
      ]
     },
     "execution_count": 45,
     "metadata": {},
     "output_type": "execute_result"
    }
   ],
   "source": [
    "# Creating GridSearchCv to get the best hyperparameters for the model\n",
    "model = GridSearchCV(\n",
    "    estimator=RandomForestClassifier(random_state=42),\n",
    "    param_grid = params,\n",
    "    cv = 2, # Number of cross validations\n",
    "    scoring='accuracy',\n",
    "    n_jobs = -1, \n",
    "    verbose = 1\n",
    ")\n",
    "model"
   ]
  },
  {
   "cell_type": "code",
   "execution_count": 46,
   "id": "f9985796",
   "metadata": {},
   "outputs": [
    {
     "data": {
      "text/plain": [
       "0    8134\n",
       "1     866\n",
       "Name: Cancer, dtype: int64"
      ]
     },
     "execution_count": 46,
     "metadata": {},
     "output_type": "execute_result"
    }
   ],
   "source": [
    "y_train.value_counts()"
   ]
  },
  {
   "cell_type": "markdown",
   "id": "844dc608",
   "metadata": {},
   "source": [
    "#### using Oversampling on our training data to prevent bias and increase the number of cancer patients since it was low"
   ]
  },
  {
   "cell_type": "code",
   "execution_count": 47,
   "id": "a42d3bee",
   "metadata": {},
   "outputs": [],
   "source": [
    "# peforming OverSampling on the training data\n",
    "ros = RandomOverSampler()\n",
    "X_resampled, y_resampled = ros.fit_resample(X_train, y_train)"
   ]
  },
  {
   "cell_type": "code",
   "execution_count": 48,
   "id": "7ce6c055",
   "metadata": {},
   "outputs": [
    {
     "name": "stdout",
     "output_type": "stream",
     "text": [
      "X-resampled: (16268, 5) \n",
      "y-resampled: (16268,)\n"
     ]
    }
   ],
   "source": [
    "# Printing the shape of our resampled data\n",
    "print('X-resampled:',X_resampled.shape, \"\\ny-resampled:\", y_resampled.shape)"
   ]
  },
  {
   "cell_type": "code",
   "execution_count": 49,
   "id": "1181ed55",
   "metadata": {},
   "outputs": [
    {
     "data": {
      "text/plain": [
       "0    8134\n",
       "1    8134\n",
       "Name: Cancer, dtype: int64"
      ]
     },
     "execution_count": 49,
     "metadata": {},
     "output_type": "execute_result"
    }
   ],
   "source": [
    "y_resampled.value_counts()"
   ]
  },
  {
   "cell_type": "code",
   "execution_count": 50,
   "id": "db041b33",
   "metadata": {},
   "outputs": [
    {
     "name": "stdout",
     "output_type": "stream",
     "text": [
      "Fitting 2 folds for each of 162 candidates, totalling 324 fits\n"
     ]
    },
    {
     "data": {
      "text/plain": [
       "GridSearchCV(cv=2, estimator=RandomForestClassifier(random_state=42), n_jobs=-1,\n",
       "             param_grid={'max_depth': [100, 200, 300],\n",
       "                         'max_features': ['sqrt', 'log2'],\n",
       "                         'min_samples_leaf': [1, 2, 3],\n",
       "                         'min_samples_split': [5, 10, 15],\n",
       "                         'n_estimators': [100, 200, 300]},\n",
       "             scoring='accuracy', verbose=1)"
      ]
     },
     "execution_count": 50,
     "metadata": {},
     "output_type": "execute_result"
    }
   ],
   "source": [
    "# fitting the model in our training dataset\n",
    "model.fit(X_train, y_train)"
   ]
  },
  {
   "cell_type": "code",
   "execution_count": 51,
   "id": "d2b75a0e",
   "metadata": {},
   "outputs": [
    {
     "data": {
      "text/plain": [
       "{'max_depth': 100,\n",
       " 'max_features': 'sqrt',\n",
       " 'min_samples_leaf': 1,\n",
       " 'min_samples_split': 15,\n",
       " 'n_estimators': 300}"
      ]
     },
     "execution_count": 51,
     "metadata": {},
     "output_type": "execute_result"
    }
   ],
   "source": [
    "# finding the best params for the model\n",
    "best_params= model.best_params_\n",
    "best_params"
   ]
  },
  {
   "cell_type": "code",
   "execution_count": 52,
   "id": "03da5896",
   "metadata": {},
   "outputs": [
    {
     "data": {
      "text/plain": [
       "RandomForestClassifier(max_depth=100, max_features='sqrt', min_samples_split=15,\n",
       "                       n_estimators=300, random_state=42)"
      ]
     },
     "execution_count": 52,
     "metadata": {},
     "output_type": "execute_result"
    }
   ],
   "source": [
    "# creating a new model with best params\n",
    "model_rfc = RandomForestClassifier(random_state = 42, **best_params)\n",
    "model_rfc"
   ]
  },
  {
   "cell_type": "markdown",
   "id": "978056dc",
   "metadata": {},
   "source": [
    "fitting the model with the oversampled data "
   ]
  },
  {
   "cell_type": "code",
   "execution_count": 53,
   "id": "3be2c792",
   "metadata": {},
   "outputs": [
    {
     "data": {
      "text/plain": [
       "RandomForestClassifier(max_depth=100, max_features='sqrt', min_samples_split=15,\n",
       "                       n_estimators=300, random_state=42)"
      ]
     },
     "execution_count": 53,
     "metadata": {},
     "output_type": "execute_result"
    }
   ],
   "source": [
    "# Fitting the new model with the best params into the Oversampled dataset\n",
    "model_rfc.fit(X_resampled, y_resampled)"
   ]
  },
  {
   "cell_type": "code",
   "execution_count": 54,
   "id": "d5fa01be",
   "metadata": {},
   "outputs": [
    {
     "data": {
      "text/plain": [
       "['Gender', 'Age', 'Smoking', 'Fatigue', 'Allergy']"
      ]
     },
     "execution_count": 54,
     "metadata": {},
     "output_type": "execute_result"
    }
   ],
   "source": [
    "index_list = X_train.columns.tolist()\n",
    "index_list"
   ]
  },
  {
   "cell_type": "code",
   "execution_count": 55,
   "id": "f1a2b479",
   "metadata": {},
   "outputs": [
    {
     "data": {
      "text/plain": [
       "[0.018546800136494155,\n",
       " 0.9171156987350778,\n",
       " 0.0237116399245232,\n",
       " 0.021071321581594478,\n",
       " 0.01955453962231044]"
      ]
     },
     "execution_count": 55,
     "metadata": {},
     "output_type": "execute_result"
    }
   ],
   "source": [
    "# Feature importance\n",
    "feat_imp = model_rfc.feature_importances_.tolist()\n",
    "feat_imp"
   ]
  },
  {
   "cell_type": "code",
   "execution_count": 56,
   "id": "42a9d2fa",
   "metadata": {},
   "outputs": [
    {
     "data": {
      "text/html": [
       "<div>\n",
       "<style scoped>\n",
       "    .dataframe tbody tr th:only-of-type {\n",
       "        vertical-align: middle;\n",
       "    }\n",
       "\n",
       "    .dataframe tbody tr th {\n",
       "        vertical-align: top;\n",
       "    }\n",
       "\n",
       "    .dataframe thead th {\n",
       "        text-align: right;\n",
       "    }\n",
       "</style>\n",
       "<table border=\"1\" class=\"dataframe\">\n",
       "  <thead>\n",
       "    <tr style=\"text-align: right;\">\n",
       "      <th></th>\n",
       "      <th>feature importance</th>\n",
       "    </tr>\n",
       "  </thead>\n",
       "  <tbody>\n",
       "    <tr>\n",
       "      <th>Gender</th>\n",
       "      <td>0.018547</td>\n",
       "    </tr>\n",
       "    <tr>\n",
       "      <th>Age</th>\n",
       "      <td>0.917116</td>\n",
       "    </tr>\n",
       "    <tr>\n",
       "      <th>Smoking</th>\n",
       "      <td>0.023712</td>\n",
       "    </tr>\n",
       "    <tr>\n",
       "      <th>Fatigue</th>\n",
       "      <td>0.021071</td>\n",
       "    </tr>\n",
       "    <tr>\n",
       "      <th>Allergy</th>\n",
       "      <td>0.019555</td>\n",
       "    </tr>\n",
       "  </tbody>\n",
       "</table>\n",
       "</div>"
      ],
      "text/plain": [
       "         feature importance\n",
       "Gender             0.018547\n",
       "Age                0.917116\n",
       "Smoking            0.023712\n",
       "Fatigue            0.021071\n",
       "Allergy            0.019555"
      ]
     },
     "execution_count": 56,
     "metadata": {},
     "output_type": "execute_result"
    }
   ],
   "source": [
    "# feature importance dataframe\n",
    "df_feat_imp = pd.DataFrame({'feature importance': feat_imp}, index=index_list)\n",
    "df_feat_imp"
   ]
  },
  {
   "cell_type": "code",
   "execution_count": 57,
   "id": "f3e7b74f",
   "metadata": {},
   "outputs": [
    {
     "data": {
      "image/png": "[encoded data removed]",
      "text/plain": [
       "<Figure size 576x432 with 1 Axes>"
      ]
     },
     "metadata": {},
     "output_type": "display_data"
    }
   ],
   "source": [
    "df_feat_imp.sort_values(by = 'feature importance', ascending=True).plot.barh(legend = False);\n",
    "\n",
    "# label axis\n",
    "plt.xlabel('gini importance')\n",
    "plt.ylabel('feature')\n",
    "plt.title('Importance of features');"
   ]
  },
  {
   "cell_type": "markdown",
   "id": "5bdde07b",
   "metadata": {},
   "source": [
    "#### Age has the most influence on the model's prediction"
   ]
  },
  {
   "cell_type": "code",
   "execution_count": 58,
   "id": "90ad6227",
   "metadata": {},
   "outputs": [
    {
     "data": {
      "text/plain": [
       "array([0, 0, 1, 1, 0, 0, 1, 0, 0, 0, 0, 1, 0, 1, 1, 0, 0, 0, 1, 0],\n",
       "      dtype=int64)"
      ]
     },
     "execution_count": 58,
     "metadata": {},
     "output_type": "execute_result"
    }
   ],
   "source": [
    "# Predicting the Oversampled training data\n",
    "y_re = model_rfc.predict(X_resampled)\n",
    "y_re[:20]"
   ]
  },
  {
   "cell_type": "code",
   "execution_count": 59,
   "id": "bd6ec6f6",
   "metadata": {},
   "outputs": [
    {
     "data": {
      "text/plain": [
       "array([0, 1, 0, 1, 0, 1, 0, 1, 1, 0, 0, 1, 0, 1, 0, 1, 1, 0, 1, 0],\n",
       "      dtype=int64)"
      ]
     },
     "execution_count": 59,
     "metadata": {},
     "output_type": "execute_result"
    }
   ],
   "source": [
    "# predict the test data\n",
    "y_pred = model_rfc.predict(X_test)\n",
    "y_pred[:20]"
   ]
  },
  {
   "cell_type": "code",
   "execution_count": 60,
   "id": "d8989cd2",
   "metadata": {},
   "outputs": [
    {
     "name": "stdout",
     "output_type": "stream",
     "text": [
      "Test accuracy: 100.0%\n"
     ]
    }
   ],
   "source": [
    "# calculate the testing accuracy\n",
    "test_acc = model_rfc.score(X_test, y_pred)\n",
    "print(f\"Test accuracy: {test_acc * 100}%\")"
   ]
  },
  {
   "cell_type": "code",
   "execution_count": 61,
   "id": "7df84e91",
   "metadata": {},
   "outputs": [
    {
     "name": "stdout",
     "output_type": "stream",
     "text": [
      "Training accuracy for overSampled data: 76.5921%\n"
     ]
    }
   ],
   "source": [
    "# calculate the resample_training accuracy\n",
    "re_training_acc = model_rfc.score(X_resampled, y_resampled)\n",
    "print(f\"Training accuracy for overSampled data: {round(re_training_acc* 100, 4) }%\")"
   ]
  },
  {
   "cell_type": "code",
   "execution_count": 62,
   "id": "0ede732e",
   "metadata": {},
   "outputs": [
    {
     "data": {
      "image/png": "[encoded data removed]",
      "text/plain": [
       "<Figure size 576x432 with 2 Axes>"
      ]
     },
     "metadata": {},
     "output_type": "display_data"
    }
   ],
   "source": [
    "# create a confusion matrix to analyze the model performance on the overSampled training data\n",
    "ConfusionMatrixDisplay.from_estimator(model_rfc,X_resampled ,y_re );"
   ]
  },
  {
   "cell_type": "code",
   "execution_count": 63,
   "id": "0a0182ee",
   "metadata": {},
   "outputs": [
    {
     "data": {
      "image/png": "[encoded data removed]",
      "text/plain": [
       "<Figure size 576x432 with 2 Axes>"
      ]
     },
     "metadata": {},
     "output_type": "display_data"
    }
   ],
   "source": [
    "# create a confusion matrix for model analysis\n",
    "ConfusionMatrixDisplay.from_estimator(model_rfc,X_test ,y_test );"
   ]
  },
  {
   "cell_type": "code",
   "execution_count": 64,
   "id": "9972f11d",
   "metadata": {},
   "outputs": [
    {
     "name": "stdout",
     "output_type": "stream",
     "text": [
      "F1 Score: 0.1542\n",
      "AUC-ROC Score: 0.4718\n",
      "Recall: 0.3980\n",
      "Precision: 0.0956\n"
     ]
    }
   ],
   "source": [
    "y_pred_proba = model_rfc.predict_proba(X_test)[:, 1]\n",
    "# Calculate F1 score\n",
    "f1 = f1_score(y_test, y_pred)\n",
    "\n",
    "# Calculate AUC-ROC score\n",
    "auc_roc = roc_auc_score(y_test, y_pred_proba)\n",
    "\n",
    "# Calculate recall (also known as sensitivity or true positive rate)\n",
    "recall = recall_score(y_test, y_pred)\n",
    "\n",
    "# Calculate precision score\n",
    "precision = precision_score(y_test, y_pred)\n",
    "\n",
    "print(f\"F1 Score: {f1:.4f}\")\n",
    "print(f\"AUC-ROC Score: {auc_roc:.4f}\")\n",
    "print(f\"Recall: {recall:.4f}\")\n",
    "print(f\"Precision: {precision:.4f}\")"
   ]
  },
  {
   "cell_type": "code",
   "execution_count": 65,
   "id": "4b101066",
   "metadata": {},
   "outputs": [
    {
     "data": {
      "image/png": "[encoded data removed]",
      "text/plain": [
       "<Figure size 576x432 with 2 Axes>"
      ]
     },
     "metadata": {},
     "output_type": "display_data"
    }
   ],
   "source": [
    "# create a confusion matrix to analyze the model performance on the test data\n",
    "ConfusionMatrixDisplay.from_estimator(model_rfc, X_test, y_pred);"
   ]
  },
  {
   "cell_type": "markdown",
   "id": "49e3cb10",
   "metadata": {},
   "source": [
    "# MODEL DEPLOYMENT "
   ]
  },
  {
   "cell_type": "code",
   "execution_count": 66,
   "id": "30b37f86",
   "metadata": {},
   "outputs": [
    {
     "data": {
      "text/plain": [
       "array([4.24996858e-01, 7.88223844e-01, 9.83061011e-02, 6.93153895e-01,\n",
       "       6.84092052e-03, 6.52638545e-01, 4.58989354e-01, 7.40617338e-01,\n",
       "       7.55022295e-01, 1.31462594e-02, 4.15161084e-02, 5.82846755e-01,\n",
       "       4.71673254e-03, 6.18844630e-01, 2.36902001e-02, 5.28009424e-01,\n",
       "       5.90035896e-01, 5.50389610e-03, 8.60409341e-01, 1.31770715e-02,\n",
       "       6.51708361e-01, 1.00091673e-02, 8.30805928e-01, 1.17150844e-02,\n",
       "       6.52857143e-03, 1.96018482e-01, 3.44713106e-01, 7.04319336e-01,\n",
       "       7.65483476e-03, 7.03870642e-02, 4.13905020e-01, 7.06808857e-01,\n",
       "       2.22222222e-03, 6.10782802e-01, 2.26094312e-01, 5.77045173e-01,\n",
       "       5.77961813e-03, 7.29268323e-01, 1.51515152e-03, 3.09984752e-01,\n",
       "       8.33333333e-04, 7.18104650e-01, 6.12947112e-01, 7.38160968e-01,\n",
       "       6.65281038e-02, 5.25532864e-01, 1.95409900e-02, 3.60622201e-02,\n",
       "       3.40104271e-02, 5.45548806e-01, 6.84761617e-01, 3.21471516e-01,\n",
       "       4.91452991e-03, 3.29006065e-02, 5.37516117e-01, 6.48019192e-01,\n",
       "       1.31873312e-02, 6.84850987e-01, 2.12260361e-03, 6.42519153e-02,\n",
       "       6.70142105e-01, 3.72832651e-02, 0.00000000e+00, 4.77918425e-01,\n",
       "       1.84492229e-02, 6.40289369e-01, 2.97703487e-02, 4.71410671e-01,\n",
       "       5.33029993e-01, 5.40536930e-01, 5.54376650e-01, 7.23032260e-01,\n",
       "       2.41584504e-02, 6.48848490e-01, 4.44978235e-01, 6.90144223e-01,\n",
       "       6.23088145e-01, 6.03901181e-01, 1.01317182e-02, 9.89152554e-03,\n",
       "       6.84092052e-03, 6.94061852e-02, 7.37878707e-01, 6.79130246e-01,\n",
       "       8.01831702e-01, 7.98116762e-01, 6.56648825e-01, 6.76618456e-01,\n",
       "       7.19145056e-01, 1.16666667e-03, 1.06411876e-02, 8.94514509e-02,\n",
       "       2.63038411e-02, 8.96423598e-01, 6.61344531e-01, 4.27598613e-01,\n",
       "       1.17150844e-02, 1.78070848e-02, 2.17632623e-02, 1.87416581e-01,\n",
       "       1.54703387e-01, 3.09984752e-01, 5.54009380e-01, 4.89710197e-01,\n",
       "       5.47334906e-01, 4.88079497e-01, 6.46707919e-01, 0.00000000e+00,\n",
       "       8.34849356e-01, 2.58344579e-01, 5.01794540e-01, 2.75032402e-02,\n",
       "       1.03919052e-01, 5.33435794e-01, 6.97959528e-03, 4.10542392e-01,\n",
       "       1.56529126e-02, 8.21675075e-01, 1.96018482e-01, 6.48019192e-01,\n",
       "       1.22852109e-02, 7.69479266e-01, 7.52778640e-01, 3.96325434e-01,\n",
       "       7.93650794e-04, 3.64746484e-02, 6.41796968e-01, 2.14287701e-02,\n",
       "       0.00000000e+00, 2.41008772e-03, 2.85149174e-02, 5.50389610e-03,\n",
       "       1.76182278e-02, 5.82339113e-01, 5.26315789e-04, 5.69394928e-01,\n",
       "       7.87009141e-01, 2.11731252e-01, 4.58989354e-01, 5.60609800e-01,\n",
       "       4.96275529e-01, 1.99613577e-01, 4.47316745e-01, 5.54009380e-01,\n",
       "       1.78070848e-02, 1.92683875e-01, 6.10782802e-01, 7.84845320e-01,\n",
       "       7.23617868e-03, 5.62099640e-01, 0.00000000e+00, 1.82640970e-02,\n",
       "       6.16277056e-03, 1.10257870e-01, 1.35338346e-02, 1.31873312e-02,\n",
       "       1.79242395e-02, 6.01759438e-01, 4.19328960e-01, 4.47642179e-02,\n",
       "       6.93153895e-01, 1.26489156e-02, 3.92950514e-03, 8.19917198e-01,\n",
       "       0.00000000e+00, 1.19888064e-02, 2.61566911e-02, 6.72463707e-01,\n",
       "       5.26315789e-04, 0.00000000e+00, 6.59233792e-01, 7.93650794e-04,\n",
       "       2.06175769e-02, 9.28193952e-03, 5.03353773e-01, 2.93884994e-02,\n",
       "       7.93024678e-01, 2.43595047e-02, 4.71410671e-01, 2.93884994e-02,\n",
       "       5.72996523e-01, 5.94522198e-01, 6.46081879e-01, 0.00000000e+00,\n",
       "       6.73135909e-01, 7.85382180e-01, 8.20441224e-01, 4.04912893e-01,\n",
       "       0.00000000e+00, 1.70636411e-02, 5.32345064e-02, 7.66088466e-01,\n",
       "       1.99980691e-01, 7.23032260e-01, 7.52778640e-01, 2.78254926e-01,\n",
       "       7.83449724e-01, 8.10249995e-01, 4.94933687e-01, 1.92219680e-03,\n",
       "       7.88778195e-01, 5.47334906e-01, 4.67839446e-02, 1.14964276e-02,\n",
       "       2.36536995e-03, 8.65554654e-01, 2.77777778e-03, 4.48395218e-01,\n",
       "       5.20832932e-01, 7.70716289e-01, 7.72742835e-03, 6.40289369e-01,\n",
       "       9.98960302e-03, 2.97979798e-03, 3.86431934e-01, 7.21456846e-01,\n",
       "       3.81464748e-02, 2.21493226e-01, 7.69452170e-01, 3.84025746e-02,\n",
       "       8.65554654e-01, 5.68213880e-01, 7.58807968e-03, 5.95175439e-03,\n",
       "       2.93650794e-03, 7.55205693e-01, 1.04671912e-01, 6.91215593e-01,\n",
       "       6.08875129e-03, 1.00091673e-02, 6.83055075e-01, 5.61061615e-01,\n",
       "       7.96936288e-01, 0.00000000e+00, 7.49975634e-03, 7.61724392e-01,\n",
       "       4.26519157e-01, 7.51806197e-01, 7.78726609e-01, 7.29960981e-03,\n",
       "       8.71269743e-01, 8.47567586e-01, 8.42868817e-01, 4.88023823e-02,\n",
       "       3.35777824e-02, 2.14287701e-02, 1.16666667e-03, 5.51000118e-01,\n",
       "       4.61804862e-03, 5.95644725e-01, 7.23032260e-01, 1.51539611e-01,\n",
       "       8.54057960e-01, 9.64940355e-02, 6.13793493e-01, 5.46727915e-02,\n",
       "       6.57805420e-03, 7.49975634e-03, 6.72379330e-01, 7.13041664e-02,\n",
       "       5.51889547e-01, 7.60662415e-01, 8.44546792e-01, 3.66666667e-03,\n",
       "       7.95523777e-01, 3.05878489e-01, 1.40718896e-02, 1.96018482e-01,\n",
       "       7.72913019e-01, 2.14287701e-02, 0.00000000e+00, 2.40359520e-02,\n",
       "       4.37172109e-02, 7.87362988e-01, 6.07900323e-01, 1.09031916e-02,\n",
       "       4.89710197e-01, 5.45503369e-01, 2.27272727e-03, 2.26094312e-01,\n",
       "       2.07965895e-02, 6.61333886e-01, 1.31125627e-02, 9.34122885e-02,\n",
       "       7.60602255e-01, 8.33190752e-01, 5.98622378e-01, 1.87039565e-02,\n",
       "       4.48985103e-01, 9.39308160e-03, 1.19888064e-02, 7.19079271e-01,\n",
       "       5.78800273e-01, 7.38160968e-01, 2.64476809e-01, 5.63587751e-02,\n",
       "       5.76096698e-01, 7.72913019e-01, 9.55216586e-02, 6.16490643e-01,\n",
       "       8.43870555e-02, 2.59497029e-02, 7.19079271e-01, 6.17324478e-01,\n",
       "       4.27025899e-02, 3.20625585e-02, 1.05840887e-02, 5.90855473e-01,\n",
       "       8.14913935e-01, 1.44725911e-02, 6.15738647e-01, 7.06808857e-01,\n",
       "       7.45610486e-01, 3.43358396e-03, 1.51515152e-03, 5.30672522e-01,\n",
       "       8.14913935e-01, 0.00000000e+00, 6.07900323e-01, 5.43430103e-01,\n",
       "       6.46081879e-01, 5.34661462e-03, 5.84526237e-02, 9.54956980e-03,\n",
       "       4.59957365e-03, 6.57162370e-01, 0.00000000e+00, 2.38304159e-02,\n",
       "       3.71630665e-01, 6.86778499e-03, 6.13740510e-01, 0.00000000e+00,\n",
       "       1.43731621e-02, 5.26906318e-03, 4.44242210e-01, 8.69430288e-02,\n",
       "       7.88223844e-01, 9.35267856e-02, 4.91940941e-01, 6.84850987e-01,\n",
       "       1.79892973e-01, 6.53517640e-01, 5.25179838e-02, 1.10257870e-01,\n",
       "       6.78462994e-01, 1.34278134e-02, 0.00000000e+00, 3.92950514e-03,\n",
       "       4.59957365e-03, 6.66625815e-01, 1.57894737e-03, 7.59427344e-01,\n",
       "       4.91940941e-01, 9.23989899e-03, 9.09165494e-01, 7.82529240e-03,\n",
       "       6.84535369e-03, 5.47128582e-02, 6.00354691e-01, 7.50259679e-01,\n",
       "       0.00000000e+00, 3.41640846e-01, 4.63696020e-01, 7.17840120e-01,\n",
       "       8.60409341e-01, 1.39258210e-01, 7.87412087e-01, 8.74391932e-02,\n",
       "       7.19079271e-01, 1.83238197e-01, 8.36657166e-01, 5.63980804e-01,\n",
       "       1.16756440e-02, 7.52023616e-01, 3.20625585e-02, 1.21212121e-03,\n",
       "       7.70716289e-01, 1.44725911e-02, 1.64705882e-03, 5.76096698e-01,\n",
       "       5.87110989e-01, 7.27781168e-01, 6.12304673e-01, 5.50389610e-03,\n",
       "       4.34640523e-03, 1.39258210e-01, 4.54545455e-04, 0.00000000e+00,\n",
       "       7.21456846e-01, 2.31607600e-02, 7.40740741e-04, 7.39441863e-02,\n",
       "       3.38746158e-01, 1.62543679e-02, 6.73635397e-01, 4.54545455e-04,\n",
       "       2.38304159e-02, 8.04803000e-01, 1.10392976e-01, 1.25609977e-02,\n",
       "       2.76935194e-01, 6.72379330e-01, 0.00000000e+00, 8.54057960e-01,\n",
       "       4.98160548e-01, 1.82640970e-02, 3.48309179e-03, 0.00000000e+00,\n",
       "       7.95523777e-01, 4.47008210e-01, 2.27403738e-02, 0.00000000e+00,\n",
       "       4.63696020e-01, 7.84313725e-04, 1.76182278e-02, 7.07684500e-01,\n",
       "       6.06074481e-03, 2.77777778e-03, 0.00000000e+00, 8.80382963e-02,\n",
       "       0.00000000e+00, 8.13304156e-01, 8.21951872e-02, 4.42267519e-01,\n",
       "       2.06175769e-02, 2.59497029e-02, 1.70234609e-01, 8.24074271e-01,\n",
       "       5.33870909e-03, 3.46122826e-02, 7.80444087e-01, 6.09015299e-01,\n",
       "       6.37140072e-01, 2.41654842e-02, 1.26516799e-01, 1.07265873e-02,\n",
       "       5.19020465e-01, 7.65483476e-03, 6.06060606e-04, 8.17589969e-01,\n",
       "       6.98889676e-01, 2.77777778e-03, 4.88365066e-01, 5.78800273e-01,\n",
       "       6.53517640e-01, 5.95644725e-01, 1.19367966e-01, 2.93650794e-03,\n",
       "       5.68213880e-01, 8.65554654e-01, 1.51264034e-02, 6.41053472e-01,\n",
       "       3.46179908e-02, 1.24399644e-02, 6.79704477e-03, 6.91628347e-01,\n",
       "       5.68726480e-03, 2.93884994e-02, 6.06060606e-04, 4.24996858e-01,\n",
       "       2.56140351e-03, 3.20625585e-02, 0.00000000e+00, 6.87318186e-01,\n",
       "       3.83333333e-03, 0.00000000e+00, 9.48540878e-03, 5.01794540e-01,\n",
       "       7.31604155e-01, 4.76885722e-02, 1.70850047e-02, 7.59608330e-01,\n",
       "       8.41314186e-01, 3.06060606e-03, 5.19025964e-01, 6.41053472e-01,\n",
       "       7.66765505e-01, 2.93650794e-03, 2.12138190e-02, 3.96325434e-01,\n",
       "       1.06060606e-03, 8.14913935e-01, 5.51889547e-01, 3.88820983e-03,\n",
       "       5.99478663e-01, 3.60978166e-02, 7.88663383e-01, 5.77467910e-01,\n",
       "       1.60744715e-01, 5.05802303e-01, 6.62465916e-01, 7.52023616e-01,\n",
       "       6.51708361e-01, 1.23625631e-01, 4.68986786e-01, 8.12160593e-01,\n",
       "       8.68559635e-01, 9.55216586e-02, 9.10240642e-02, 5.80067716e-01,\n",
       "       7.70716289e-01, 8.87625808e-01, 4.16848176e-01, 5.08912023e-01,\n",
       "       0.00000000e+00, 0.00000000e+00, 7.51806197e-01, 7.57224009e-01,\n",
       "       0.00000000e+00, 5.16356951e-02, 5.26962945e-02, 8.34288859e-01,\n",
       "       6.03901181e-01, 3.89178512e-01, 8.77279826e-02, 6.21102468e-01,\n",
       "       6.66479310e-01, 5.69316912e-01, 5.32318109e-01, 6.21363981e-01,\n",
       "       5.37516117e-01, 3.34164272e-02, 6.85349203e-01, 5.87960428e-01,\n",
       "       2.28545381e-01, 4.53774804e-02, 2.75032402e-02, 1.44577220e-02,\n",
       "       4.42267519e-01, 5.69316912e-01, 1.26489156e-02, 1.84492229e-02,\n",
       "       7.37878707e-01, 7.06808857e-01, 4.41900411e-02, 1.17085854e-02,\n",
       "       6.07000139e-01, 7.86733154e-01, 4.89710197e-01, 2.94056152e-02,\n",
       "       7.32620243e-01, 6.37140072e-01, 6.91215593e-01, 7.45610486e-01,\n",
       "       9.09090909e-04, 6.45381103e-01, 1.50389610e-03, 1.54932094e-02,\n",
       "       1.33333333e-03, 6.61877663e-01, 7.69452170e-01, 8.69430288e-02,\n",
       "       2.93884994e-02, 5.61427110e-01, 6.65467456e-01, 6.96895806e-01,\n",
       "       6.21023705e-01, 7.19145056e-01, 1.22084121e-01, 1.32952067e-02,\n",
       "       5.02374458e-01, 6.60920795e-01, 6.23088145e-01, 3.37318245e-02,\n",
       "       9.35308860e-03, 5.65227909e-03, 2.59497029e-02, 5.43430103e-01,\n",
       "       6.72463707e-01, 1.26215354e-01, 6.65467456e-01, 7.06808857e-01,\n",
       "       6.45381103e-01, 1.22615440e-02, 5.98273302e-02, 7.29960981e-03,\n",
       "       5.94608139e-01, 1.16590811e-02, 3.25351774e-02, 6.52638545e-01,\n",
       "       5.26178525e-02, 5.46907125e-01, 3.06060606e-03, 1.00981357e-01,\n",
       "       7.27781168e-01, 1.73542425e-02, 6.02696994e-01, 3.25351774e-02,\n",
       "       0.00000000e+00, 1.39078283e-02, 7.85382180e-01, 0.00000000e+00,\n",
       "       7.13542658e-01, 5.64710629e-02, 3.66711021e-01, 0.00000000e+00,\n",
       "       0.00000000e+00, 0.00000000e+00, 7.60662415e-01, 8.72029529e-02,\n",
       "       6.70142105e-01, 1.19660053e-02, 6.18844630e-01, 3.87613806e-02,\n",
       "       8.30973758e-02, 8.42353225e-01, 0.00000000e+00, 0.00000000e+00,\n",
       "       3.20625585e-02, 1.78265772e-02, 7.68680044e-01, 4.11509046e-01,\n",
       "       4.83263582e-03, 9.67639451e-03, 6.76567695e-01, 7.34490312e-01,\n",
       "       7.73246003e-01, 4.91452991e-03, 7.87362988e-01, 6.67235091e-02,\n",
       "       1.49310052e-01, 3.75805924e-02, 7.78010100e-01, 1.21903595e-02,\n",
       "       7.75789404e-01, 5.48802418e-01, 6.60519700e-01, 3.89178512e-01,\n",
       "       3.60978166e-02, 1.13448732e-01, 0.00000000e+00, 2.17948533e-02,\n",
       "       1.50389610e-03, 8.42353225e-01, 4.16848176e-01, 8.54057960e-01,\n",
       "       4.66022424e-01, 5.36480558e-01, 8.49796233e-01, 6.21023705e-01,\n",
       "       1.09880133e-02, 4.84676787e-01, 7.93650794e-04, 1.06060606e-03,\n",
       "       3.27630949e-01, 3.41016089e-01, 7.88223844e-01, 6.82711098e-01,\n",
       "       7.35743920e-02, 2.38794217e-03, 6.94909833e-03, 3.49134199e-03,\n",
       "       3.09984752e-01, 2.94052458e-02, 5.69316912e-01, 5.42827442e-01,\n",
       "       7.54778286e-01, 6.59964349e-03, 5.59503755e-01, 4.51109336e-01,\n",
       "       2.56140351e-03, 4.73222661e-01, 6.31203560e-01, 5.15025287e-03,\n",
       "       3.20153023e-01, 5.41666667e-03, 5.66994409e-03, 4.13905020e-01,\n",
       "       8.08025044e-01, 5.33870909e-03, 1.96018482e-01, 6.61344531e-01,\n",
       "       6.59102928e-01, 5.76096698e-01, 5.32345064e-02, 6.25537467e-01,\n",
       "       6.27143295e-01, 1.96018482e-01, 5.82432259e-01, 5.95815824e-01,\n",
       "       8.13304156e-01, 3.07863923e-02, 5.08912023e-01, 1.84492229e-02,\n",
       "       8.13852814e-03, 7.82529240e-03, 2.14287701e-02, 6.60519700e-01,\n",
       "       8.08658662e-01, 2.75032402e-02, 1.19660053e-02, 1.03919052e-01,\n",
       "       3.20153023e-01, 1.19888064e-02, 6.83735284e-01, 2.01299603e-02,\n",
       "       7.07817582e-01, 4.77918425e-01, 6.21023705e-01, 8.64197531e-04,\n",
       "       8.72029529e-02, 6.16844123e-01, 6.10782802e-01, 5.47128582e-02,\n",
       "       5.30672522e-01, 5.52612448e-01, 8.42154787e-03, 3.07863923e-02,\n",
       "       0.00000000e+00, 6.86778499e-03, 3.39181287e-03, 7.55022295e-01,\n",
       "       1.85185185e-04, 9.06656576e-01, 6.98529412e-03, 3.40104271e-02,\n",
       "       4.59957365e-03, 4.91432212e-01, 1.01459890e-02, 1.84492229e-02,\n",
       "       6.97801840e-01, 6.60920795e-01, 6.28104284e-01, 7.16946166e-01,\n",
       "       1.52375077e-02, 2.83645822e-01, 6.97959528e-03, 6.65462809e-01,\n",
       "       6.76618456e-01, 0.00000000e+00, 5.87960428e-01, 3.99934124e-03,\n",
       "       8.77584236e-01, 5.46907125e-01, 5.77467910e-01, 4.34848485e-03,\n",
       "       6.54981415e-01, 1.44725911e-02, 4.27598613e-01, 7.94414736e-03,\n",
       "       4.29390906e-01, 2.12260361e-03, 5.69984138e-01, 5.01575209e-01,\n",
       "       8.14913935e-01, 8.17081067e-03, 1.26516799e-01, 8.16593327e-01,\n",
       "       1.70234609e-01, 8.64839820e-02, 4.84655131e-01, 4.37172109e-02,\n",
       "       1.11428080e-02, 6.91215593e-01, 1.31462594e-02, 1.82114159e-02,\n",
       "       6.24700839e-01, 2.28545381e-01, 1.11090522e-02, 5.95644725e-01,\n",
       "       1.17150844e-02, 0.00000000e+00, 5.50672872e-02, 6.57873215e-02,\n",
       "       7.96366402e-03, 4.42293263e-01, 4.49337680e-01, 6.10782802e-01,\n",
       "       5.65593263e-03, 2.05230055e-01, 1.24348417e-02, 6.28897348e-03,\n",
       "       4.08345149e-02, 7.72913019e-01, 4.19319826e-03, 3.66666667e-03,\n",
       "       8.19917198e-01, 5.82339113e-01, 7.97344589e-01, 5.26962945e-02,\n",
       "       5.45822853e-01, 8.62399877e-01, 4.59752320e-01, 2.44397288e-01,\n",
       "       6.27143295e-01, 7.62038926e-01, 4.98014908e-02, 2.67331434e-03,\n",
       "       1.29629630e-03, 4.19319826e-03, 2.31746032e-03, 9.33618592e-01,\n",
       "       8.74391932e-02, 8.65554654e-01, 5.31860300e-01, 8.64321838e-03,\n",
       "       6.13793493e-01, 1.13083651e-02, 7.28332140e-01, 7.79037559e-01,\n",
       "       4.50402576e-03, 1.30434271e-02, 3.43358396e-03, 2.00251723e-01,\n",
       "       7.16985734e-01, 3.30676736e-02, 1.17085854e-02, 9.75667343e-01,\n",
       "       1.19660053e-02, 6.50899932e-01, 5.32318109e-01, 0.00000000e+00,\n",
       "       5.61427110e-01, 6.25537467e-01, 1.01317182e-02, 6.08344460e-01,\n",
       "       4.32323336e-01, 7.08262108e-03, 3.22595840e-01, 2.99735510e-02,\n",
       "       6.50550428e-01, 7.64068204e-01, 0.00000000e+00, 2.38415483e-02,\n",
       "       0.00000000e+00, 6.40029773e-03, 4.34640523e-03, 4.28358274e-02,\n",
       "       1.21212121e-03, 6.56648825e-01, 5.69984138e-01, 1.24368530e-02,\n",
       "       6.16277056e-03, 4.61804862e-03, 5.46907125e-01, 9.35308860e-03,\n",
       "       2.99735510e-02, 8.18171832e-01, 5.42827442e-01, 1.03919052e-01,\n",
       "       5.33507182e-01, 8.33333333e-04, 7.52778640e-01, 2.57526533e-01,\n",
       "       0.00000000e+00, 7.21456846e-01, 2.49086048e-02, 2.23545458e-02,\n",
       "       1.79892973e-01, 7.93650794e-04, 9.75667343e-01, 1.06060606e-03,\n",
       "       2.99735510e-02, 8.44275171e-01, 7.22779496e-01, 7.73349675e-03,\n",
       "       6.76175937e-01, 6.38375609e-01, 1.33333333e-03, 3.71630665e-01,\n",
       "       9.35267856e-02, 5.64710629e-02, 4.08979909e-03, 1.29629630e-03,\n",
       "       1.75653595e-03, 3.34164272e-02, 4.42267519e-01, 2.75032402e-02,\n",
       "       5.48802418e-01, 4.89195259e-01, 7.72913019e-01, 4.48985103e-01,\n",
       "       5.62221063e-01, 1.10392976e-01, 6.07982835e-01, 5.45503369e-01,\n",
       "       8.44275171e-01, 4.91452991e-03, 3.67221116e-01, 0.00000000e+00,\n",
       "       6.53517640e-01, 7.43942519e-01, 5.98273302e-02, 4.81790536e-01,\n",
       "       7.07817582e-01, 6.59964349e-03, 1.16756440e-02, 7.96366402e-03,\n",
       "       4.62438801e-01, 1.29490696e-02, 5.82339113e-01, 4.07725933e-02,\n",
       "       7.29238137e-03, 3.75124066e-02, 5.26962945e-02, 8.91074666e-01,\n",
       "       7.17027820e-01, 4.72663797e-01, 4.59752320e-01, 1.70850047e-02,\n",
       "       0.00000000e+00, 7.86844665e-01, 6.05896973e-01, 6.49680921e-01,\n",
       "       0.00000000e+00, 1.67647480e-02, 6.09015299e-01, 6.62158630e-01,\n",
       "       3.64746484e-02, 5.85209018e-01, 6.46387014e-01, 7.22779496e-01,\n",
       "       6.13124670e-01, 4.79268370e-03, 7.97344589e-01, 2.01923077e-03,\n",
       "       3.44713106e-01, 8.23711952e-01, 6.75416524e-01, 8.28886854e-03,\n",
       "       1.51264034e-02, 1.17150844e-02, 6.61815650e-01, 6.93153895e-01,\n",
       "       1.24368530e-02, 1.01459890e-02, 4.99995310e-02, 7.80555797e-01,\n",
       "       7.21385836e-01, 8.41314186e-01, 1.56829831e-02, 8.05991618e-01,\n",
       "       7.38160968e-01, 6.87318186e-01, 5.77467910e-01, 3.35777824e-02,\n",
       "       4.57959758e-01, 8.01696686e-01, 8.13304156e-01, 5.66040843e-03,\n",
       "       2.64642375e-03, 0.00000000e+00, 4.35696950e-01, 4.11509046e-01,\n",
       "       6.56648825e-01, 6.62158630e-01, 7.64355803e-01, 4.24996858e-01,\n",
       "       4.83263582e-03, 5.77053811e-01, 7.86412737e-01, 6.51708361e-01,\n",
       "       1.83238197e-01, 7.55022295e-01, 2.94868434e-02, 5.23225707e-01,\n",
       "       4.58989354e-01, 1.83238197e-01, 5.66040843e-03, 1.56529126e-02,\n",
       "       4.37920660e-02, 3.80844646e-03, 6.46081879e-01, 2.15120493e-01,\n",
       "       1.06060606e-03, 2.43595047e-02, 0.00000000e+00, 1.92219680e-03,\n",
       "       5.69316912e-01, 5.66378066e-03, 5.97500528e-01, 7.90919493e-01,\n",
       "       9.09165494e-01, 8.47567586e-01, 6.76618456e-01, 7.13140171e-03,\n",
       "       5.74580869e-02, 9.28193952e-03, 2.59518663e-01, 8.43870555e-02,\n",
       "       1.78070848e-02, 1.13915223e-02, 7.88744758e-02, 2.59518663e-01,\n",
       "       2.76418707e-01, 7.31604155e-01, 1.49259567e-01, 1.17150844e-02,\n",
       "       8.24364152e-01, 4.67682727e-02, 3.60929557e-03, 6.91628347e-01,\n",
       "       6.99205554e-01, 3.99934124e-03, 7.73349675e-03, 6.61517234e-01,\n",
       "       6.61344531e-01, 5.87907571e-02, 4.09637807e-01, 5.33870909e-03])"
      ]
     },
     "execution_count": 66,
     "metadata": {},
     "output_type": "execute_result"
    }
   ],
   "source": [
    "model_rfc.predict_proba(X_test)[:,1]"
   ]
  },
  {
   "cell_type": "code",
   "execution_count": 67,
   "id": "d3bfdbbd",
   "metadata": {},
   "outputs": [
    {
     "name": "stdout",
     "output_type": "stream",
     "text": [
      "Running on local URL:  http://127.0.0.1:7862\n",
      "\n",
      "To create a public link, set `share=True` in `launch()`.\n"
     ]
    },
    {
     "data": {
      "text/html": [
       "<div><iframe src=\"http://127.0.0.1:7862/\" width=\"100%\" height=\"500\" allow=\"autoplay; camera; microphone; clipboard-read; clipboard-write;\" frameborder=\"0\" allowfullscreen></iframe></div>"
      ],
      "text/plain": [
       "<IPython.core.display.HTML object>"
      ]
     },
     "metadata": {},
     "output_type": "display_data"
    },
    {
     "data": {
      "text/plain": []
     },
     "execution_count": 67,
     "metadata": {},
     "output_type": "execute_result"
    },
    {
     "name": "stderr",
     "output_type": "stream",
     "text": [
      "C:\\Users\\User\\anaconda3\\lib\\site-packages\\sklearn\\base.py:493: FutureWarning: The feature names should match those that were passed during fit. Starting version 1.2, an error will be raised.\n",
      "Feature names unseen at fit time:\n",
      "-  Age\n",
      "Feature names seen at fit time, yet now missing:\n",
      "- Age\n",
      "\n",
      "  warnings.warn(message, FutureWarning)\n"
     ]
    }
   ],
   "source": [
    "import gradio as gr\n",
    "\n",
    "# create a function to predict stroke\n",
    "def predicta(Gender, Age, Smoking, Fatigue, Allergy):\n",
    "    \n",
    "    # create a dataframe with the inputs\n",
    "    df = pd.DataFrame({\n",
    "        'Gender': [Gender], \n",
    "        ' Age':[ Age],\n",
    "        'Smoking': [Smoking],\n",
    "        'Fatigue': [Fatigue],\n",
    "        'Allergy': [Allergy]\n",
    "    })\n",
    "    \n",
    "    # make prediction\n",
    "    y_pred = model_rfc.predict_proba(df)[:,1] \n",
    "    \n",
    "    \n",
    "    # return the stroke probability\n",
    "    return y_pred[0]\n",
    "    \n",
    "    # return the stroke probability\n",
    "\n",
    "# give the function an interface\n",
    "app = gr.Interface(\n",
    "    title= \"Cancer Prediction App\",\n",
    "    fn=predicta,\n",
    "    inputs=[\"number\",\"number\", \"number\", \"number\", \"number\"],\n",
    "    outputs=[\"number\"]\n",
    ")\n",
    "app.launch()"
   ]
  }
 ],
 "metadata": {
  "kernelspec": {
   "display_name": "Python 3 (ipykernel)",
   "language": "python",
   "name": "python3"
  },
  "language_info": {
   "codemirror_mode": {
    "name": "ipython",
    "version": 3
   },
   "file_extension": ".py",
   "mimetype": "text/x-python",
   "name": "python",
   "nbconvert_exporter": "python",
   "pygments_lexer": "ipython3",
   "version": "3.9.12"
  }
 },
 "nbformat": 4,
 "nbformat_minor": 5
}
